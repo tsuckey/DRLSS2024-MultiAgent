{
 "cells": [
  {
   "cell_type": "markdown",
   "id": "ff4488f4",
   "metadata": {},
   "source": [
    "# AgileRL Basketball Pong with MATD3\n",
    "https://docs.agilerl.com/en/latest/tutorials/pettingzoo/matd3.html"
   ]
  },
  {
   "cell_type": "code",
   "execution_count": 1,
   "id": "dc69b66d-50af-4ab2-9c4b-8370ecd819d0",
   "metadata": {},
   "outputs": [
    {
     "name": "stdout",
     "output_type": "stream",
     "text": [
      "Python 3.10.14\n"
     ]
    }
   ],
   "source": [
    "!python -V"
   ]
  },
  {
   "cell_type": "code",
   "execution_count": 2,
   "id": "a9b039f0",
   "metadata": {},
   "outputs": [
    {
     "name": "stdout",
     "output_type": "stream",
     "text": [
      "Requirement already satisfied: pip in /Users/work/work-DRLLSS2024/venv-atari/lib/python3.10/site-packages (24.0)\n"
     ]
    }
   ],
   "source": [
    "!pip install --upgrade pip"
   ]
  },
  {
   "cell_type": "code",
   "execution_count": 3,
   "id": "ba031e05-4822-4ce2-acfb-0cf92b11910e",
   "metadata": {},
   "outputs": [
    {
     "name": "stdout",
     "output_type": "stream",
     "text": [
      "Collecting numpy==1.24.2\n",
      "  Using cached numpy-1.24.2-cp310-cp310-macosx_10_9_x86_64.whl.metadata (5.6 kB)\n",
      "Using cached numpy-1.24.2-cp310-cp310-macosx_10_9_x86_64.whl (19.8 MB)\n",
      "Installing collected packages: numpy\n",
      "Successfully installed numpy-1.24.2\n"
     ]
    }
   ],
   "source": [
    "!pip install numpy==1.24.2"
   ]
  },
  {
   "cell_type": "code",
   "execution_count": 4,
   "id": "6670f3ca-a919-4345-b839-ddc3eb2f55c1",
   "metadata": {},
   "outputs": [
    {
     "name": "stdout",
     "output_type": "stream",
     "text": [
      "Collecting supersuit==3.9.0\n",
      "  Using cached SuperSuit-3.9.0-py3-none-any.whl.metadata (3.0 kB)\n",
      "Requirement already satisfied: numpy>=1.19.0 in /Users/work/work-DRLLSS2024/venv-atari/lib/python3.10/site-packages (from supersuit==3.9.0) (1.24.2)\n",
      "Collecting gymnasium>=0.28.1 (from supersuit==3.9.0)\n",
      "  Using cached gymnasium-0.29.1-py3-none-any.whl.metadata (10 kB)\n",
      "Collecting tinyscaler>=1.2.6 (from supersuit==3.9.0)\n",
      "  Using cached tinyscaler-1.2.7-cp310-cp310-macosx_11_0_x86_64.whl.metadata (4.2 kB)\n",
      "Collecting cloudpickle>=1.2.0 (from gymnasium>=0.28.1->supersuit==3.9.0)\n",
      "  Using cached cloudpickle-3.0.0-py3-none-any.whl.metadata (7.0 kB)\n",
      "Requirement already satisfied: typing-extensions>=4.3.0 in /Users/work/work-DRLLSS2024/venv-atari/lib/python3.10/site-packages (from gymnasium>=0.28.1->supersuit==3.9.0) (4.10.0)\n",
      "Collecting farama-notifications>=0.0.1 (from gymnasium>=0.28.1->supersuit==3.9.0)\n",
      "  Using cached Farama_Notifications-0.0.4-py3-none-any.whl.metadata (558 bytes)\n",
      "Using cached SuperSuit-3.9.0-py3-none-any.whl (49 kB)\n",
      "Using cached gymnasium-0.29.1-py3-none-any.whl (953 kB)\n",
      "Using cached tinyscaler-1.2.7-cp310-cp310-macosx_11_0_x86_64.whl (96 kB)\n",
      "Using cached cloudpickle-3.0.0-py3-none-any.whl (20 kB)\n",
      "Using cached Farama_Notifications-0.0.4-py3-none-any.whl (2.5 kB)\n",
      "Installing collected packages: farama-notifications, tinyscaler, cloudpickle, gymnasium, supersuit\n",
      "Successfully installed cloudpickle-3.0.0 farama-notifications-0.0.4 gymnasium-0.29.1 supersuit-3.9.0 tinyscaler-1.2.7\n"
     ]
    }
   ],
   "source": [
    "!pip install supersuit==3.9.0"
   ]
  },
  {
   "cell_type": "code",
   "execution_count": 5,
   "id": "ffde7aa6-7e95-4624-9bbc-fe76009a7953",
   "metadata": {},
   "outputs": [
    {
     "name": "stdout",
     "output_type": "stream",
     "text": [
      "Collecting pettingzoo==1.23.1 (from pettingzoo[atari,classic,mpe]==1.23.1)\n",
      "  Using cached pettingzoo-1.23.1-py3-none-any.whl.metadata (7.9 kB)\n",
      "Requirement already satisfied: numpy>=1.21.0 in /Users/work/work-DRLLSS2024/venv-atari/lib/python3.10/site-packages (from pettingzoo==1.23.1->pettingzoo[atari,classic,mpe]==1.23.1) (1.24.2)\n",
      "Requirement already satisfied: gymnasium>=0.28.0 in /Users/work/work-DRLLSS2024/venv-atari/lib/python3.10/site-packages (from pettingzoo==1.23.1->pettingzoo[atari,classic,mpe]==1.23.1) (0.29.1)\n",
      "Collecting pygame==2.3.0 (from pettingzoo[atari,classic,mpe]==1.23.1)\n",
      "  Using cached pygame-2.3.0-cp310-cp310-macosx_10_9_x86_64.whl.metadata (10 kB)\n",
      "Collecting multi-agent-ale-py==0.1.11 (from pettingzoo[atari,classic,mpe]==1.23.1)\n",
      "  Using cached multi_agent_ale_py-0.1.11-cp310-cp310-macosx_14_0_x86_64.whl\n",
      "Collecting chess==1.7.0 (from pettingzoo[atari,classic,mpe]==1.23.1)\n",
      "  Using cached chess-1.7.0-py3-none-any.whl.metadata (18 kB)\n",
      "Collecting rlcard==1.0.5 (from pettingzoo[atari,classic,mpe]==1.23.1)\n",
      "  Using cached rlcard-1.0.5-py3-none-any.whl\n",
      "Collecting hanabi-learning-environment==0.0.4 (from pettingzoo[atari,classic,mpe]==1.23.1)\n",
      "  Using cached hanabi_learning_environment-0.0.4-cp310-cp310-macosx_14_0_x86_64.whl\n",
      "Requirement already satisfied: cffi in /Users/work/work-DRLLSS2024/venv-atari/lib/python3.10/site-packages (from hanabi-learning-environment==0.0.4->pettingzoo[atari,classic,mpe]==1.23.1) (1.16.0)\n",
      "Collecting termcolor (from rlcard==1.0.5->pettingzoo[atari,classic,mpe]==1.23.1)\n",
      "  Using cached termcolor-2.4.0-py3-none-any.whl.metadata (6.1 kB)\n",
      "Requirement already satisfied: cloudpickle>=1.2.0 in /Users/work/work-DRLLSS2024/venv-atari/lib/python3.10/site-packages (from gymnasium>=0.28.0->pettingzoo==1.23.1->pettingzoo[atari,classic,mpe]==1.23.1) (3.0.0)\n",
      "Requirement already satisfied: typing-extensions>=4.3.0 in /Users/work/work-DRLLSS2024/venv-atari/lib/python3.10/site-packages (from gymnasium>=0.28.0->pettingzoo==1.23.1->pettingzoo[atari,classic,mpe]==1.23.1) (4.10.0)\n",
      "Requirement already satisfied: farama-notifications>=0.0.1 in /Users/work/work-DRLLSS2024/venv-atari/lib/python3.10/site-packages (from gymnasium>=0.28.0->pettingzoo==1.23.1->pettingzoo[atari,classic,mpe]==1.23.1) (0.0.4)\n",
      "Requirement already satisfied: pycparser in /Users/work/work-DRLLSS2024/venv-atari/lib/python3.10/site-packages (from cffi->hanabi-learning-environment==0.0.4->pettingzoo[atari,classic,mpe]==1.23.1) (2.21)\n",
      "Using cached pettingzoo-1.23.1-py3-none-any.whl (826 kB)\n",
      "Using cached chess-1.7.0-py3-none-any.whl (147 kB)\n",
      "Using cached pygame-2.3.0-cp310-cp310-macosx_10_9_x86_64.whl (13.0 MB)\n",
      "Using cached termcolor-2.4.0-py3-none-any.whl (7.7 kB)\n",
      "Installing collected packages: termcolor, pygame, multi-agent-ale-py, chess, rlcard, pettingzoo, hanabi-learning-environment\n",
      "Successfully installed chess-1.7.0 hanabi-learning-environment-0.0.4 multi-agent-ale-py-0.1.11 pettingzoo-1.23.1 pygame-2.3.0 rlcard-1.0.5 termcolor-2.4.0\n"
     ]
    }
   ],
   "source": [
    "#!pip install pettingzoo==1.23.1\n",
    "!pip install \"\"\"pettingzoo[classic,atari,mpe]==1.23.1\"\"\""
   ]
  },
  {
   "cell_type": "code",
   "execution_count": 6,
   "id": "aebab40c-0002-49bd-ba96-16a3803f71ef",
   "metadata": {
    "scrolled": true
   },
   "outputs": [
    {
     "name": "stdout",
     "output_type": "stream",
     "text": [
      "Collecting agilerl==0.1.16\n",
      "  Using cached agilerl-0.1.16-py3-none-any.whl.metadata (62 kB)\n",
      "Requirement already satisfied: SuperSuit<4.0.0,>=3.9.0 in /Users/work/work-DRLLSS2024/venv-atari/lib/python3.10/site-packages (from agilerl==0.1.16) (3.9.0)\n",
      "Collecting accelerate<0.19.0,>=0.18.0 (from agilerl==0.1.16)\n",
      "  Using cached accelerate-0.18.0-py3-none-any.whl.metadata (16 kB)\n",
      "Collecting dill<0.4.0,>=0.3.7 (from agilerl==0.1.16)\n",
      "  Using cached dill-0.3.8-py3-none-any.whl.metadata (10 kB)\n",
      "Collecting fastrand<2.0.0,>=1.3.0 (from agilerl==0.1.16)\n",
      "  Using cached fastrand-1.8.0-cp310-cp310-macosx_10_9_x86_64.whl.metadata (2.9 kB)\n",
      "Collecting flatten_dict<0.5.0,>=0.4.2 (from agilerl==0.1.16)\n",
      "  Using cached flatten_dict-0.4.2-py2.py3-none-any.whl.metadata (9.2 kB)\n",
      "Collecting gymnasium<0.29.0,>=0.28.1 (from agilerl==0.1.16)\n",
      "  Using cached gymnasium-0.28.1-py3-none-any.whl.metadata (9.2 kB)\n",
      "Collecting h5py<4.0.0,>=3.8.0 (from agilerl==0.1.16)\n",
      "  Using cached h5py-3.10.0-cp310-cp310-macosx_10_9_x86_64.whl.metadata (2.5 kB)\n",
      "Collecting hydra-core<2.0.0,>=1.3.2 (from agilerl==0.1.16)\n",
      "  Using cached hydra_core-1.3.2-py3-none-any.whl.metadata (5.5 kB)\n",
      "Collecting importlib<2.0.0,>=1.0.4 (from agilerl==0.1.16)\n",
      "  Using cached importlib-1.0.4-py3-none-any.whl\n",
      "Collecting matplotlib<4.0.0,>=3.4.3 (from agilerl==0.1.16)\n",
      "  Using cached matplotlib-3.8.3-cp310-cp310-macosx_10_12_x86_64.whl.metadata (5.8 kB)\n",
      "Collecting minari<0.5.0,>=0.4.1 (from agilerl==0.1.16)\n",
      "  Using cached minari-0.4.3-py3-none-any.whl.metadata (4.6 kB)\n",
      "Requirement already satisfied: numpy<2.0.0,>=1.24.2 in /Users/work/work-DRLLSS2024/venv-atari/lib/python3.10/site-packages (from agilerl==0.1.16) (1.24.2)\n",
      "Collecting omegaconf<3.0.0,>=2.3.0 (from agilerl==0.1.16)\n",
      "  Using cached omegaconf-2.3.0-py3-none-any.whl.metadata (3.9 kB)\n",
      "Requirement already satisfied: pettingzoo<2.0.0,>=1.23.1 in /Users/work/work-DRLLSS2024/venv-atari/lib/python3.10/site-packages (from agilerl==0.1.16) (1.23.1)\n",
      "Collecting pre-commit<4.0.0,>=3.4.0 (from agilerl==0.1.16)\n",
      "  Using cached pre_commit-3.6.2-py2.py3-none-any.whl.metadata (1.3 kB)\n",
      "Collecting redis<5.0.0,>=4.4.4 (from agilerl==0.1.16)\n",
      "  Using cached redis-4.6.0-py3-none-any.whl.metadata (8.3 kB)\n",
      "Collecting termcolor<2.0.0,>=1.1.0 (from agilerl==0.1.16)\n",
      "  Using cached termcolor-1.1.0-py3-none-any.whl\n",
      "Collecting torch<3.0.0,>=2.0.1 (from agilerl==0.1.16)\n",
      "  Using cached torch-2.2.1-cp310-none-macosx_10_9_x86_64.whl.metadata (25 kB)\n",
      "Collecting tqdm<5.0.0,>=4.65.0 (from agilerl==0.1.16)\n",
      "  Using cached tqdm-4.66.2-py3-none-any.whl.metadata (57 kB)\n",
      "Collecting transformers<5.0.0,>=4.30.0 (from agilerl==0.1.16)\n",
      "  Using cached transformers-4.38.2-py3-none-any.whl.metadata (130 kB)\n",
      "Collecting wandb<0.14.0,>=0.13.10 (from agilerl==0.1.16)\n",
      "  Using cached wandb-0.13.11-py3-none-any.whl.metadata (7.9 kB)\n",
      "Requirement already satisfied: packaging>=20.0 in /Users/work/work-DRLLSS2024/venv-atari/lib/python3.10/site-packages (from accelerate<0.19.0,>=0.18.0->agilerl==0.1.16) (24.0)\n",
      "Requirement already satisfied: psutil in /Users/work/work-DRLLSS2024/venv-atari/lib/python3.10/site-packages (from accelerate<0.19.0,>=0.18.0->agilerl==0.1.16) (5.9.8)\n",
      "Requirement already satisfied: pyyaml in /Users/work/work-DRLLSS2024/venv-atari/lib/python3.10/site-packages (from accelerate<0.19.0,>=0.18.0->agilerl==0.1.16) (6.0.1)\n",
      "Requirement already satisfied: six<2.0,>=1.12 in /Users/work/work-DRLLSS2024/venv-atari/lib/python3.10/site-packages (from flatten_dict<0.5.0,>=0.4.2->agilerl==0.1.16) (1.16.0)\n",
      "Collecting jax-jumpy>=1.0.0 (from gymnasium<0.29.0,>=0.28.1->agilerl==0.1.16)\n",
      "  Using cached jax_jumpy-1.0.0-py3-none-any.whl.metadata (15 kB)\n",
      "Requirement already satisfied: cloudpickle>=1.2.0 in /Users/work/work-DRLLSS2024/venv-atari/lib/python3.10/site-packages (from gymnasium<0.29.0,>=0.28.1->agilerl==0.1.16) (3.0.0)\n",
      "Requirement already satisfied: typing-extensions>=4.3.0 in /Users/work/work-DRLLSS2024/venv-atari/lib/python3.10/site-packages (from gymnasium<0.29.0,>=0.28.1->agilerl==0.1.16) (4.10.0)\n",
      "Requirement already satisfied: farama-notifications>=0.0.1 in /Users/work/work-DRLLSS2024/venv-atari/lib/python3.10/site-packages (from gymnasium<0.29.0,>=0.28.1->agilerl==0.1.16) (0.0.4)\n",
      "Collecting antlr4-python3-runtime==4.9.* (from hydra-core<2.0.0,>=1.3.2->agilerl==0.1.16)\n",
      "  Using cached antlr4_python3_runtime-4.9.3-py3-none-any.whl\n",
      "Collecting contourpy>=1.0.1 (from matplotlib<4.0.0,>=3.4.3->agilerl==0.1.16)\n",
      "  Using cached contourpy-1.2.0-cp310-cp310-macosx_10_9_x86_64.whl.metadata (5.8 kB)\n",
      "Collecting cycler>=0.10 (from matplotlib<4.0.0,>=3.4.3->agilerl==0.1.16)\n",
      "  Using cached cycler-0.12.1-py3-none-any.whl.metadata (3.8 kB)\n",
      "Collecting fonttools>=4.22.0 (from matplotlib<4.0.0,>=3.4.3->agilerl==0.1.16)\n",
      "  Using cached fonttools-4.50.0-cp310-cp310-macosx_10_9_x86_64.whl.metadata (159 kB)\n",
      "Collecting kiwisolver>=1.3.1 (from matplotlib<4.0.0,>=3.4.3->agilerl==0.1.16)\n",
      "  Using cached kiwisolver-1.4.5-cp310-cp310-macosx_10_9_x86_64.whl.metadata (6.4 kB)\n",
      "Collecting pillow>=8 (from matplotlib<4.0.0,>=3.4.3->agilerl==0.1.16)\n",
      "  Using cached pillow-10.2.0-cp310-cp310-macosx_10_10_x86_64.whl.metadata (9.7 kB)\n",
      "Collecting pyparsing>=2.3.1 (from matplotlib<4.0.0,>=3.4.3->agilerl==0.1.16)\n",
      "  Using cached pyparsing-3.1.2-py3-none-any.whl.metadata (5.1 kB)\n",
      "Requirement already satisfied: python-dateutil>=2.7 in /Users/work/work-DRLLSS2024/venv-atari/lib/python3.10/site-packages (from matplotlib<4.0.0,>=3.4.3->agilerl==0.1.16) (2.9.0.post0)\n",
      "Collecting google-cloud-storage>=2.5.0 (from minari<0.5.0,>=0.4.1->agilerl==0.1.16)\n",
      "  Using cached google_cloud_storage-2.16.0-py2.py3-none-any.whl.metadata (6.1 kB)\n",
      "Collecting typer>=0.9.0 (from typer[all]>=0.9.0->minari<0.5.0,>=0.4.1->agilerl==0.1.16)\n",
      "  Using cached typer-0.9.0-py3-none-any.whl.metadata (14 kB)\n",
      "Collecting portion>=2.4.0 (from minari<0.5.0,>=0.4.1->agilerl==0.1.16)\n",
      "  Using cached portion-2.4.2-py3-none-any.whl.metadata (33 kB)\n",
      "Collecting cfgv>=2.0.0 (from pre-commit<4.0.0,>=3.4.0->agilerl==0.1.16)\n",
      "  Using cached cfgv-3.4.0-py2.py3-none-any.whl.metadata (8.5 kB)\n",
      "Collecting identify>=1.0.0 (from pre-commit<4.0.0,>=3.4.0->agilerl==0.1.16)\n",
      "  Using cached identify-2.5.35-py2.py3-none-any.whl.metadata (4.4 kB)\n",
      "Collecting nodeenv>=0.11.1 (from pre-commit<4.0.0,>=3.4.0->agilerl==0.1.16)\n",
      "  Using cached nodeenv-1.8.0-py2.py3-none-any.whl.metadata (21 kB)\n",
      "Collecting virtualenv>=20.10.0 (from pre-commit<4.0.0,>=3.4.0->agilerl==0.1.16)\n",
      "  Using cached virtualenv-20.25.1-py3-none-any.whl.metadata (4.4 kB)\n",
      "Collecting async-timeout>=4.0.2 (from redis<5.0.0,>=4.4.4->agilerl==0.1.16)\n",
      "  Using cached async_timeout-4.0.3-py3-none-any.whl.metadata (4.2 kB)\n",
      "Requirement already satisfied: tinyscaler>=1.2.6 in /Users/work/work-DRLLSS2024/venv-atari/lib/python3.10/site-packages (from SuperSuit<4.0.0,>=3.9.0->agilerl==0.1.16) (1.2.7)\n",
      "Collecting filelock (from torch<3.0.0,>=2.0.1->agilerl==0.1.16)\n",
      "  Using cached filelock-3.13.1-py3-none-any.whl.metadata (2.8 kB)\n",
      "Collecting sympy (from torch<3.0.0,>=2.0.1->agilerl==0.1.16)\n",
      "  Using cached sympy-1.12-py3-none-any.whl.metadata (12 kB)\n",
      "Collecting networkx (from torch<3.0.0,>=2.0.1->agilerl==0.1.16)\n",
      "  Using cached networkx-3.2.1-py3-none-any.whl.metadata (5.2 kB)\n",
      "Requirement already satisfied: jinja2 in /Users/work/work-DRLLSS2024/venv-atari/lib/python3.10/site-packages (from torch<3.0.0,>=2.0.1->agilerl==0.1.16) (3.1.3)\n",
      "Collecting fsspec (from torch<3.0.0,>=2.0.1->agilerl==0.1.16)\n",
      "  Using cached fsspec-2024.3.1-py3-none-any.whl.metadata (6.8 kB)\n",
      "Collecting huggingface-hub<1.0,>=0.19.3 (from transformers<5.0.0,>=4.30.0->agilerl==0.1.16)\n",
      "  Using cached huggingface_hub-0.21.4-py3-none-any.whl.metadata (13 kB)\n",
      "Collecting regex!=2019.12.17 (from transformers<5.0.0,>=4.30.0->agilerl==0.1.16)\n",
      "  Using cached regex-2023.12.25-cp310-cp310-macosx_10_9_x86_64.whl.metadata (40 kB)\n",
      "Requirement already satisfied: requests in /Users/work/work-DRLLSS2024/venv-atari/lib/python3.10/site-packages (from transformers<5.0.0,>=4.30.0->agilerl==0.1.16) (2.31.0)\n",
      "Collecting tokenizers<0.19,>=0.14 (from transformers<5.0.0,>=4.30.0->agilerl==0.1.16)\n",
      "  Using cached tokenizers-0.15.2-cp310-cp310-macosx_10_12_x86_64.whl.metadata (6.7 kB)\n",
      "Collecting safetensors>=0.4.1 (from transformers<5.0.0,>=4.30.0->agilerl==0.1.16)\n",
      "  Using cached safetensors-0.4.2-cp310-cp310-macosx_10_12_x86_64.whl.metadata (3.8 kB)\n",
      "Collecting Click!=8.0.0,>=7.0 (from wandb<0.14.0,>=0.13.10->agilerl==0.1.16)\n",
      "  Using cached click-8.1.7-py3-none-any.whl.metadata (3.0 kB)\n",
      "Collecting GitPython!=3.1.29,>=1.0.0 (from wandb<0.14.0,>=0.13.10->agilerl==0.1.16)\n",
      "  Using cached GitPython-3.1.42-py3-none-any.whl.metadata (12 kB)\n",
      "Collecting sentry-sdk>=1.0.0 (from wandb<0.14.0,>=0.13.10->agilerl==0.1.16)\n",
      "  Using cached sentry_sdk-1.43.0-py2.py3-none-any.whl.metadata (9.9 kB)\n",
      "Collecting docker-pycreds>=0.4.0 (from wandb<0.14.0,>=0.13.10->agilerl==0.1.16)\n",
      "  Using cached docker_pycreds-0.4.0-py2.py3-none-any.whl.metadata (1.8 kB)\n",
      "Collecting pathtools (from wandb<0.14.0,>=0.13.10->agilerl==0.1.16)\n",
      "  Using cached pathtools-0.1.2-py3-none-any.whl\n",
      "Collecting setproctitle (from wandb<0.14.0,>=0.13.10->agilerl==0.1.16)\n",
      "  Using cached setproctitle-1.3.3-cp310-cp310-macosx_10_9_x86_64.whl.metadata (9.9 kB)\n",
      "Requirement already satisfied: setuptools in /Users/work/work-DRLLSS2024/venv-atari/lib/python3.10/site-packages (from wandb<0.14.0,>=0.13.10->agilerl==0.1.16) (69.2.0)\n",
      "Collecting appdirs>=1.4.3 (from wandb<0.14.0,>=0.13.10->agilerl==0.1.16)\n",
      "  Using cached appdirs-1.4.4-py2.py3-none-any.whl.metadata (9.0 kB)\n",
      "Collecting protobuf!=4.21.0,<5,>=3.19.0 (from wandb<0.14.0,>=0.13.10->agilerl==0.1.16)\n",
      "  Using cached protobuf-4.25.3-cp37-abi3-macosx_10_9_universal2.whl.metadata (541 bytes)\n",
      "Collecting gitdb<5,>=4.0.1 (from GitPython!=3.1.29,>=1.0.0->wandb<0.14.0,>=0.13.10->agilerl==0.1.16)\n",
      "  Using cached gitdb-4.0.11-py3-none-any.whl.metadata (1.2 kB)\n",
      "Collecting google-auth<3.0dev,>=2.26.1 (from google-cloud-storage>=2.5.0->minari<0.5.0,>=0.4.1->agilerl==0.1.16)\n",
      "  Using cached google_auth-2.28.2-py2.py3-none-any.whl.metadata (4.7 kB)\n",
      "Collecting google-api-core<3.0.0dev,>=2.15.0 (from google-cloud-storage>=2.5.0->minari<0.5.0,>=0.4.1->agilerl==0.1.16)\n",
      "  Using cached google_api_core-2.17.1-py3-none-any.whl.metadata (2.7 kB)\n",
      "Collecting google-cloud-core<3.0dev,>=2.3.0 (from google-cloud-storage>=2.5.0->minari<0.5.0,>=0.4.1->agilerl==0.1.16)\n",
      "  Using cached google_cloud_core-2.4.1-py2.py3-none-any.whl.metadata (2.7 kB)\n",
      "Collecting google-resumable-media>=2.6.0 (from google-cloud-storage>=2.5.0->minari<0.5.0,>=0.4.1->agilerl==0.1.16)\n",
      "  Using cached google_resumable_media-2.7.0-py2.py3-none-any.whl.metadata (2.2 kB)\n",
      "Collecting google-crc32c<2.0dev,>=1.0 (from google-cloud-storage>=2.5.0->minari<0.5.0,>=0.4.1->agilerl==0.1.16)\n",
      "  Using cached google_crc32c-1.5.0-cp310-cp310-macosx_10_9_x86_64.whl.metadata (2.3 kB)\n",
      "Collecting sortedcontainers~=2.2 (from portion>=2.4.0->minari<0.5.0,>=0.4.1->agilerl==0.1.16)\n",
      "  Using cached sortedcontainers-2.4.0-py2.py3-none-any.whl.metadata (10 kB)\n",
      "Requirement already satisfied: charset-normalizer<4,>=2 in /Users/work/work-DRLLSS2024/venv-atari/lib/python3.10/site-packages (from requests->transformers<5.0.0,>=4.30.0->agilerl==0.1.16) (3.3.2)\n",
      "Requirement already satisfied: idna<4,>=2.5 in /Users/work/work-DRLLSS2024/venv-atari/lib/python3.10/site-packages (from requests->transformers<5.0.0,>=4.30.0->agilerl==0.1.16) (3.6)\n",
      "Requirement already satisfied: urllib3<3,>=1.21.1 in /Users/work/work-DRLLSS2024/venv-atari/lib/python3.10/site-packages (from requests->transformers<5.0.0,>=4.30.0->agilerl==0.1.16) (2.2.1)\n",
      "Requirement already satisfied: certifi>=2017.4.17 in /Users/work/work-DRLLSS2024/venv-atari/lib/python3.10/site-packages (from requests->transformers<5.0.0,>=4.30.0->agilerl==0.1.16) (2024.2.2)\n",
      "Collecting colorama<0.5.0,>=0.4.3 (from typer[all]>=0.9.0->minari<0.5.0,>=0.4.1->agilerl==0.1.16)\n",
      "  Using cached colorama-0.4.6-py2.py3-none-any.whl.metadata (17 kB)\n",
      "Collecting shellingham<2.0.0,>=1.3.0 (from typer[all]>=0.9.0->minari<0.5.0,>=0.4.1->agilerl==0.1.16)\n",
      "  Using cached shellingham-1.5.4-py2.py3-none-any.whl.metadata (3.5 kB)\n",
      "Collecting rich<14.0.0,>=10.11.0 (from typer[all]>=0.9.0->minari<0.5.0,>=0.4.1->agilerl==0.1.16)\n",
      "  Using cached rich-13.7.1-py3-none-any.whl.metadata (18 kB)\n",
      "Collecting distlib<1,>=0.3.7 (from virtualenv>=20.10.0->pre-commit<4.0.0,>=3.4.0->agilerl==0.1.16)\n",
      "  Using cached distlib-0.3.8-py2.py3-none-any.whl.metadata (5.1 kB)\n",
      "Requirement already satisfied: platformdirs<5,>=3.9.1 in /Users/work/work-DRLLSS2024/venv-atari/lib/python3.10/site-packages (from virtualenv>=20.10.0->pre-commit<4.0.0,>=3.4.0->agilerl==0.1.16) (4.2.0)\n",
      "Requirement already satisfied: MarkupSafe>=2.0 in /Users/work/work-DRLLSS2024/venv-atari/lib/python3.10/site-packages (from jinja2->torch<3.0.0,>=2.0.1->agilerl==0.1.16) (2.1.5)\n",
      "Collecting mpmath>=0.19 (from sympy->torch<3.0.0,>=2.0.1->agilerl==0.1.16)\n",
      "  Using cached mpmath-1.3.0-py3-none-any.whl.metadata (8.6 kB)\n",
      "Collecting smmap<6,>=3.0.1 (from gitdb<5,>=4.0.1->GitPython!=3.1.29,>=1.0.0->wandb<0.14.0,>=0.13.10->agilerl==0.1.16)\n",
      "  Using cached smmap-5.0.1-py3-none-any.whl.metadata (4.3 kB)\n",
      "Collecting googleapis-common-protos<2.0.dev0,>=1.56.2 (from google-api-core<3.0.0dev,>=2.15.0->google-cloud-storage>=2.5.0->minari<0.5.0,>=0.4.1->agilerl==0.1.16)\n",
      "  Using cached googleapis_common_protos-1.63.0-py2.py3-none-any.whl.metadata (1.5 kB)\n",
      "Collecting cachetools<6.0,>=2.0.0 (from google-auth<3.0dev,>=2.26.1->google-cloud-storage>=2.5.0->minari<0.5.0,>=0.4.1->agilerl==0.1.16)\n",
      "  Using cached cachetools-5.3.3-py3-none-any.whl.metadata (5.3 kB)\n",
      "Collecting pyasn1-modules>=0.2.1 (from google-auth<3.0dev,>=2.26.1->google-cloud-storage>=2.5.0->minari<0.5.0,>=0.4.1->agilerl==0.1.16)\n",
      "  Using cached pyasn1_modules-0.3.0-py2.py3-none-any.whl.metadata (3.6 kB)\n",
      "Collecting rsa<5,>=3.1.4 (from google-auth<3.0dev,>=2.26.1->google-cloud-storage>=2.5.0->minari<0.5.0,>=0.4.1->agilerl==0.1.16)\n",
      "  Using cached rsa-4.9-py3-none-any.whl.metadata (4.2 kB)\n",
      "Collecting markdown-it-py>=2.2.0 (from rich<14.0.0,>=10.11.0->typer[all]>=0.9.0->minari<0.5.0,>=0.4.1->agilerl==0.1.16)\n",
      "  Using cached markdown_it_py-3.0.0-py3-none-any.whl.metadata (6.9 kB)\n",
      "Requirement already satisfied: pygments<3.0.0,>=2.13.0 in /Users/work/work-DRLLSS2024/venv-atari/lib/python3.10/site-packages (from rich<14.0.0,>=10.11.0->typer[all]>=0.9.0->minari<0.5.0,>=0.4.1->agilerl==0.1.16) (2.17.2)\n",
      "Collecting mdurl~=0.1 (from markdown-it-py>=2.2.0->rich<14.0.0,>=10.11.0->typer[all]>=0.9.0->minari<0.5.0,>=0.4.1->agilerl==0.1.16)\n",
      "  Using cached mdurl-0.1.2-py3-none-any.whl.metadata (1.6 kB)\n",
      "Collecting pyasn1<0.6.0,>=0.4.6 (from pyasn1-modules>=0.2.1->google-auth<3.0dev,>=2.26.1->google-cloud-storage>=2.5.0->minari<0.5.0,>=0.4.1->agilerl==0.1.16)\n",
      "  Using cached pyasn1-0.5.1-py2.py3-none-any.whl.metadata (8.6 kB)\n",
      "Using cached agilerl-0.1.16-py3-none-any.whl (177 kB)\n",
      "Using cached accelerate-0.18.0-py3-none-any.whl (215 kB)\n",
      "Using cached dill-0.3.8-py3-none-any.whl (116 kB)\n",
      "Using cached fastrand-1.8.0-cp310-cp310-macosx_10_9_x86_64.whl (9.1 kB)\n",
      "Using cached flatten_dict-0.4.2-py2.py3-none-any.whl (9.7 kB)\n",
      "Using cached gymnasium-0.28.1-py3-none-any.whl (925 kB)\n",
      "Using cached h5py-3.10.0-cp310-cp310-macosx_10_9_x86_64.whl (3.3 MB)\n",
      "Using cached hydra_core-1.3.2-py3-none-any.whl (154 kB)\n",
      "Using cached matplotlib-3.8.3-cp310-cp310-macosx_10_12_x86_64.whl (7.6 MB)\n",
      "Using cached minari-0.4.3-py3-none-any.whl (42 kB)\n",
      "Using cached omegaconf-2.3.0-py3-none-any.whl (79 kB)\n",
      "Using cached pre_commit-3.6.2-py2.py3-none-any.whl (204 kB)\n",
      "Using cached redis-4.6.0-py3-none-any.whl (241 kB)\n",
      "Using cached torch-2.2.1-cp310-none-macosx_10_9_x86_64.whl (150.8 MB)\n",
      "Using cached tqdm-4.66.2-py3-none-any.whl (78 kB)\n",
      "Using cached transformers-4.38.2-py3-none-any.whl (8.5 MB)\n",
      "Using cached wandb-0.13.11-py3-none-any.whl (2.0 MB)\n",
      "Using cached appdirs-1.4.4-py2.py3-none-any.whl (9.6 kB)\n",
      "Using cached async_timeout-4.0.3-py3-none-any.whl (5.7 kB)\n",
      "Using cached cfgv-3.4.0-py2.py3-none-any.whl (7.2 kB)\n",
      "Using cached click-8.1.7-py3-none-any.whl (97 kB)\n",
      "Using cached contourpy-1.2.0-cp310-cp310-macosx_10_9_x86_64.whl (256 kB)\n",
      "Using cached cycler-0.12.1-py3-none-any.whl (8.3 kB)\n",
      "Using cached docker_pycreds-0.4.0-py2.py3-none-any.whl (9.0 kB)\n",
      "Using cached fonttools-4.50.0-cp310-cp310-macosx_10_9_x86_64.whl (2.3 MB)\n",
      "Using cached GitPython-3.1.42-py3-none-any.whl (195 kB)\n",
      "Using cached google_cloud_storage-2.16.0-py2.py3-none-any.whl (125 kB)\n",
      "Using cached huggingface_hub-0.21.4-py3-none-any.whl (346 kB)\n",
      "Using cached fsspec-2024.3.1-py3-none-any.whl (171 kB)\n",
      "Using cached identify-2.5.35-py2.py3-none-any.whl (98 kB)\n",
      "Using cached jax_jumpy-1.0.0-py3-none-any.whl (20 kB)\n",
      "Using cached kiwisolver-1.4.5-cp310-cp310-macosx_10_9_x86_64.whl (68 kB)\n",
      "Using cached nodeenv-1.8.0-py2.py3-none-any.whl (22 kB)\n",
      "Using cached pillow-10.2.0-cp310-cp310-macosx_10_10_x86_64.whl (3.5 MB)\n",
      "Using cached portion-2.4.2-py3-none-any.whl (27 kB)\n",
      "Using cached protobuf-4.25.3-cp37-abi3-macosx_10_9_universal2.whl (394 kB)\n",
      "Using cached pyparsing-3.1.2-py3-none-any.whl (103 kB)\n",
      "Using cached regex-2023.12.25-cp310-cp310-macosx_10_9_x86_64.whl (296 kB)\n",
      "Using cached safetensors-0.4.2-cp310-cp310-macosx_10_12_x86_64.whl (426 kB)\n",
      "Using cached sentry_sdk-1.43.0-py2.py3-none-any.whl (264 kB)\n",
      "Using cached tokenizers-0.15.2-cp310-cp310-macosx_10_12_x86_64.whl (2.6 MB)\n",
      "Using cached typer-0.9.0-py3-none-any.whl (45 kB)\n",
      "Using cached virtualenv-20.25.1-py3-none-any.whl (3.8 MB)\n",
      "Using cached filelock-3.13.1-py3-none-any.whl (11 kB)\n",
      "Using cached networkx-3.2.1-py3-none-any.whl (1.6 MB)\n",
      "Using cached setproctitle-1.3.3-cp310-cp310-macosx_10_9_x86_64.whl (11 kB)\n",
      "Using cached sympy-1.12-py3-none-any.whl (5.7 MB)\n",
      "Using cached colorama-0.4.6-py2.py3-none-any.whl (25 kB)\n",
      "Using cached distlib-0.3.8-py2.py3-none-any.whl (468 kB)\n",
      "Using cached gitdb-4.0.11-py3-none-any.whl (62 kB)\n",
      "Using cached google_api_core-2.17.1-py3-none-any.whl (137 kB)\n",
      "Using cached google_auth-2.28.2-py2.py3-none-any.whl (186 kB)\n",
      "Using cached google_cloud_core-2.4.1-py2.py3-none-any.whl (29 kB)\n",
      "Using cached google_crc32c-1.5.0-cp310-cp310-macosx_10_9_x86_64.whl (30 kB)\n",
      "Using cached google_resumable_media-2.7.0-py2.py3-none-any.whl (80 kB)\n",
      "Using cached mpmath-1.3.0-py3-none-any.whl (536 kB)\n",
      "Using cached rich-13.7.1-py3-none-any.whl (240 kB)\n",
      "Using cached shellingham-1.5.4-py2.py3-none-any.whl (9.8 kB)\n",
      "Using cached sortedcontainers-2.4.0-py2.py3-none-any.whl (29 kB)\n",
      "Using cached cachetools-5.3.3-py3-none-any.whl (9.3 kB)\n",
      "Using cached googleapis_common_protos-1.63.0-py2.py3-none-any.whl (229 kB)\n",
      "Using cached markdown_it_py-3.0.0-py3-none-any.whl (87 kB)\n",
      "Using cached pyasn1_modules-0.3.0-py2.py3-none-any.whl (181 kB)\n",
      "Using cached rsa-4.9-py3-none-any.whl (34 kB)\n",
      "Using cached smmap-5.0.1-py3-none-any.whl (24 kB)\n",
      "Using cached mdurl-0.1.2-py3-none-any.whl (10.0 kB)\n",
      "Using cached pyasn1-0.5.1-py2.py3-none-any.whl (84 kB)\n",
      "Installing collected packages: termcolor, sortedcontainers, pathtools, mpmath, importlib, fastrand, distlib, appdirs, antlr4-python3-runtime, tqdm, sympy, smmap, shellingham, setproctitle, sentry-sdk, safetensors, regex, pyparsing, pyasn1, protobuf, portion, pillow, omegaconf, nodeenv, networkx, mdurl, kiwisolver, jax-jumpy, identify, h5py, google-crc32c, fsspec, fonttools, flatten_dict, filelock, docker-pycreds, dill, cycler, contourpy, colorama, Click, cfgv, cachetools, async-timeout, virtualenv, typer, torch, rsa, redis, pyasn1-modules, matplotlib, markdown-it-py, hydra-core, huggingface-hub, gymnasium, googleapis-common-protos, google-resumable-media, gitdb, tokenizers, rich, pre-commit, google-auth, GitPython, accelerate, wandb, transformers, google-api-core, google-cloud-core, google-cloud-storage, minari, agilerl\n",
      "  Attempting uninstall: termcolor\n",
      "    Found existing installation: termcolor 2.4.0\n",
      "    Uninstalling termcolor-2.4.0:\n",
      "      Successfully uninstalled termcolor-2.4.0\n",
      "  Attempting uninstall: gymnasium\n",
      "    Found existing installation: gymnasium 0.29.1\n",
      "    Uninstalling gymnasium-0.29.1:\n",
      "      Successfully uninstalled gymnasium-0.29.1\n",
      "Successfully installed Click-8.1.7 GitPython-3.1.42 accelerate-0.18.0 agilerl-0.1.16 antlr4-python3-runtime-4.9.3 appdirs-1.4.4 async-timeout-4.0.3 cachetools-5.3.3 cfgv-3.4.0 colorama-0.4.6 contourpy-1.2.0 cycler-0.12.1 dill-0.3.8 distlib-0.3.8 docker-pycreds-0.4.0 fastrand-1.8.0 filelock-3.13.1 flatten_dict-0.4.2 fonttools-4.50.0 fsspec-2024.3.1 gitdb-4.0.11 google-api-core-2.17.1 google-auth-2.28.2 google-cloud-core-2.4.1 google-cloud-storage-2.16.0 google-crc32c-1.5.0 google-resumable-media-2.7.0 googleapis-common-protos-1.63.0 gymnasium-0.28.1 h5py-3.10.0 huggingface-hub-0.21.4 hydra-core-1.3.2 identify-2.5.35 importlib-1.0.4 jax-jumpy-1.0.0 kiwisolver-1.4.5 markdown-it-py-3.0.0 matplotlib-3.8.3 mdurl-0.1.2 minari-0.4.3 mpmath-1.3.0 networkx-3.2.1 nodeenv-1.8.0 omegaconf-2.3.0 pathtools-0.1.2 pillow-10.2.0 portion-2.4.2 pre-commit-3.6.2 protobuf-4.25.3 pyasn1-0.5.1 pyasn1-modules-0.3.0 pyparsing-3.1.2 redis-4.6.0 regex-2023.12.25 rich-13.7.1 rsa-4.9 safetensors-0.4.2 sentry-sdk-1.43.0 setproctitle-1.3.3 shellingham-1.5.4 smmap-5.0.1 sortedcontainers-2.4.0 sympy-1.12 termcolor-1.1.0 tokenizers-0.15.2 torch-2.2.1 tqdm-4.66.2 transformers-4.38.2 typer-0.9.0 virtualenv-20.25.1 wandb-0.13.11\n"
     ]
    }
   ],
   "source": [
    "!pip install agilerl==0.1.16"
   ]
  },
  {
   "cell_type": "code",
   "execution_count": 7,
   "id": "ef7f6911-80b3-4924-a646-d109b2322441",
   "metadata": {},
   "outputs": [
    {
     "name": "stdout",
     "output_type": "stream",
     "text": [
      "Collecting autorom==0.6.1\n",
      "  Using cached AutoROM-0.6.1-py3-none-any.whl.metadata (2.4 kB)\n",
      "Requirement already satisfied: click in /Users/work/work-DRLLSS2024/venv-atari/lib/python3.10/site-packages (from autorom==0.6.1) (8.1.7)\n",
      "Requirement already satisfied: requests in /Users/work/work-DRLLSS2024/venv-atari/lib/python3.10/site-packages (from autorom==0.6.1) (2.31.0)\n",
      "Requirement already satisfied: charset-normalizer<4,>=2 in /Users/work/work-DRLLSS2024/venv-atari/lib/python3.10/site-packages (from requests->autorom==0.6.1) (3.3.2)\n",
      "Requirement already satisfied: idna<4,>=2.5 in /Users/work/work-DRLLSS2024/venv-atari/lib/python3.10/site-packages (from requests->autorom==0.6.1) (3.6)\n",
      "Requirement already satisfied: urllib3<3,>=1.21.1 in /Users/work/work-DRLLSS2024/venv-atari/lib/python3.10/site-packages (from requests->autorom==0.6.1) (2.2.1)\n",
      "Requirement already satisfied: certifi>=2017.4.17 in /Users/work/work-DRLLSS2024/venv-atari/lib/python3.10/site-packages (from requests->autorom==0.6.1) (2024.2.2)\n",
      "Using cached AutoROM-0.6.1-py3-none-any.whl (9.4 kB)\n",
      "Installing collected packages: autorom\n",
      "Successfully installed autorom-0.6.1\n"
     ]
    }
   ],
   "source": [
    "!pip install autorom==0.6.1"
   ]
  },
  {
   "cell_type": "code",
   "execution_count": 8,
   "id": "ad7d0759-58a8-4e81-a8af-bed68b84eabc",
   "metadata": {
    "scrolled": true
   },
   "outputs": [
    {
     "name": "stdout",
     "output_type": "stream",
     "text": [
      "AutoROM will download the Atari 2600 ROMs.\n",
      "They will be installed to:\n",
      "\t/Users/work/work-DRLLSS2024/venv-atari/lib/python3.10/site-packages/AutoROM/roms\n",
      "\t/Users/work/work-DRLLSS2024/venv-atari/lib/python3.10/site-packages/multi_agent_ale_py/roms\n",
      "\n",
      "Existing ROMs will be overwritten.\n",
      "Installed /Users/work/work-DRLLSS2024/venv-atari/lib/python3.10/site-packages/AutoROM/roms/adventure.bin\n",
      "Installed /Users/work/work-DRLLSS2024/venv-atari/lib/python3.10/site-packages/multi_agent_ale_py/roms/adventure.bin\n",
      "Installed /Users/work/work-DRLLSS2024/venv-atari/lib/python3.10/site-packages/AutoROM/roms/air_raid.bin\n",
      "Installed /Users/work/work-DRLLSS2024/venv-atari/lib/python3.10/site-packages/multi_agent_ale_py/roms/air_raid.bin\n",
      "Installed /Users/work/work-DRLLSS2024/venv-atari/lib/python3.10/site-packages/AutoROM/roms/alien.bin\n",
      "Installed /Users/work/work-DRLLSS2024/venv-atari/lib/python3.10/site-packages/multi_agent_ale_py/roms/alien.bin\n",
      "Installed /Users/work/work-DRLLSS2024/venv-atari/lib/python3.10/site-packages/AutoROM/roms/amidar.bin\n",
      "Installed /Users/work/work-DRLLSS2024/venv-atari/lib/python3.10/site-packages/multi_agent_ale_py/roms/amidar.bin\n",
      "Installed /Users/work/work-DRLLSS2024/venv-atari/lib/python3.10/site-packages/AutoROM/roms/assault.bin\n",
      "Installed /Users/work/work-DRLLSS2024/venv-atari/lib/python3.10/site-packages/multi_agent_ale_py/roms/assault.bin\n",
      "Installed /Users/work/work-DRLLSS2024/venv-atari/lib/python3.10/site-packages/AutoROM/roms/asterix.bin\n",
      "Installed /Users/work/work-DRLLSS2024/venv-atari/lib/python3.10/site-packages/multi_agent_ale_py/roms/asterix.bin\n",
      "Installed /Users/work/work-DRLLSS2024/venv-atari/lib/python3.10/site-packages/AutoROM/roms/asteroids.bin\n",
      "Installed /Users/work/work-DRLLSS2024/venv-atari/lib/python3.10/site-packages/multi_agent_ale_py/roms/asteroids.bin\n",
      "Installed /Users/work/work-DRLLSS2024/venv-atari/lib/python3.10/site-packages/AutoROM/roms/atlantis.bin\n",
      "Installed /Users/work/work-DRLLSS2024/venv-atari/lib/python3.10/site-packages/multi_agent_ale_py/roms/atlantis.bin\n",
      "Installed /Users/work/work-DRLLSS2024/venv-atari/lib/python3.10/site-packages/AutoROM/roms/atlantis2.bin\n",
      "Installed /Users/work/work-DRLLSS2024/venv-atari/lib/python3.10/site-packages/multi_agent_ale_py/roms/atlantis2.bin\n",
      "Installed /Users/work/work-DRLLSS2024/venv-atari/lib/python3.10/site-packages/AutoROM/roms/backgammon.bin\n",
      "Installed /Users/work/work-DRLLSS2024/venv-atari/lib/python3.10/site-packages/multi_agent_ale_py/roms/backgammon.bin\n",
      "Installed /Users/work/work-DRLLSS2024/venv-atari/lib/python3.10/site-packages/AutoROM/roms/bank_heist.bin\n",
      "Installed /Users/work/work-DRLLSS2024/venv-atari/lib/python3.10/site-packages/multi_agent_ale_py/roms/bank_heist.bin\n",
      "Installed /Users/work/work-DRLLSS2024/venv-atari/lib/python3.10/site-packages/AutoROM/roms/basic_math.bin\n",
      "Installed /Users/work/work-DRLLSS2024/venv-atari/lib/python3.10/site-packages/multi_agent_ale_py/roms/basic_math.bin\n",
      "Installed /Users/work/work-DRLLSS2024/venv-atari/lib/python3.10/site-packages/AutoROM/roms/battle_zone.bin\n",
      "Installed /Users/work/work-DRLLSS2024/venv-atari/lib/python3.10/site-packages/multi_agent_ale_py/roms/battle_zone.bin\n",
      "Installed /Users/work/work-DRLLSS2024/venv-atari/lib/python3.10/site-packages/AutoROM/roms/beam_rider.bin\n",
      "Installed /Users/work/work-DRLLSS2024/venv-atari/lib/python3.10/site-packages/multi_agent_ale_py/roms/beam_rider.bin\n",
      "Installed /Users/work/work-DRLLSS2024/venv-atari/lib/python3.10/site-packages/AutoROM/roms/berzerk.bin\n",
      "Installed /Users/work/work-DRLLSS2024/venv-atari/lib/python3.10/site-packages/multi_agent_ale_py/roms/berzerk.bin\n",
      "Installed /Users/work/work-DRLLSS2024/venv-atari/lib/python3.10/site-packages/AutoROM/roms/blackjack.bin\n",
      "Installed /Users/work/work-DRLLSS2024/venv-atari/lib/python3.10/site-packages/multi_agent_ale_py/roms/blackjack.bin\n",
      "Installed /Users/work/work-DRLLSS2024/venv-atari/lib/python3.10/site-packages/AutoROM/roms/bowling.bin\n",
      "Installed /Users/work/work-DRLLSS2024/venv-atari/lib/python3.10/site-packages/multi_agent_ale_py/roms/bowling.bin\n",
      "Installed /Users/work/work-DRLLSS2024/venv-atari/lib/python3.10/site-packages/AutoROM/roms/boxing.bin\n",
      "Installed /Users/work/work-DRLLSS2024/venv-atari/lib/python3.10/site-packages/multi_agent_ale_py/roms/boxing.bin\n",
      "Installed /Users/work/work-DRLLSS2024/venv-atari/lib/python3.10/site-packages/AutoROM/roms/breakout.bin\n",
      "Installed /Users/work/work-DRLLSS2024/venv-atari/lib/python3.10/site-packages/multi_agent_ale_py/roms/breakout.bin\n",
      "Installed /Users/work/work-DRLLSS2024/venv-atari/lib/python3.10/site-packages/AutoROM/roms/carnival.bin\n",
      "Installed /Users/work/work-DRLLSS2024/venv-atari/lib/python3.10/site-packages/multi_agent_ale_py/roms/carnival.bin\n",
      "Installed /Users/work/work-DRLLSS2024/venv-atari/lib/python3.10/site-packages/AutoROM/roms/casino.bin\n",
      "Installed /Users/work/work-DRLLSS2024/venv-atari/lib/python3.10/site-packages/multi_agent_ale_py/roms/casino.bin\n",
      "Installed /Users/work/work-DRLLSS2024/venv-atari/lib/python3.10/site-packages/AutoROM/roms/centipede.bin\n",
      "Installed /Users/work/work-DRLLSS2024/venv-atari/lib/python3.10/site-packages/multi_agent_ale_py/roms/centipede.bin\n",
      "Installed /Users/work/work-DRLLSS2024/venv-atari/lib/python3.10/site-packages/AutoROM/roms/chopper_command.bin\n",
      "Installed /Users/work/work-DRLLSS2024/venv-atari/lib/python3.10/site-packages/multi_agent_ale_py/roms/chopper_command.bin\n",
      "Installed /Users/work/work-DRLLSS2024/venv-atari/lib/python3.10/site-packages/AutoROM/roms/combat.bin\n",
      "Installed /Users/work/work-DRLLSS2024/venv-atari/lib/python3.10/site-packages/multi_agent_ale_py/roms/combat.bin\n",
      "Installed /Users/work/work-DRLLSS2024/venv-atari/lib/python3.10/site-packages/AutoROM/roms/crazy_climber.bin\n",
      "Installed /Users/work/work-DRLLSS2024/venv-atari/lib/python3.10/site-packages/multi_agent_ale_py/roms/crazy_climber.bin\n",
      "Installed /Users/work/work-DRLLSS2024/venv-atari/lib/python3.10/site-packages/AutoROM/roms/crossbow.bin\n",
      "Installed /Users/work/work-DRLLSS2024/venv-atari/lib/python3.10/site-packages/multi_agent_ale_py/roms/crossbow.bin\n",
      "Installed /Users/work/work-DRLLSS2024/venv-atari/lib/python3.10/site-packages/AutoROM/roms/darkchambers.bin\n",
      "Installed /Users/work/work-DRLLSS2024/venv-atari/lib/python3.10/site-packages/multi_agent_ale_py/roms/darkchambers.bin\n",
      "Installed /Users/work/work-DRLLSS2024/venv-atari/lib/python3.10/site-packages/AutoROM/roms/defender.bin\n",
      "Installed /Users/work/work-DRLLSS2024/venv-atari/lib/python3.10/site-packages/multi_agent_ale_py/roms/defender.bin\n",
      "Installed /Users/work/work-DRLLSS2024/venv-atari/lib/python3.10/site-packages/AutoROM/roms/demon_attack.bin\n",
      "Installed /Users/work/work-DRLLSS2024/venv-atari/lib/python3.10/site-packages/multi_agent_ale_py/roms/demon_attack.bin\n",
      "Installed /Users/work/work-DRLLSS2024/venv-atari/lib/python3.10/site-packages/AutoROM/roms/donkey_kong.bin\n",
      "Installed /Users/work/work-DRLLSS2024/venv-atari/lib/python3.10/site-packages/multi_agent_ale_py/roms/donkey_kong.bin\n",
      "Installed /Users/work/work-DRLLSS2024/venv-atari/lib/python3.10/site-packages/AutoROM/roms/double_dunk.bin\n",
      "Installed /Users/work/work-DRLLSS2024/venv-atari/lib/python3.10/site-packages/multi_agent_ale_py/roms/double_dunk.bin\n",
      "Installed /Users/work/work-DRLLSS2024/venv-atari/lib/python3.10/site-packages/AutoROM/roms/earthworld.bin\n",
      "Installed /Users/work/work-DRLLSS2024/venv-atari/lib/python3.10/site-packages/multi_agent_ale_py/roms/earthworld.bin\n",
      "Installed /Users/work/work-DRLLSS2024/venv-atari/lib/python3.10/site-packages/AutoROM/roms/elevator_action.bin\n",
      "Installed /Users/work/work-DRLLSS2024/venv-atari/lib/python3.10/site-packages/multi_agent_ale_py/roms/elevator_action.bin\n",
      "Installed /Users/work/work-DRLLSS2024/venv-atari/lib/python3.10/site-packages/AutoROM/roms/enduro.bin\n",
      "Installed /Users/work/work-DRLLSS2024/venv-atari/lib/python3.10/site-packages/multi_agent_ale_py/roms/enduro.bin\n",
      "Installed /Users/work/work-DRLLSS2024/venv-atari/lib/python3.10/site-packages/AutoROM/roms/entombed.bin\n",
      "Installed /Users/work/work-DRLLSS2024/venv-atari/lib/python3.10/site-packages/multi_agent_ale_py/roms/entombed.bin\n",
      "Installed /Users/work/work-DRLLSS2024/venv-atari/lib/python3.10/site-packages/AutoROM/roms/et.bin\n",
      "Installed /Users/work/work-DRLLSS2024/venv-atari/lib/python3.10/site-packages/multi_agent_ale_py/roms/et.bin\n",
      "Installed /Users/work/work-DRLLSS2024/venv-atari/lib/python3.10/site-packages/AutoROM/roms/fishing_derby.bin\n",
      "Installed /Users/work/work-DRLLSS2024/venv-atari/lib/python3.10/site-packages/multi_agent_ale_py/roms/fishing_derby.bin\n",
      "Installed /Users/work/work-DRLLSS2024/venv-atari/lib/python3.10/site-packages/AutoROM/roms/flag_capture.bin\n",
      "Installed /Users/work/work-DRLLSS2024/venv-atari/lib/python3.10/site-packages/multi_agent_ale_py/roms/flag_capture.bin\n",
      "Installed /Users/work/work-DRLLSS2024/venv-atari/lib/python3.10/site-packages/AutoROM/roms/freeway.bin\n",
      "Installed /Users/work/work-DRLLSS2024/venv-atari/lib/python3.10/site-packages/multi_agent_ale_py/roms/freeway.bin\n",
      "Installed /Users/work/work-DRLLSS2024/venv-atari/lib/python3.10/site-packages/AutoROM/roms/frogger.bin\n",
      "Installed /Users/work/work-DRLLSS2024/venv-atari/lib/python3.10/site-packages/multi_agent_ale_py/roms/frogger.bin\n",
      "Installed /Users/work/work-DRLLSS2024/venv-atari/lib/python3.10/site-packages/AutoROM/roms/frostbite.bin\n",
      "Installed /Users/work/work-DRLLSS2024/venv-atari/lib/python3.10/site-packages/multi_agent_ale_py/roms/frostbite.bin\n",
      "Installed /Users/work/work-DRLLSS2024/venv-atari/lib/python3.10/site-packages/AutoROM/roms/galaxian.bin\n",
      "Installed /Users/work/work-DRLLSS2024/venv-atari/lib/python3.10/site-packages/multi_agent_ale_py/roms/galaxian.bin\n",
      "Installed /Users/work/work-DRLLSS2024/venv-atari/lib/python3.10/site-packages/AutoROM/roms/gopher.bin\n",
      "Installed /Users/work/work-DRLLSS2024/venv-atari/lib/python3.10/site-packages/multi_agent_ale_py/roms/gopher.bin\n",
      "Installed /Users/work/work-DRLLSS2024/venv-atari/lib/python3.10/site-packages/AutoROM/roms/gravitar.bin\n",
      "Installed /Users/work/work-DRLLSS2024/venv-atari/lib/python3.10/site-packages/multi_agent_ale_py/roms/gravitar.bin\n",
      "Installed /Users/work/work-DRLLSS2024/venv-atari/lib/python3.10/site-packages/AutoROM/roms/hangman.bin\n",
      "Installed /Users/work/work-DRLLSS2024/venv-atari/lib/python3.10/site-packages/multi_agent_ale_py/roms/hangman.bin\n",
      "Installed /Users/work/work-DRLLSS2024/venv-atari/lib/python3.10/site-packages/AutoROM/roms/haunted_house.bin\n",
      "Installed /Users/work/work-DRLLSS2024/venv-atari/lib/python3.10/site-packages/multi_agent_ale_py/roms/haunted_house.bin\n",
      "Installed /Users/work/work-DRLLSS2024/venv-atari/lib/python3.10/site-packages/AutoROM/roms/hero.bin\n",
      "Installed /Users/work/work-DRLLSS2024/venv-atari/lib/python3.10/site-packages/multi_agent_ale_py/roms/hero.bin\n",
      "Installed /Users/work/work-DRLLSS2024/venv-atari/lib/python3.10/site-packages/AutoROM/roms/human_cannonball.bin\n",
      "Installed /Users/work/work-DRLLSS2024/venv-atari/lib/python3.10/site-packages/multi_agent_ale_py/roms/human_cannonball.bin\n",
      "Installed /Users/work/work-DRLLSS2024/venv-atari/lib/python3.10/site-packages/AutoROM/roms/ice_hockey.bin\n",
      "Installed /Users/work/work-DRLLSS2024/venv-atari/lib/python3.10/site-packages/multi_agent_ale_py/roms/ice_hockey.bin\n",
      "Installed /Users/work/work-DRLLSS2024/venv-atari/lib/python3.10/site-packages/AutoROM/roms/jamesbond.bin\n",
      "Installed /Users/work/work-DRLLSS2024/venv-atari/lib/python3.10/site-packages/multi_agent_ale_py/roms/jamesbond.bin\n",
      "Installed /Users/work/work-DRLLSS2024/venv-atari/lib/python3.10/site-packages/AutoROM/roms/journey_escape.bin\n",
      "Installed /Users/work/work-DRLLSS2024/venv-atari/lib/python3.10/site-packages/multi_agent_ale_py/roms/journey_escape.bin\n",
      "Installed /Users/work/work-DRLLSS2024/venv-atari/lib/python3.10/site-packages/AutoROM/roms/joust.bin\n",
      "Installed /Users/work/work-DRLLSS2024/venv-atari/lib/python3.10/site-packages/multi_agent_ale_py/roms/joust.bin\n",
      "Installed /Users/work/work-DRLLSS2024/venv-atari/lib/python3.10/site-packages/AutoROM/roms/kaboom.bin\n",
      "Installed /Users/work/work-DRLLSS2024/venv-atari/lib/python3.10/site-packages/multi_agent_ale_py/roms/kaboom.bin\n",
      "Installed /Users/work/work-DRLLSS2024/venv-atari/lib/python3.10/site-packages/AutoROM/roms/kangaroo.bin\n",
      "Installed /Users/work/work-DRLLSS2024/venv-atari/lib/python3.10/site-packages/multi_agent_ale_py/roms/kangaroo.bin\n",
      "Installed /Users/work/work-DRLLSS2024/venv-atari/lib/python3.10/site-packages/AutoROM/roms/keystone_kapers.bin\n",
      "Installed /Users/work/work-DRLLSS2024/venv-atari/lib/python3.10/site-packages/multi_agent_ale_py/roms/keystone_kapers.bin\n",
      "Installed /Users/work/work-DRLLSS2024/venv-atari/lib/python3.10/site-packages/AutoROM/roms/king_kong.bin\n",
      "Installed /Users/work/work-DRLLSS2024/venv-atari/lib/python3.10/site-packages/multi_agent_ale_py/roms/king_kong.bin\n",
      "Installed /Users/work/work-DRLLSS2024/venv-atari/lib/python3.10/site-packages/AutoROM/roms/klax.bin\n",
      "Installed /Users/work/work-DRLLSS2024/venv-atari/lib/python3.10/site-packages/multi_agent_ale_py/roms/klax.bin\n",
      "Installed /Users/work/work-DRLLSS2024/venv-atari/lib/python3.10/site-packages/AutoROM/roms/koolaid.bin\n",
      "Installed /Users/work/work-DRLLSS2024/venv-atari/lib/python3.10/site-packages/multi_agent_ale_py/roms/koolaid.bin\n",
      "Installed /Users/work/work-DRLLSS2024/venv-atari/lib/python3.10/site-packages/AutoROM/roms/krull.bin\n",
      "Installed /Users/work/work-DRLLSS2024/venv-atari/lib/python3.10/site-packages/multi_agent_ale_py/roms/krull.bin\n",
      "Installed /Users/work/work-DRLLSS2024/venv-atari/lib/python3.10/site-packages/AutoROM/roms/kung_fu_master.bin\n",
      "Installed /Users/work/work-DRLLSS2024/venv-atari/lib/python3.10/site-packages/multi_agent_ale_py/roms/kung_fu_master.bin\n",
      "Installed /Users/work/work-DRLLSS2024/venv-atari/lib/python3.10/site-packages/AutoROM/roms/laser_gates.bin\n",
      "Installed /Users/work/work-DRLLSS2024/venv-atari/lib/python3.10/site-packages/multi_agent_ale_py/roms/laser_gates.bin\n",
      "Installed /Users/work/work-DRLLSS2024/venv-atari/lib/python3.10/site-packages/AutoROM/roms/lost_luggage.bin\n",
      "Installed /Users/work/work-DRLLSS2024/venv-atari/lib/python3.10/site-packages/multi_agent_ale_py/roms/lost_luggage.bin\n",
      "Installed /Users/work/work-DRLLSS2024/venv-atari/lib/python3.10/site-packages/AutoROM/roms/mario_bros.bin\n",
      "Installed /Users/work/work-DRLLSS2024/venv-atari/lib/python3.10/site-packages/multi_agent_ale_py/roms/mario_bros.bin\n",
      "Installed /Users/work/work-DRLLSS2024/venv-atari/lib/python3.10/site-packages/AutoROM/roms/maze_craze.bin\n",
      "Installed /Users/work/work-DRLLSS2024/venv-atari/lib/python3.10/site-packages/multi_agent_ale_py/roms/maze_craze.bin\n",
      "Installed /Users/work/work-DRLLSS2024/venv-atari/lib/python3.10/site-packages/AutoROM/roms/miniature_golf.bin\n",
      "Installed /Users/work/work-DRLLSS2024/venv-atari/lib/python3.10/site-packages/multi_agent_ale_py/roms/miniature_golf.bin\n",
      "Installed /Users/work/work-DRLLSS2024/venv-atari/lib/python3.10/site-packages/AutoROM/roms/montezuma_revenge.bin\n",
      "Installed /Users/work/work-DRLLSS2024/venv-atari/lib/python3.10/site-packages/multi_agent_ale_py/roms/montezuma_revenge.bin\n",
      "Installed /Users/work/work-DRLLSS2024/venv-atari/lib/python3.10/site-packages/AutoROM/roms/mr_do.bin\n",
      "Installed /Users/work/work-DRLLSS2024/venv-atari/lib/python3.10/site-packages/multi_agent_ale_py/roms/mr_do.bin\n",
      "Installed /Users/work/work-DRLLSS2024/venv-atari/lib/python3.10/site-packages/AutoROM/roms/ms_pacman.bin\n",
      "Installed /Users/work/work-DRLLSS2024/venv-atari/lib/python3.10/site-packages/multi_agent_ale_py/roms/ms_pacman.bin\n",
      "Installed /Users/work/work-DRLLSS2024/venv-atari/lib/python3.10/site-packages/AutoROM/roms/name_this_game.bin\n",
      "Installed /Users/work/work-DRLLSS2024/venv-atari/lib/python3.10/site-packages/multi_agent_ale_py/roms/name_this_game.bin\n",
      "Installed /Users/work/work-DRLLSS2024/venv-atari/lib/python3.10/site-packages/AutoROM/roms/othello.bin\n",
      "Installed /Users/work/work-DRLLSS2024/venv-atari/lib/python3.10/site-packages/multi_agent_ale_py/roms/othello.bin\n",
      "Installed /Users/work/work-DRLLSS2024/venv-atari/lib/python3.10/site-packages/AutoROM/roms/pacman.bin\n",
      "Installed /Users/work/work-DRLLSS2024/venv-atari/lib/python3.10/site-packages/multi_agent_ale_py/roms/pacman.bin\n",
      "Installed /Users/work/work-DRLLSS2024/venv-atari/lib/python3.10/site-packages/AutoROM/roms/phoenix.bin\n",
      "Installed /Users/work/work-DRLLSS2024/venv-atari/lib/python3.10/site-packages/multi_agent_ale_py/roms/phoenix.bin\n",
      "Installed /Users/work/work-DRLLSS2024/venv-atari/lib/python3.10/site-packages/AutoROM/roms/pitfall.bin\n",
      "Installed /Users/work/work-DRLLSS2024/venv-atari/lib/python3.10/site-packages/multi_agent_ale_py/roms/pitfall.bin\n",
      "Installed /Users/work/work-DRLLSS2024/venv-atari/lib/python3.10/site-packages/AutoROM/roms/pitfall2.bin\n",
      "Installed /Users/work/work-DRLLSS2024/venv-atari/lib/python3.10/site-packages/multi_agent_ale_py/roms/pitfall2.bin\n",
      "Installed /Users/work/work-DRLLSS2024/venv-atari/lib/python3.10/site-packages/AutoROM/roms/pong.bin\n",
      "Installed /Users/work/work-DRLLSS2024/venv-atari/lib/python3.10/site-packages/multi_agent_ale_py/roms/pong.bin\n",
      "Installed /Users/work/work-DRLLSS2024/venv-atari/lib/python3.10/site-packages/AutoROM/roms/pooyan.bin\n",
      "Installed /Users/work/work-DRLLSS2024/venv-atari/lib/python3.10/site-packages/multi_agent_ale_py/roms/pooyan.bin\n",
      "Installed /Users/work/work-DRLLSS2024/venv-atari/lib/python3.10/site-packages/AutoROM/roms/private_eye.bin\n",
      "Installed /Users/work/work-DRLLSS2024/venv-atari/lib/python3.10/site-packages/multi_agent_ale_py/roms/private_eye.bin\n",
      "Installed /Users/work/work-DRLLSS2024/venv-atari/lib/python3.10/site-packages/AutoROM/roms/qbert.bin\n",
      "Installed /Users/work/work-DRLLSS2024/venv-atari/lib/python3.10/site-packages/multi_agent_ale_py/roms/qbert.bin\n",
      "Installed /Users/work/work-DRLLSS2024/venv-atari/lib/python3.10/site-packages/AutoROM/roms/riverraid.bin\n",
      "Installed /Users/work/work-DRLLSS2024/venv-atari/lib/python3.10/site-packages/multi_agent_ale_py/roms/riverraid.bin\n",
      "Installed /Users/work/work-DRLLSS2024/venv-atari/lib/python3.10/site-packages/AutoROM/roms/road_runner.bin\n",
      "Installed /Users/work/work-DRLLSS2024/venv-atari/lib/python3.10/site-packages/multi_agent_ale_py/roms/road_runner.bin\n",
      "Installed /Users/work/work-DRLLSS2024/venv-atari/lib/python3.10/site-packages/AutoROM/roms/robotank.bin\n",
      "Installed /Users/work/work-DRLLSS2024/venv-atari/lib/python3.10/site-packages/multi_agent_ale_py/roms/robotank.bin\n",
      "Installed /Users/work/work-DRLLSS2024/venv-atari/lib/python3.10/site-packages/AutoROM/roms/seaquest.bin\n",
      "Installed /Users/work/work-DRLLSS2024/venv-atari/lib/python3.10/site-packages/multi_agent_ale_py/roms/seaquest.bin\n",
      "Installed /Users/work/work-DRLLSS2024/venv-atari/lib/python3.10/site-packages/AutoROM/roms/sir_lancelot.bin\n",
      "Installed /Users/work/work-DRLLSS2024/venv-atari/lib/python3.10/site-packages/multi_agent_ale_py/roms/sir_lancelot.bin\n",
      "Installed /Users/work/work-DRLLSS2024/venv-atari/lib/python3.10/site-packages/AutoROM/roms/skiing.bin\n",
      "Installed /Users/work/work-DRLLSS2024/venv-atari/lib/python3.10/site-packages/multi_agent_ale_py/roms/skiing.bin\n",
      "Installed /Users/work/work-DRLLSS2024/venv-atari/lib/python3.10/site-packages/AutoROM/roms/solaris.bin\n",
      "Installed /Users/work/work-DRLLSS2024/venv-atari/lib/python3.10/site-packages/multi_agent_ale_py/roms/solaris.bin\n",
      "Installed /Users/work/work-DRLLSS2024/venv-atari/lib/python3.10/site-packages/AutoROM/roms/space_invaders.bin\n",
      "Installed /Users/work/work-DRLLSS2024/venv-atari/lib/python3.10/site-packages/multi_agent_ale_py/roms/space_invaders.bin\n",
      "Installed /Users/work/work-DRLLSS2024/venv-atari/lib/python3.10/site-packages/AutoROM/roms/space_war.bin\n",
      "Installed /Users/work/work-DRLLSS2024/venv-atari/lib/python3.10/site-packages/multi_agent_ale_py/roms/space_war.bin\n",
      "Installed /Users/work/work-DRLLSS2024/venv-atari/lib/python3.10/site-packages/AutoROM/roms/star_gunner.bin\n",
      "Installed /Users/work/work-DRLLSS2024/venv-atari/lib/python3.10/site-packages/multi_agent_ale_py/roms/star_gunner.bin\n",
      "Installed /Users/work/work-DRLLSS2024/venv-atari/lib/python3.10/site-packages/AutoROM/roms/superman.bin\n",
      "Installed /Users/work/work-DRLLSS2024/venv-atari/lib/python3.10/site-packages/multi_agent_ale_py/roms/superman.bin\n",
      "Installed /Users/work/work-DRLLSS2024/venv-atari/lib/python3.10/site-packages/AutoROM/roms/surround.bin\n",
      "Installed /Users/work/work-DRLLSS2024/venv-atari/lib/python3.10/site-packages/multi_agent_ale_py/roms/surround.bin\n",
      "Installed /Users/work/work-DRLLSS2024/venv-atari/lib/python3.10/site-packages/AutoROM/roms/tennis.bin\n",
      "Installed /Users/work/work-DRLLSS2024/venv-atari/lib/python3.10/site-packages/multi_agent_ale_py/roms/tennis.bin\n",
      "Installed /Users/work/work-DRLLSS2024/venv-atari/lib/python3.10/site-packages/AutoROM/roms/tetris.bin\n",
      "Installed /Users/work/work-DRLLSS2024/venv-atari/lib/python3.10/site-packages/multi_agent_ale_py/roms/tetris.bin\n",
      "Installed /Users/work/work-DRLLSS2024/venv-atari/lib/python3.10/site-packages/AutoROM/roms/tic_tac_toe_3d.bin\n",
      "Installed /Users/work/work-DRLLSS2024/venv-atari/lib/python3.10/site-packages/multi_agent_ale_py/roms/tic_tac_toe_3d.bin\n",
      "Installed /Users/work/work-DRLLSS2024/venv-atari/lib/python3.10/site-packages/AutoROM/roms/time_pilot.bin\n",
      "Installed /Users/work/work-DRLLSS2024/venv-atari/lib/python3.10/site-packages/multi_agent_ale_py/roms/time_pilot.bin\n",
      "Installed /Users/work/work-DRLLSS2024/venv-atari/lib/python3.10/site-packages/AutoROM/roms/trondead.bin\n",
      "Installed /Users/work/work-DRLLSS2024/venv-atari/lib/python3.10/site-packages/multi_agent_ale_py/roms/trondead.bin\n",
      "Installed /Users/work/work-DRLLSS2024/venv-atari/lib/python3.10/site-packages/AutoROM/roms/turmoil.bin\n",
      "Installed /Users/work/work-DRLLSS2024/venv-atari/lib/python3.10/site-packages/multi_agent_ale_py/roms/turmoil.bin\n",
      "Installed /Users/work/work-DRLLSS2024/venv-atari/lib/python3.10/site-packages/AutoROM/roms/tutankham.bin\n",
      "Installed /Users/work/work-DRLLSS2024/venv-atari/lib/python3.10/site-packages/multi_agent_ale_py/roms/tutankham.bin\n",
      "Installed /Users/work/work-DRLLSS2024/venv-atari/lib/python3.10/site-packages/AutoROM/roms/up_n_down.bin\n",
      "Installed /Users/work/work-DRLLSS2024/venv-atari/lib/python3.10/site-packages/multi_agent_ale_py/roms/up_n_down.bin\n",
      "Installed /Users/work/work-DRLLSS2024/venv-atari/lib/python3.10/site-packages/AutoROM/roms/venture.bin\n",
      "Installed /Users/work/work-DRLLSS2024/venv-atari/lib/python3.10/site-packages/multi_agent_ale_py/roms/venture.bin\n",
      "Installed /Users/work/work-DRLLSS2024/venv-atari/lib/python3.10/site-packages/AutoROM/roms/video_checkers.bin\n",
      "Installed /Users/work/work-DRLLSS2024/venv-atari/lib/python3.10/site-packages/multi_agent_ale_py/roms/video_checkers.bin\n",
      "Installed /Users/work/work-DRLLSS2024/venv-atari/lib/python3.10/site-packages/AutoROM/roms/video_chess.bin\n",
      "Installed /Users/work/work-DRLLSS2024/venv-atari/lib/python3.10/site-packages/multi_agent_ale_py/roms/video_chess.bin\n",
      "Installed /Users/work/work-DRLLSS2024/venv-atari/lib/python3.10/site-packages/AutoROM/roms/video_cube.bin\n",
      "Installed /Users/work/work-DRLLSS2024/venv-atari/lib/python3.10/site-packages/multi_agent_ale_py/roms/video_cube.bin\n",
      "Installed /Users/work/work-DRLLSS2024/venv-atari/lib/python3.10/site-packages/AutoROM/roms/video_pinball.bin\n",
      "Installed /Users/work/work-DRLLSS2024/venv-atari/lib/python3.10/site-packages/multi_agent_ale_py/roms/video_pinball.bin\n",
      "Installed /Users/work/work-DRLLSS2024/venv-atari/lib/python3.10/site-packages/AutoROM/roms/warlords.bin\n",
      "Installed /Users/work/work-DRLLSS2024/venv-atari/lib/python3.10/site-packages/multi_agent_ale_py/roms/warlords.bin\n",
      "Installed /Users/work/work-DRLLSS2024/venv-atari/lib/python3.10/site-packages/AutoROM/roms/wizard_of_wor.bin\n",
      "Installed /Users/work/work-DRLLSS2024/venv-atari/lib/python3.10/site-packages/multi_agent_ale_py/roms/wizard_of_wor.bin\n",
      "Installed /Users/work/work-DRLLSS2024/venv-atari/lib/python3.10/site-packages/AutoROM/roms/word_zapper.bin\n",
      "Installed /Users/work/work-DRLLSS2024/venv-atari/lib/python3.10/site-packages/multi_agent_ale_py/roms/word_zapper.bin\n",
      "Installed /Users/work/work-DRLLSS2024/venv-atari/lib/python3.10/site-packages/AutoROM/roms/yars_revenge.bin\n",
      "Installed /Users/work/work-DRLLSS2024/venv-atari/lib/python3.10/site-packages/multi_agent_ale_py/roms/yars_revenge.bin\n",
      "Installed /Users/work/work-DRLLSS2024/venv-atari/lib/python3.10/site-packages/AutoROM/roms/zaxxon.bin\n",
      "Installed /Users/work/work-DRLLSS2024/venv-atari/lib/python3.10/site-packages/multi_agent_ale_py/roms/zaxxon.bin\n",
      "Done!\n"
     ]
    }
   ],
   "source": [
    "!AutoROM -y"
   ]
  },
  {
   "cell_type": "code",
   "execution_count": 10,
   "id": "e121a0f9-1465-4554-b1ea-3037edee934b",
   "metadata": {},
   "outputs": [
    {
     "name": "stdout",
     "output_type": "stream",
     "text": [
      "Collecting imageio\n",
      "  Using cached imageio-2.34.0-py3-none-any.whl.metadata (4.9 kB)\n",
      "Requirement already satisfied: numpy in /Users/work/work-DRLLSS2024/venv-atari/lib/python3.10/site-packages (from imageio) (1.24.2)\n",
      "Requirement already satisfied: pillow>=8.3.2 in /Users/work/work-DRLLSS2024/venv-atari/lib/python3.10/site-packages (from imageio) (10.2.0)\n",
      "Using cached imageio-2.34.0-py3-none-any.whl (313 kB)\n",
      "Installing collected packages: imageio\n",
      "Successfully installed imageio-2.34.0\n"
     ]
    }
   ],
   "source": [
    "!pip install imageio"
   ]
  },
  {
   "cell_type": "code",
   "execution_count": 1,
   "id": "650780a5-3d68-4be5-86f0-c82da80a1cbc",
   "metadata": {},
   "outputs": [
    {
     "name": "stdout",
     "output_type": "stream",
     "text": [
      "20240326-1012\n"
     ]
    }
   ],
   "source": [
    "#現在日時を取得\n",
    "import datetime\n",
    "\n",
    "if True: #新規採番\n",
    "    dt_now = datetime.datetime.now()\n",
    "    str_dt_now = dt_now.strftime(\"%Y%m%d-%H%M\")\n",
    "    print(str_dt_now)\n",
    "\n",
    "else: # 固定値\n",
    "    str_dt_now = \"20231231-1733\""
   ]
  },
  {
   "cell_type": "code",
   "execution_count": 2,
   "id": "947fe8d6-7155-469c-8ee5-462ded068335",
   "metadata": {},
   "outputs": [
    {
     "name": "stdout",
     "output_type": "stream",
     "text": [
      "/home/user/work-DRLSS2024/DRLSS2024-MultiAgent/otk/AgileRL-MATD3/basketball_pong_v3\n"
     ]
    }
   ],
   "source": [
    "!pwd"
   ]
  },
  {
   "cell_type": "code",
   "execution_count": 4,
   "id": "b763bc86-f7c4-4ab5-adf3-98068042f627",
   "metadata": {},
   "outputs": [
    {
     "name": "stdout",
     "output_type": "stream",
     "text": [
      "Start  :  20240326-1013\n",
      "===== AgileRL Online Multi-Agent Demo =====\n"
     ]
    },
    {
     "name": "stderr",
     "output_type": "stream",
     "text": [
      "/home/user/work-DRLSS2024/venv-DRLSS2024/lib/python3.10/site-packages/pettingzoo/utils/conversions.py:232: UserWarning: The base environment `basketball_pong_v3` does not have a `render_mode` defined.\n",
      "  warnings.warn(\n"
     ]
    },
    {
     "name": "stdout",
     "output_type": "stream",
     "text": [
      "state_dim [(4, 84, 84), (4, 84, 84)]\n",
      "action_dim [6, 6]\n",
      "one_hot False\n",
      "NET_CONFIG\n",
      "{'arch': 'cnn',\n",
      " 'c_size': [3, 32],\n",
      " 'h_size': [32, 32],\n",
      " 'k_size': [[1, 3, 3], [1, 3, 3]],\n",
      " 'normalize': 'True',\n",
      " 's_size': [2, 2]}\n",
      "INIT_HP\n",
      "{'AGENT_IDS': ['first_0', 'second_0'],\n",
      " 'ALGO': 'MATD3',\n",
      " 'BATCH_SIZE': 64,\n",
      " 'CHANNELS_LAST': 'True',\n",
      " 'DISCRETE_ACTIONS': True,\n",
      " 'GAMMA': 0.95,\n",
      " 'LEARN_STEP': 5,\n",
      " 'LR': 0.01,\n",
      " 'MAX_ACTION': None,\n",
      " 'MEMORY_SIZE': 200000,\n",
      " 'MIN_ACTION': None,\n",
      " 'N_AGENTS': 2,\n",
      " 'POLICY_FREQ': 2,\n",
      " 'POPULATION_SIZE': 1,\n",
      " 'TAU': 0.01}\n",
      "device cuda\n"
     ]
    },
    {
     "name": "stderr",
     "output_type": "stream",
     "text": [
      "  5%|█▉                                     | 50/1000 [04:30<1:52:07,  7.08s/it]"
     ]
    },
    {
     "name": "stdout",
     "output_type": "stream",
     "text": [
      "Episode 50/1000\n",
      "Fitnesses: ['0.00']\n",
      "100 fitness avgs: ['0.00']\n"
     ]
    },
    {
     "name": "stderr",
     "output_type": "stream",
     "text": [
      " 10%|███▊                                  | 100/1000 [09:11<1:48:31,  7.23s/it]"
     ]
    },
    {
     "name": "stdout",
     "output_type": "stream",
     "text": [
      "Episode 100/1000\n",
      "Fitnesses: ['0.00']\n",
      "100 fitness avgs: ['0.00']\n"
     ]
    },
    {
     "name": "stderr",
     "output_type": "stream",
     "text": [
      " 15%|█████▋                                | 150/1000 [13:57<1:44:03,  7.34s/it]"
     ]
    },
    {
     "name": "stdout",
     "output_type": "stream",
     "text": [
      "Episode 150/1000\n",
      "Fitnesses: ['0.00']\n",
      "100 fitness avgs: ['0.00']\n"
     ]
    },
    {
     "name": "stderr",
     "output_type": "stream",
     "text": [
      " 20%|███████▌                              | 200/1000 [18:49<1:39:41,  7.48s/it]"
     ]
    },
    {
     "name": "stdout",
     "output_type": "stream",
     "text": [
      "Episode 200/1000\n",
      "Fitnesses: ['0.00']\n",
      "100 fitness avgs: ['0.00']\n"
     ]
    },
    {
     "name": "stderr",
     "output_type": "stream",
     "text": [
      " 25%|█████████▍                            | 249/1000 [23:34<1:13:57,  5.91s/it]"
     ]
    },
    {
     "name": "stdout",
     "output_type": "stream",
     "text": [
      "Episode 250/1000\n",
      "Fitnesses: ['0.00']\n",
      "100 fitness avgs: ['0.00']\n"
     ]
    },
    {
     "name": "stderr",
     "output_type": "stream",
     "text": [
      " 30%|███████████▍                          | 300/1000 [28:45<1:28:35,  7.59s/it]"
     ]
    },
    {
     "name": "stdout",
     "output_type": "stream",
     "text": [
      "Episode 300/1000\n",
      "Fitnesses: ['0.00']\n",
      "100 fitness avgs: ['0.00']\n"
     ]
    },
    {
     "name": "stderr",
     "output_type": "stream",
     "text": [
      " 35%|█████████████▎                        | 350/1000 [33:48<1:22:55,  7.66s/it]"
     ]
    },
    {
     "name": "stdout",
     "output_type": "stream",
     "text": [
      "Episode 350/1000\n",
      "Fitnesses: ['0.00']\n",
      "100 fitness avgs: ['0.00']\n"
     ]
    },
    {
     "name": "stderr",
     "output_type": "stream",
     "text": [
      " 40%|███████████████▏                      | 399/1000 [38:40<1:00:44,  6.06s/it]"
     ]
    },
    {
     "name": "stdout",
     "output_type": "stream",
     "text": [
      "Episode 400/1000\n",
      "Fitnesses: ['0.00']\n",
      "100 fitness avgs: ['0.00']\n"
     ]
    },
    {
     "name": "stderr",
     "output_type": "stream",
     "text": [
      " 45%|█████████████████                     | 450/1000 [43:57<1:10:32,  7.70s/it]"
     ]
    },
    {
     "name": "stdout",
     "output_type": "stream",
     "text": [
      "Episode 450/1000\n",
      "Fitnesses: ['0.00']\n",
      "100 fitness avgs: ['0.00']\n"
     ]
    },
    {
     "name": "stderr",
     "output_type": "stream",
     "text": [
      " 50%|███████████████████                   | 500/1000 [49:06<1:04:36,  7.75s/it]"
     ]
    },
    {
     "name": "stdout",
     "output_type": "stream",
     "text": [
      "Episode 500/1000\n",
      "Fitnesses: ['0.00']\n",
      "100 fitness avgs: ['0.00']\n"
     ]
    },
    {
     "name": "stderr",
     "output_type": "stream",
     "text": [
      " 55%|██████████████████████                  | 550/1000 [54:15<57:52,  7.72s/it]"
     ]
    },
    {
     "name": "stdout",
     "output_type": "stream",
     "text": [
      "Episode 550/1000\n",
      "Fitnesses: ['0.00']\n",
      "100 fitness avgs: ['0.00']\n"
     ]
    },
    {
     "name": "stderr",
     "output_type": "stream",
     "text": [
      " 60%|████████████████████████                | 600/1000 [59:21<51:18,  7.70s/it]"
     ]
    },
    {
     "name": "stdout",
     "output_type": "stream",
     "text": [
      "Episode 600/1000\n",
      "Fitnesses: ['0.00']\n",
      "100 fitness avgs: ['0.00']\n"
     ]
    },
    {
     "name": "stderr",
     "output_type": "stream",
     "text": [
      " 65%|████████████████████████▋             | 649/1000 [1:04:16<35:32,  6.08s/it]"
     ]
    },
    {
     "name": "stdout",
     "output_type": "stream",
     "text": [
      "Episode 650/1000\n",
      "Fitnesses: ['0.00']\n",
      "100 fitness avgs: ['0.00']\n"
     ]
    },
    {
     "name": "stderr",
     "output_type": "stream",
     "text": [
      " 70%|██████████████████████████▌           | 699/1000 [1:09:23<30:32,  6.09s/it]"
     ]
    },
    {
     "name": "stdout",
     "output_type": "stream",
     "text": [
      "Episode 700/1000\n",
      "Fitnesses: ['0.00']\n",
      "100 fitness avgs: ['0.00']\n"
     ]
    },
    {
     "name": "stderr",
     "output_type": "stream",
     "text": [
      " 75%|████████████████████████████▍         | 749/1000 [1:14:28<25:22,  6.06s/it]"
     ]
    },
    {
     "name": "stdout",
     "output_type": "stream",
     "text": [
      "Episode 750/1000\n",
      "Fitnesses: ['0.00']\n",
      "100 fitness avgs: ['0.00']\n"
     ]
    },
    {
     "name": "stderr",
     "output_type": "stream",
     "text": [
      " 80%|██████████████████████████████▎       | 799/1000 [1:19:34<20:14,  6.04s/it]"
     ]
    },
    {
     "name": "stdout",
     "output_type": "stream",
     "text": [
      "Episode 800/1000\n",
      "Fitnesses: ['0.00']\n",
      "100 fitness avgs: ['0.00']\n"
     ]
    },
    {
     "name": "stderr",
     "output_type": "stream",
     "text": [
      " 85%|████████████████████████████████▎     | 849/1000 [1:24:40<15:21,  6.10s/it]"
     ]
    },
    {
     "name": "stdout",
     "output_type": "stream",
     "text": [
      "Episode 850/1000\n",
      "Fitnesses: ['0.00']\n",
      "100 fitness avgs: ['0.00']\n"
     ]
    },
    {
     "name": "stderr",
     "output_type": "stream",
     "text": [
      " 90%|██████████████████████████████████▏   | 899/1000 [1:29:48<10:16,  6.11s/it]"
     ]
    },
    {
     "name": "stdout",
     "output_type": "stream",
     "text": [
      "Episode 900/1000\n",
      "Fitnesses: ['0.00']\n",
      "100 fitness avgs: ['0.00']\n"
     ]
    },
    {
     "name": "stderr",
     "output_type": "stream",
     "text": [
      " 95%|████████████████████████████████████  | 949/1000 [1:34:56<05:11,  6.12s/it]"
     ]
    },
    {
     "name": "stdout",
     "output_type": "stream",
     "text": [
      "Episode 950/1000\n",
      "Fitnesses: ['0.00']\n",
      "100 fitness avgs: ['0.00']\n"
     ]
    },
    {
     "name": "stderr",
     "output_type": "stream",
     "text": [
      "100%|█████████████████████████████████████▉| 999/1000 [1:40:03<00:06,  6.11s/it]"
     ]
    },
    {
     "name": "stdout",
     "output_type": "stream",
     "text": [
      "Episode 1000/1000\n",
      "Fitnesses: ['0.00']\n",
      "100 fitness avgs: ['0.00']\n"
     ]
    },
    {
     "name": "stderr",
     "output_type": "stream",
     "text": [
      "100%|█████████████████████████████████████| 1000/1000 [1:40:15<00:00,  6.02s/it]"
     ]
    },
    {
     "name": "stdout",
     "output_type": "stream",
     "text": [
      "Save Model at ep  1000\n",
      "\n",
      "Saving Files...\n"
     ]
    },
    {
     "name": "stderr",
     "output_type": "stream",
     "text": [
      "\n"
     ]
    },
    {
     "name": "stdout",
     "output_type": "stream",
     "text": [
      "Done.\n",
      "Start  :  20240326-1013\n",
      "End    :  20240326-1153\n",
      "Elapse :  1:40:16.592088\n"
     ]
    }
   ],
   "source": [
    "dt_start = datetime.datetime.now()\n",
    "print(\"Start  : \", dt_start.strftime(\"%Y%m%d-%H%M\"))\n",
    "\n",
    "if False: # 続きから実行\n",
    "    path_p = \"./result/20231231-1732/pickle-population.pkl\"\n",
    "    path_r = \"./result/20231231-1732/pickle-replaybuffer.pkl\"\n",
    "    path_t = \"./result/20231231-1732/pickle-tournament.pkl\"\n",
    "    path_m = \"./result/20231231-1732/pickle-mutations.pkl\"\n",
    "\n",
    "    %run script-1-train.py -dt $str_dt_now -pop $path_p -r $path_r -t $path_t -m $path_m\n",
    "\n",
    "else: # 新規実行\n",
    "\n",
    "    %run script-1-train.py -dt $str_dt_now\n",
    "\n",
    "dt_end = datetime.datetime.now()\n",
    "\n",
    "print(\"Start  : \", dt_start.strftime(\"%Y%m%d-%H%M\"))\n",
    "print(\"End    : \", dt_end.strftime(\"%Y%m%d-%H%M\"))\n",
    "print(\"Elapse : \", dt_end-dt_start)"
   ]
  },
  {
   "cell_type": "code",
   "execution_count": 5,
   "id": "0f1b4bc6-043a-48e4-ae2b-b83912f09b3b",
   "metadata": {
    "scrolled": true
   },
   "outputs": [
    {
     "name": "stdout",
     "output_type": "stream",
     "text": [
      "terminated.\n",
      "13183\n",
      "--------------- Episode: 0 ---------------\n",
      "Episodic Reward:  0.0\n",
      "first_0 reward: -3.0\n",
      "second_0 reward: 3.0\n",
      "Done.\n",
      "terminated.\n",
      "11934\n",
      "--------------- Episode: 0 ---------------\n",
      "Episodic Reward:  0.0\n",
      "first_0 reward: -2.0\n",
      "second_0 reward: 2.0\n",
      "Done.\n",
      "terminated.\n",
      "9338\n",
      "--------------- Episode: 0 ---------------\n",
      "Episodic Reward:  0.0\n",
      "first_0 reward: -5.0\n",
      "second_0 reward: 5.0\n",
      "Done.\n",
      "terminated.\n",
      "8097\n",
      "--------------- Episode: 0 ---------------\n",
      "Episodic Reward:  0.0\n",
      "first_0 reward: 6.0\n",
      "second_0 reward: -6.0\n",
      "Done.\n",
      "terminated.\n",
      "8764\n",
      "--------------- Episode: 0 ---------------\n",
      "Episodic Reward:  0.0\n",
      "first_0 reward: -6.0\n",
      "second_0 reward: 6.0\n",
      "Done.\n",
      "terminated.\n",
      "8275\n",
      "--------------- Episode: 0 ---------------\n",
      "Episodic Reward:  0.0\n",
      "first_0 reward: -8.0\n",
      "second_0 reward: 8.0\n",
      "Done.\n",
      "terminated.\n",
      "7616\n",
      "--------------- Episode: 0 ---------------\n",
      "Episodic Reward:  0.0\n",
      "first_0 reward: 7.0\n",
      "second_0 reward: -7.0\n",
      "Done.\n",
      "terminated.\n",
      "8159\n",
      "--------------- Episode: 0 ---------------\n",
      "Episodic Reward:  0.0\n",
      "first_0 reward: 3.0\n",
      "second_0 reward: -3.0\n",
      "Done.\n",
      "terminated.\n",
      "8242\n",
      "--------------- Episode: 0 ---------------\n",
      "Episodic Reward:  0.0\n",
      "first_0 reward: 1.0\n",
      "second_0 reward: -1.0\n",
      "Done.\n",
      "terminated.\n",
      "8005\n",
      "--------------- Episode: 0 ---------------\n",
      "Episodic Reward:  0.0\n",
      "first_0 reward: -9.0\n",
      "second_0 reward: 9.0\n",
      "Done.\n",
      "terminated.\n",
      "11434\n",
      "--------------- Episode: 0 ---------------\n",
      "Episodic Reward:  0.0\n",
      "first_0 reward: 7.0\n",
      "second_0 reward: -7.0\n",
      "Done.\n",
      "terminated.\n",
      "11383\n",
      "--------------- Episode: 0 ---------------\n",
      "Episodic Reward:  0.0\n",
      "first_0 reward: 2.0\n",
      "second_0 reward: -2.0\n",
      "Done.\n",
      "terminated.\n",
      "8184\n",
      "--------------- Episode: 0 ---------------\n",
      "Episodic Reward:  0.0\n",
      "first_0 reward: -12.0\n",
      "second_0 reward: 12.0\n",
      "Done.\n",
      "terminated.\n",
      "10431\n",
      "--------------- Episode: 0 ---------------\n",
      "Episodic Reward:  0.0\n",
      "first_0 reward: -1.0\n",
      "second_0 reward: 1.0\n",
      "Done.\n",
      "terminated.\n",
      "6703\n",
      "--------------- Episode: 0 ---------------\n",
      "Episodic Reward:  0.0\n",
      "first_0 reward: -12.0\n",
      "second_0 reward: 12.0\n",
      "Done.\n",
      "terminated.\n",
      "10443\n",
      "--------------- Episode: 0 ---------------\n",
      "Episodic Reward:  0.0\n",
      "first_0 reward: -1.0\n",
      "second_0 reward: 1.0\n",
      "Done.\n",
      "terminated.\n",
      "8905\n",
      "--------------- Episode: 0 ---------------\n",
      "Episodic Reward:  0.0\n",
      "first_0 reward: 2.0\n",
      "second_0 reward: -2.0\n",
      "Done.\n",
      "terminated.\n",
      "9895\n",
      "--------------- Episode: 0 ---------------\n",
      "Episodic Reward:  0.0\n",
      "first_0 reward: 5.0\n",
      "second_0 reward: -5.0\n",
      "Done.\n",
      "terminated.\n",
      "12530\n",
      "--------------- Episode: 0 ---------------\n",
      "Episodic Reward:  0.0\n",
      "first_0 reward: 1.0\n",
      "second_0 reward: -1.0\n",
      "Done.\n",
      "terminated.\n",
      "10027\n",
      "--------------- Episode: 0 ---------------\n",
      "Episodic Reward:  0.0\n",
      "first_0 reward: 8.0\n",
      "second_0 reward: -8.0\n",
      "Done.\n"
     ]
    }
   ],
   "source": [
    "#%run script-2-play.py -dt $str_dt_now\n",
    "for _ in range(20):\n",
    "#while True:\n",
    "    %run script-2-play.py -dt \"20240326-1012\""
   ]
  },
  {
   "cell_type": "code",
   "execution_count": 27,
   "id": "fd62d1b5-7785-4023-8de1-0ff1f36b4239",
   "metadata": {},
   "outputs": [
    {
     "ename": "ModuleNotFoundError",
     "evalue": "No module named 'playsound'",
     "output_type": "error",
     "traceback": [
      "\u001b[0;31m---------------------------------------------------------------------------\u001b[0m",
      "\u001b[0;31mModuleNotFoundError\u001b[0m                       Traceback (most recent call last)",
      "Cell \u001b[0;32mIn[27], line 1\u001b[0m\n\u001b[0;32m----> 1\u001b[0m \u001b[38;5;28;01mimport\u001b[39;00m \u001b[38;5;21;01mplaysound\u001b[39;00m\n\u001b[1;32m      3\u001b[0m \u001b[38;5;28;01mwhile\u001b[39;00m \u001b[38;5;28;01mTrue\u001b[39;00m:\n\u001b[1;32m      4\u001b[0m     playsound\u001b[38;5;241m.\u001b[39mplaysound(\u001b[38;5;124m\"\u001b[39m\u001b[38;5;124mfireworks.mp3\u001b[39m\u001b[38;5;124m\"\u001b[39m)\n",
      "\u001b[0;31mModuleNotFoundError\u001b[0m: No module named 'playsound'"
     ]
    }
   ],
   "source": [
    "import playsound\n",
    "\n",
    "while True:\n",
    "    playsound.playsound(\"fireworks.mp3\")"
   ]
  },
  {
   "cell_type": "code",
   "execution_count": null,
   "id": "5d75d986-de09-4449-ab01-394fcb3ce289",
   "metadata": {},
   "outputs": [],
   "source": []
  },
  {
   "cell_type": "code",
   "execution_count": null,
   "id": "399259e0-3c85-4800-b574-e7f08d86b9b2",
   "metadata": {},
   "outputs": [],
   "source": []
  }
 ],
 "metadata": {
  "kernelspec": {
   "display_name": "Python 3 (ipykernel)",
   "language": "python",
   "name": "python3"
  },
  "language_info": {
   "codemirror_mode": {
    "name": "ipython",
    "version": 3
   },
   "file_extension": ".py",
   "mimetype": "text/x-python",
   "name": "python",
   "nbconvert_exporter": "python",
   "pygments_lexer": "ipython3",
   "version": "3.10.12"
  }
 },
 "nbformat": 4,
 "nbformat_minor": 5
}
