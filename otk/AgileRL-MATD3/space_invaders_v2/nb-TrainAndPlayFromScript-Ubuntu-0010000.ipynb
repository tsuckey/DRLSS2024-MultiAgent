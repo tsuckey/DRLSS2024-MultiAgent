{
 "cells": [
  {
   "cell_type": "markdown",
   "id": "ff4488f4",
   "metadata": {},
   "source": [
    "# AgileRL Space Invaders with MATD3\n",
    "https://docs.agilerl.com/en/latest/tutorials/pettingzoo/matd3.html"
   ]
  },
  {
   "cell_type": "code",
   "execution_count": 1,
   "id": "dc69b66d-50af-4ab2-9c4b-8370ecd819d0",
   "metadata": {},
   "outputs": [
    {
     "name": "stdout",
     "output_type": "stream",
     "text": [
      "Python 3.10.14\n"
     ]
    }
   ],
   "source": [
    "!python -V"
   ]
  },
  {
   "cell_type": "code",
   "execution_count": 2,
   "id": "a9b039f0",
   "metadata": {},
   "outputs": [
    {
     "name": "stdout",
     "output_type": "stream",
     "text": [
      "Requirement already satisfied: pip in /Users/work/work-DRLLSS2024/venv-atari/lib/python3.10/site-packages (24.0)\n"
     ]
    }
   ],
   "source": [
    "!pip install --upgrade pip"
   ]
  },
  {
   "cell_type": "code",
   "execution_count": 3,
   "id": "ba031e05-4822-4ce2-acfb-0cf92b11910e",
   "metadata": {},
   "outputs": [
    {
     "name": "stdout",
     "output_type": "stream",
     "text": [
      "Collecting numpy==1.24.2\n",
      "  Using cached numpy-1.24.2-cp310-cp310-macosx_10_9_x86_64.whl.metadata (5.6 kB)\n",
      "Using cached numpy-1.24.2-cp310-cp310-macosx_10_9_x86_64.whl (19.8 MB)\n",
      "Installing collected packages: numpy\n",
      "Successfully installed numpy-1.24.2\n"
     ]
    }
   ],
   "source": [
    "!pip install numpy==1.24.2"
   ]
  },
  {
   "cell_type": "code",
   "execution_count": 4,
   "id": "6670f3ca-a919-4345-b839-ddc3eb2f55c1",
   "metadata": {},
   "outputs": [
    {
     "name": "stdout",
     "output_type": "stream",
     "text": [
      "Collecting supersuit==3.9.0\n",
      "  Using cached SuperSuit-3.9.0-py3-none-any.whl.metadata (3.0 kB)\n",
      "Requirement already satisfied: numpy>=1.19.0 in /Users/work/work-DRLLSS2024/venv-atari/lib/python3.10/site-packages (from supersuit==3.9.0) (1.24.2)\n",
      "Collecting gymnasium>=0.28.1 (from supersuit==3.9.0)\n",
      "  Using cached gymnasium-0.29.1-py3-none-any.whl.metadata (10 kB)\n",
      "Collecting tinyscaler>=1.2.6 (from supersuit==3.9.0)\n",
      "  Using cached tinyscaler-1.2.7-cp310-cp310-macosx_11_0_x86_64.whl.metadata (4.2 kB)\n",
      "Collecting cloudpickle>=1.2.0 (from gymnasium>=0.28.1->supersuit==3.9.0)\n",
      "  Using cached cloudpickle-3.0.0-py3-none-any.whl.metadata (7.0 kB)\n",
      "Requirement already satisfied: typing-extensions>=4.3.0 in /Users/work/work-DRLLSS2024/venv-atari/lib/python3.10/site-packages (from gymnasium>=0.28.1->supersuit==3.9.0) (4.10.0)\n",
      "Collecting farama-notifications>=0.0.1 (from gymnasium>=0.28.1->supersuit==3.9.0)\n",
      "  Using cached Farama_Notifications-0.0.4-py3-none-any.whl.metadata (558 bytes)\n",
      "Using cached SuperSuit-3.9.0-py3-none-any.whl (49 kB)\n",
      "Using cached gymnasium-0.29.1-py3-none-any.whl (953 kB)\n",
      "Using cached tinyscaler-1.2.7-cp310-cp310-macosx_11_0_x86_64.whl (96 kB)\n",
      "Using cached cloudpickle-3.0.0-py3-none-any.whl (20 kB)\n",
      "Using cached Farama_Notifications-0.0.4-py3-none-any.whl (2.5 kB)\n",
      "Installing collected packages: farama-notifications, tinyscaler, cloudpickle, gymnasium, supersuit\n",
      "Successfully installed cloudpickle-3.0.0 farama-notifications-0.0.4 gymnasium-0.29.1 supersuit-3.9.0 tinyscaler-1.2.7\n"
     ]
    }
   ],
   "source": [
    "!pip install supersuit==3.9.0"
   ]
  },
  {
   "cell_type": "code",
   "execution_count": 5,
   "id": "ffde7aa6-7e95-4624-9bbc-fe76009a7953",
   "metadata": {},
   "outputs": [
    {
     "name": "stdout",
     "output_type": "stream",
     "text": [
      "Collecting pettingzoo==1.23.1 (from pettingzoo[atari,classic,mpe]==1.23.1)\n",
      "  Using cached pettingzoo-1.23.1-py3-none-any.whl.metadata (7.9 kB)\n",
      "Requirement already satisfied: numpy>=1.21.0 in /Users/work/work-DRLLSS2024/venv-atari/lib/python3.10/site-packages (from pettingzoo==1.23.1->pettingzoo[atari,classic,mpe]==1.23.1) (1.24.2)\n",
      "Requirement already satisfied: gymnasium>=0.28.0 in /Users/work/work-DRLLSS2024/venv-atari/lib/python3.10/site-packages (from pettingzoo==1.23.1->pettingzoo[atari,classic,mpe]==1.23.1) (0.29.1)\n",
      "Collecting pygame==2.3.0 (from pettingzoo[atari,classic,mpe]==1.23.1)\n",
      "  Using cached pygame-2.3.0-cp310-cp310-macosx_10_9_x86_64.whl.metadata (10 kB)\n",
      "Collecting multi-agent-ale-py==0.1.11 (from pettingzoo[atari,classic,mpe]==1.23.1)\n",
      "  Using cached multi_agent_ale_py-0.1.11-cp310-cp310-macosx_14_0_x86_64.whl\n",
      "Collecting chess==1.7.0 (from pettingzoo[atari,classic,mpe]==1.23.1)\n",
      "  Using cached chess-1.7.0-py3-none-any.whl.metadata (18 kB)\n",
      "Collecting rlcard==1.0.5 (from pettingzoo[atari,classic,mpe]==1.23.1)\n",
      "  Using cached rlcard-1.0.5-py3-none-any.whl\n",
      "Collecting hanabi-learning-environment==0.0.4 (from pettingzoo[atari,classic,mpe]==1.23.1)\n",
      "  Using cached hanabi_learning_environment-0.0.4-cp310-cp310-macosx_14_0_x86_64.whl\n",
      "Requirement already satisfied: cffi in /Users/work/work-DRLLSS2024/venv-atari/lib/python3.10/site-packages (from hanabi-learning-environment==0.0.4->pettingzoo[atari,classic,mpe]==1.23.1) (1.16.0)\n",
      "Collecting termcolor (from rlcard==1.0.5->pettingzoo[atari,classic,mpe]==1.23.1)\n",
      "  Using cached termcolor-2.4.0-py3-none-any.whl.metadata (6.1 kB)\n",
      "Requirement already satisfied: cloudpickle>=1.2.0 in /Users/work/work-DRLLSS2024/venv-atari/lib/python3.10/site-packages (from gymnasium>=0.28.0->pettingzoo==1.23.1->pettingzoo[atari,classic,mpe]==1.23.1) (3.0.0)\n",
      "Requirement already satisfied: typing-extensions>=4.3.0 in /Users/work/work-DRLLSS2024/venv-atari/lib/python3.10/site-packages (from gymnasium>=0.28.0->pettingzoo==1.23.1->pettingzoo[atari,classic,mpe]==1.23.1) (4.10.0)\n",
      "Requirement already satisfied: farama-notifications>=0.0.1 in /Users/work/work-DRLLSS2024/venv-atari/lib/python3.10/site-packages (from gymnasium>=0.28.0->pettingzoo==1.23.1->pettingzoo[atari,classic,mpe]==1.23.1) (0.0.4)\n",
      "Requirement already satisfied: pycparser in /Users/work/work-DRLLSS2024/venv-atari/lib/python3.10/site-packages (from cffi->hanabi-learning-environment==0.0.4->pettingzoo[atari,classic,mpe]==1.23.1) (2.21)\n",
      "Using cached pettingzoo-1.23.1-py3-none-any.whl (826 kB)\n",
      "Using cached chess-1.7.0-py3-none-any.whl (147 kB)\n",
      "Using cached pygame-2.3.0-cp310-cp310-macosx_10_9_x86_64.whl (13.0 MB)\n",
      "Using cached termcolor-2.4.0-py3-none-any.whl (7.7 kB)\n",
      "Installing collected packages: termcolor, pygame, multi-agent-ale-py, chess, rlcard, pettingzoo, hanabi-learning-environment\n",
      "Successfully installed chess-1.7.0 hanabi-learning-environment-0.0.4 multi-agent-ale-py-0.1.11 pettingzoo-1.23.1 pygame-2.3.0 rlcard-1.0.5 termcolor-2.4.0\n"
     ]
    }
   ],
   "source": [
    "#!pip install pettingzoo==1.23.1\n",
    "!pip install \"\"\"pettingzoo[classic,atari,mpe]==1.23.1\"\"\""
   ]
  },
  {
   "cell_type": "code",
   "execution_count": 6,
   "id": "aebab40c-0002-49bd-ba96-16a3803f71ef",
   "metadata": {
    "scrolled": true
   },
   "outputs": [
    {
     "name": "stdout",
     "output_type": "stream",
     "text": [
      "Collecting agilerl==0.1.16\n",
      "  Using cached agilerl-0.1.16-py3-none-any.whl.metadata (62 kB)\n",
      "Requirement already satisfied: SuperSuit<4.0.0,>=3.9.0 in /Users/work/work-DRLLSS2024/venv-atari/lib/python3.10/site-packages (from agilerl==0.1.16) (3.9.0)\n",
      "Collecting accelerate<0.19.0,>=0.18.0 (from agilerl==0.1.16)\n",
      "  Using cached accelerate-0.18.0-py3-none-any.whl.metadata (16 kB)\n",
      "Collecting dill<0.4.0,>=0.3.7 (from agilerl==0.1.16)\n",
      "  Using cached dill-0.3.8-py3-none-any.whl.metadata (10 kB)\n",
      "Collecting fastrand<2.0.0,>=1.3.0 (from agilerl==0.1.16)\n",
      "  Using cached fastrand-1.8.0-cp310-cp310-macosx_10_9_x86_64.whl.metadata (2.9 kB)\n",
      "Collecting flatten_dict<0.5.0,>=0.4.2 (from agilerl==0.1.16)\n",
      "  Using cached flatten_dict-0.4.2-py2.py3-none-any.whl.metadata (9.2 kB)\n",
      "Collecting gymnasium<0.29.0,>=0.28.1 (from agilerl==0.1.16)\n",
      "  Using cached gymnasium-0.28.1-py3-none-any.whl.metadata (9.2 kB)\n",
      "Collecting h5py<4.0.0,>=3.8.0 (from agilerl==0.1.16)\n",
      "  Using cached h5py-3.10.0-cp310-cp310-macosx_10_9_x86_64.whl.metadata (2.5 kB)\n",
      "Collecting hydra-core<2.0.0,>=1.3.2 (from agilerl==0.1.16)\n",
      "  Using cached hydra_core-1.3.2-py3-none-any.whl.metadata (5.5 kB)\n",
      "Collecting importlib<2.0.0,>=1.0.4 (from agilerl==0.1.16)\n",
      "  Using cached importlib-1.0.4-py3-none-any.whl\n",
      "Collecting matplotlib<4.0.0,>=3.4.3 (from agilerl==0.1.16)\n",
      "  Using cached matplotlib-3.8.3-cp310-cp310-macosx_10_12_x86_64.whl.metadata (5.8 kB)\n",
      "Collecting minari<0.5.0,>=0.4.1 (from agilerl==0.1.16)\n",
      "  Using cached minari-0.4.3-py3-none-any.whl.metadata (4.6 kB)\n",
      "Requirement already satisfied: numpy<2.0.0,>=1.24.2 in /Users/work/work-DRLLSS2024/venv-atari/lib/python3.10/site-packages (from agilerl==0.1.16) (1.24.2)\n",
      "Collecting omegaconf<3.0.0,>=2.3.0 (from agilerl==0.1.16)\n",
      "  Using cached omegaconf-2.3.0-py3-none-any.whl.metadata (3.9 kB)\n",
      "Requirement already satisfied: pettingzoo<2.0.0,>=1.23.1 in /Users/work/work-DRLLSS2024/venv-atari/lib/python3.10/site-packages (from agilerl==0.1.16) (1.23.1)\n",
      "Collecting pre-commit<4.0.0,>=3.4.0 (from agilerl==0.1.16)\n",
      "  Using cached pre_commit-3.6.2-py2.py3-none-any.whl.metadata (1.3 kB)\n",
      "Collecting redis<5.0.0,>=4.4.4 (from agilerl==0.1.16)\n",
      "  Using cached redis-4.6.0-py3-none-any.whl.metadata (8.3 kB)\n",
      "Collecting termcolor<2.0.0,>=1.1.0 (from agilerl==0.1.16)\n",
      "  Using cached termcolor-1.1.0-py3-none-any.whl\n",
      "Collecting torch<3.0.0,>=2.0.1 (from agilerl==0.1.16)\n",
      "  Using cached torch-2.2.1-cp310-none-macosx_10_9_x86_64.whl.metadata (25 kB)\n",
      "Collecting tqdm<5.0.0,>=4.65.0 (from agilerl==0.1.16)\n",
      "  Using cached tqdm-4.66.2-py3-none-any.whl.metadata (57 kB)\n",
      "Collecting transformers<5.0.0,>=4.30.0 (from agilerl==0.1.16)\n",
      "  Using cached transformers-4.38.2-py3-none-any.whl.metadata (130 kB)\n",
      "Collecting wandb<0.14.0,>=0.13.10 (from agilerl==0.1.16)\n",
      "  Using cached wandb-0.13.11-py3-none-any.whl.metadata (7.9 kB)\n",
      "Requirement already satisfied: packaging>=20.0 in /Users/work/work-DRLLSS2024/venv-atari/lib/python3.10/site-packages (from accelerate<0.19.0,>=0.18.0->agilerl==0.1.16) (24.0)\n",
      "Requirement already satisfied: psutil in /Users/work/work-DRLLSS2024/venv-atari/lib/python3.10/site-packages (from accelerate<0.19.0,>=0.18.0->agilerl==0.1.16) (5.9.8)\n",
      "Requirement already satisfied: pyyaml in /Users/work/work-DRLLSS2024/venv-atari/lib/python3.10/site-packages (from accelerate<0.19.0,>=0.18.0->agilerl==0.1.16) (6.0.1)\n",
      "Requirement already satisfied: six<2.0,>=1.12 in /Users/work/work-DRLLSS2024/venv-atari/lib/python3.10/site-packages (from flatten_dict<0.5.0,>=0.4.2->agilerl==0.1.16) (1.16.0)\n",
      "Collecting jax-jumpy>=1.0.0 (from gymnasium<0.29.0,>=0.28.1->agilerl==0.1.16)\n",
      "  Using cached jax_jumpy-1.0.0-py3-none-any.whl.metadata (15 kB)\n",
      "Requirement already satisfied: cloudpickle>=1.2.0 in /Users/work/work-DRLLSS2024/venv-atari/lib/python3.10/site-packages (from gymnasium<0.29.0,>=0.28.1->agilerl==0.1.16) (3.0.0)\n",
      "Requirement already satisfied: typing-extensions>=4.3.0 in /Users/work/work-DRLLSS2024/venv-atari/lib/python3.10/site-packages (from gymnasium<0.29.0,>=0.28.1->agilerl==0.1.16) (4.10.0)\n",
      "Requirement already satisfied: farama-notifications>=0.0.1 in /Users/work/work-DRLLSS2024/venv-atari/lib/python3.10/site-packages (from gymnasium<0.29.0,>=0.28.1->agilerl==0.1.16) (0.0.4)\n",
      "Collecting antlr4-python3-runtime==4.9.* (from hydra-core<2.0.0,>=1.3.2->agilerl==0.1.16)\n",
      "  Using cached antlr4_python3_runtime-4.9.3-py3-none-any.whl\n",
      "Collecting contourpy>=1.0.1 (from matplotlib<4.0.0,>=3.4.3->agilerl==0.1.16)\n",
      "  Using cached contourpy-1.2.0-cp310-cp310-macosx_10_9_x86_64.whl.metadata (5.8 kB)\n",
      "Collecting cycler>=0.10 (from matplotlib<4.0.0,>=3.4.3->agilerl==0.1.16)\n",
      "  Using cached cycler-0.12.1-py3-none-any.whl.metadata (3.8 kB)\n",
      "Collecting fonttools>=4.22.0 (from matplotlib<4.0.0,>=3.4.3->agilerl==0.1.16)\n",
      "  Using cached fonttools-4.50.0-cp310-cp310-macosx_10_9_x86_64.whl.metadata (159 kB)\n",
      "Collecting kiwisolver>=1.3.1 (from matplotlib<4.0.0,>=3.4.3->agilerl==0.1.16)\n",
      "  Using cached kiwisolver-1.4.5-cp310-cp310-macosx_10_9_x86_64.whl.metadata (6.4 kB)\n",
      "Collecting pillow>=8 (from matplotlib<4.0.0,>=3.4.3->agilerl==0.1.16)\n",
      "  Using cached pillow-10.2.0-cp310-cp310-macosx_10_10_x86_64.whl.metadata (9.7 kB)\n",
      "Collecting pyparsing>=2.3.1 (from matplotlib<4.0.0,>=3.4.3->agilerl==0.1.16)\n",
      "  Using cached pyparsing-3.1.2-py3-none-any.whl.metadata (5.1 kB)\n",
      "Requirement already satisfied: python-dateutil>=2.7 in /Users/work/work-DRLLSS2024/venv-atari/lib/python3.10/site-packages (from matplotlib<4.0.0,>=3.4.3->agilerl==0.1.16) (2.9.0.post0)\n",
      "Collecting google-cloud-storage>=2.5.0 (from minari<0.5.0,>=0.4.1->agilerl==0.1.16)\n",
      "  Using cached google_cloud_storage-2.16.0-py2.py3-none-any.whl.metadata (6.1 kB)\n",
      "Collecting typer>=0.9.0 (from typer[all]>=0.9.0->minari<0.5.0,>=0.4.1->agilerl==0.1.16)\n",
      "  Using cached typer-0.9.0-py3-none-any.whl.metadata (14 kB)\n",
      "Collecting portion>=2.4.0 (from minari<0.5.0,>=0.4.1->agilerl==0.1.16)\n",
      "  Using cached portion-2.4.2-py3-none-any.whl.metadata (33 kB)\n",
      "Collecting cfgv>=2.0.0 (from pre-commit<4.0.0,>=3.4.0->agilerl==0.1.16)\n",
      "  Using cached cfgv-3.4.0-py2.py3-none-any.whl.metadata (8.5 kB)\n",
      "Collecting identify>=1.0.0 (from pre-commit<4.0.0,>=3.4.0->agilerl==0.1.16)\n",
      "  Using cached identify-2.5.35-py2.py3-none-any.whl.metadata (4.4 kB)\n",
      "Collecting nodeenv>=0.11.1 (from pre-commit<4.0.0,>=3.4.0->agilerl==0.1.16)\n",
      "  Using cached nodeenv-1.8.0-py2.py3-none-any.whl.metadata (21 kB)\n",
      "Collecting virtualenv>=20.10.0 (from pre-commit<4.0.0,>=3.4.0->agilerl==0.1.16)\n",
      "  Using cached virtualenv-20.25.1-py3-none-any.whl.metadata (4.4 kB)\n",
      "Collecting async-timeout>=4.0.2 (from redis<5.0.0,>=4.4.4->agilerl==0.1.16)\n",
      "  Using cached async_timeout-4.0.3-py3-none-any.whl.metadata (4.2 kB)\n",
      "Requirement already satisfied: tinyscaler>=1.2.6 in /Users/work/work-DRLLSS2024/venv-atari/lib/python3.10/site-packages (from SuperSuit<4.0.0,>=3.9.0->agilerl==0.1.16) (1.2.7)\n",
      "Collecting filelock (from torch<3.0.0,>=2.0.1->agilerl==0.1.16)\n",
      "  Using cached filelock-3.13.1-py3-none-any.whl.metadata (2.8 kB)\n",
      "Collecting sympy (from torch<3.0.0,>=2.0.1->agilerl==0.1.16)\n",
      "  Using cached sympy-1.12-py3-none-any.whl.metadata (12 kB)\n",
      "Collecting networkx (from torch<3.0.0,>=2.0.1->agilerl==0.1.16)\n",
      "  Using cached networkx-3.2.1-py3-none-any.whl.metadata (5.2 kB)\n",
      "Requirement already satisfied: jinja2 in /Users/work/work-DRLLSS2024/venv-atari/lib/python3.10/site-packages (from torch<3.0.0,>=2.0.1->agilerl==0.1.16) (3.1.3)\n",
      "Collecting fsspec (from torch<3.0.0,>=2.0.1->agilerl==0.1.16)\n",
      "  Using cached fsspec-2024.3.1-py3-none-any.whl.metadata (6.8 kB)\n",
      "Collecting huggingface-hub<1.0,>=0.19.3 (from transformers<5.0.0,>=4.30.0->agilerl==0.1.16)\n",
      "  Using cached huggingface_hub-0.21.4-py3-none-any.whl.metadata (13 kB)\n",
      "Collecting regex!=2019.12.17 (from transformers<5.0.0,>=4.30.0->agilerl==0.1.16)\n",
      "  Using cached regex-2023.12.25-cp310-cp310-macosx_10_9_x86_64.whl.metadata (40 kB)\n",
      "Requirement already satisfied: requests in /Users/work/work-DRLLSS2024/venv-atari/lib/python3.10/site-packages (from transformers<5.0.0,>=4.30.0->agilerl==0.1.16) (2.31.0)\n",
      "Collecting tokenizers<0.19,>=0.14 (from transformers<5.0.0,>=4.30.0->agilerl==0.1.16)\n",
      "  Using cached tokenizers-0.15.2-cp310-cp310-macosx_10_12_x86_64.whl.metadata (6.7 kB)\n",
      "Collecting safetensors>=0.4.1 (from transformers<5.0.0,>=4.30.0->agilerl==0.1.16)\n",
      "  Using cached safetensors-0.4.2-cp310-cp310-macosx_10_12_x86_64.whl.metadata (3.8 kB)\n",
      "Collecting Click!=8.0.0,>=7.0 (from wandb<0.14.0,>=0.13.10->agilerl==0.1.16)\n",
      "  Using cached click-8.1.7-py3-none-any.whl.metadata (3.0 kB)\n",
      "Collecting GitPython!=3.1.29,>=1.0.0 (from wandb<0.14.0,>=0.13.10->agilerl==0.1.16)\n",
      "  Using cached GitPython-3.1.42-py3-none-any.whl.metadata (12 kB)\n",
      "Collecting sentry-sdk>=1.0.0 (from wandb<0.14.0,>=0.13.10->agilerl==0.1.16)\n",
      "  Using cached sentry_sdk-1.43.0-py2.py3-none-any.whl.metadata (9.9 kB)\n",
      "Collecting docker-pycreds>=0.4.0 (from wandb<0.14.0,>=0.13.10->agilerl==0.1.16)\n",
      "  Using cached docker_pycreds-0.4.0-py2.py3-none-any.whl.metadata (1.8 kB)\n",
      "Collecting pathtools (from wandb<0.14.0,>=0.13.10->agilerl==0.1.16)\n",
      "  Using cached pathtools-0.1.2-py3-none-any.whl\n",
      "Collecting setproctitle (from wandb<0.14.0,>=0.13.10->agilerl==0.1.16)\n",
      "  Using cached setproctitle-1.3.3-cp310-cp310-macosx_10_9_x86_64.whl.metadata (9.9 kB)\n",
      "Requirement already satisfied: setuptools in /Users/work/work-DRLLSS2024/venv-atari/lib/python3.10/site-packages (from wandb<0.14.0,>=0.13.10->agilerl==0.1.16) (69.2.0)\n",
      "Collecting appdirs>=1.4.3 (from wandb<0.14.0,>=0.13.10->agilerl==0.1.16)\n",
      "  Using cached appdirs-1.4.4-py2.py3-none-any.whl.metadata (9.0 kB)\n",
      "Collecting protobuf!=4.21.0,<5,>=3.19.0 (from wandb<0.14.0,>=0.13.10->agilerl==0.1.16)\n",
      "  Using cached protobuf-4.25.3-cp37-abi3-macosx_10_9_universal2.whl.metadata (541 bytes)\n",
      "Collecting gitdb<5,>=4.0.1 (from GitPython!=3.1.29,>=1.0.0->wandb<0.14.0,>=0.13.10->agilerl==0.1.16)\n",
      "  Using cached gitdb-4.0.11-py3-none-any.whl.metadata (1.2 kB)\n",
      "Collecting google-auth<3.0dev,>=2.26.1 (from google-cloud-storage>=2.5.0->minari<0.5.0,>=0.4.1->agilerl==0.1.16)\n",
      "  Using cached google_auth-2.28.2-py2.py3-none-any.whl.metadata (4.7 kB)\n",
      "Collecting google-api-core<3.0.0dev,>=2.15.0 (from google-cloud-storage>=2.5.0->minari<0.5.0,>=0.4.1->agilerl==0.1.16)\n",
      "  Using cached google_api_core-2.17.1-py3-none-any.whl.metadata (2.7 kB)\n",
      "Collecting google-cloud-core<3.0dev,>=2.3.0 (from google-cloud-storage>=2.5.0->minari<0.5.0,>=0.4.1->agilerl==0.1.16)\n",
      "  Using cached google_cloud_core-2.4.1-py2.py3-none-any.whl.metadata (2.7 kB)\n",
      "Collecting google-resumable-media>=2.6.0 (from google-cloud-storage>=2.5.0->minari<0.5.0,>=0.4.1->agilerl==0.1.16)\n",
      "  Using cached google_resumable_media-2.7.0-py2.py3-none-any.whl.metadata (2.2 kB)\n",
      "Collecting google-crc32c<2.0dev,>=1.0 (from google-cloud-storage>=2.5.0->minari<0.5.0,>=0.4.1->agilerl==0.1.16)\n",
      "  Using cached google_crc32c-1.5.0-cp310-cp310-macosx_10_9_x86_64.whl.metadata (2.3 kB)\n",
      "Collecting sortedcontainers~=2.2 (from portion>=2.4.0->minari<0.5.0,>=0.4.1->agilerl==0.1.16)\n",
      "  Using cached sortedcontainers-2.4.0-py2.py3-none-any.whl.metadata (10 kB)\n",
      "Requirement already satisfied: charset-normalizer<4,>=2 in /Users/work/work-DRLLSS2024/venv-atari/lib/python3.10/site-packages (from requests->transformers<5.0.0,>=4.30.0->agilerl==0.1.16) (3.3.2)\n",
      "Requirement already satisfied: idna<4,>=2.5 in /Users/work/work-DRLLSS2024/venv-atari/lib/python3.10/site-packages (from requests->transformers<5.0.0,>=4.30.0->agilerl==0.1.16) (3.6)\n",
      "Requirement already satisfied: urllib3<3,>=1.21.1 in /Users/work/work-DRLLSS2024/venv-atari/lib/python3.10/site-packages (from requests->transformers<5.0.0,>=4.30.0->agilerl==0.1.16) (2.2.1)\n",
      "Requirement already satisfied: certifi>=2017.4.17 in /Users/work/work-DRLLSS2024/venv-atari/lib/python3.10/site-packages (from requests->transformers<5.0.0,>=4.30.0->agilerl==0.1.16) (2024.2.2)\n",
      "Collecting colorama<0.5.0,>=0.4.3 (from typer[all]>=0.9.0->minari<0.5.0,>=0.4.1->agilerl==0.1.16)\n",
      "  Using cached colorama-0.4.6-py2.py3-none-any.whl.metadata (17 kB)\n",
      "Collecting shellingham<2.0.0,>=1.3.0 (from typer[all]>=0.9.0->minari<0.5.0,>=0.4.1->agilerl==0.1.16)\n",
      "  Using cached shellingham-1.5.4-py2.py3-none-any.whl.metadata (3.5 kB)\n",
      "Collecting rich<14.0.0,>=10.11.0 (from typer[all]>=0.9.0->minari<0.5.0,>=0.4.1->agilerl==0.1.16)\n",
      "  Using cached rich-13.7.1-py3-none-any.whl.metadata (18 kB)\n",
      "Collecting distlib<1,>=0.3.7 (from virtualenv>=20.10.0->pre-commit<4.0.0,>=3.4.0->agilerl==0.1.16)\n",
      "  Using cached distlib-0.3.8-py2.py3-none-any.whl.metadata (5.1 kB)\n",
      "Requirement already satisfied: platformdirs<5,>=3.9.1 in /Users/work/work-DRLLSS2024/venv-atari/lib/python3.10/site-packages (from virtualenv>=20.10.0->pre-commit<4.0.0,>=3.4.0->agilerl==0.1.16) (4.2.0)\n",
      "Requirement already satisfied: MarkupSafe>=2.0 in /Users/work/work-DRLLSS2024/venv-atari/lib/python3.10/site-packages (from jinja2->torch<3.0.0,>=2.0.1->agilerl==0.1.16) (2.1.5)\n",
      "Collecting mpmath>=0.19 (from sympy->torch<3.0.0,>=2.0.1->agilerl==0.1.16)\n",
      "  Using cached mpmath-1.3.0-py3-none-any.whl.metadata (8.6 kB)\n",
      "Collecting smmap<6,>=3.0.1 (from gitdb<5,>=4.0.1->GitPython!=3.1.29,>=1.0.0->wandb<0.14.0,>=0.13.10->agilerl==0.1.16)\n",
      "  Using cached smmap-5.0.1-py3-none-any.whl.metadata (4.3 kB)\n",
      "Collecting googleapis-common-protos<2.0.dev0,>=1.56.2 (from google-api-core<3.0.0dev,>=2.15.0->google-cloud-storage>=2.5.0->minari<0.5.0,>=0.4.1->agilerl==0.1.16)\n",
      "  Using cached googleapis_common_protos-1.63.0-py2.py3-none-any.whl.metadata (1.5 kB)\n",
      "Collecting cachetools<6.0,>=2.0.0 (from google-auth<3.0dev,>=2.26.1->google-cloud-storage>=2.5.0->minari<0.5.0,>=0.4.1->agilerl==0.1.16)\n",
      "  Using cached cachetools-5.3.3-py3-none-any.whl.metadata (5.3 kB)\n",
      "Collecting pyasn1-modules>=0.2.1 (from google-auth<3.0dev,>=2.26.1->google-cloud-storage>=2.5.0->minari<0.5.0,>=0.4.1->agilerl==0.1.16)\n",
      "  Using cached pyasn1_modules-0.3.0-py2.py3-none-any.whl.metadata (3.6 kB)\n",
      "Collecting rsa<5,>=3.1.4 (from google-auth<3.0dev,>=2.26.1->google-cloud-storage>=2.5.0->minari<0.5.0,>=0.4.1->agilerl==0.1.16)\n",
      "  Using cached rsa-4.9-py3-none-any.whl.metadata (4.2 kB)\n",
      "Collecting markdown-it-py>=2.2.0 (from rich<14.0.0,>=10.11.0->typer[all]>=0.9.0->minari<0.5.0,>=0.4.1->agilerl==0.1.16)\n",
      "  Using cached markdown_it_py-3.0.0-py3-none-any.whl.metadata (6.9 kB)\n",
      "Requirement already satisfied: pygments<3.0.0,>=2.13.0 in /Users/work/work-DRLLSS2024/venv-atari/lib/python3.10/site-packages (from rich<14.0.0,>=10.11.0->typer[all]>=0.9.0->minari<0.5.0,>=0.4.1->agilerl==0.1.16) (2.17.2)\n",
      "Collecting mdurl~=0.1 (from markdown-it-py>=2.2.0->rich<14.0.0,>=10.11.0->typer[all]>=0.9.0->minari<0.5.0,>=0.4.1->agilerl==0.1.16)\n",
      "  Using cached mdurl-0.1.2-py3-none-any.whl.metadata (1.6 kB)\n",
      "Collecting pyasn1<0.6.0,>=0.4.6 (from pyasn1-modules>=0.2.1->google-auth<3.0dev,>=2.26.1->google-cloud-storage>=2.5.0->minari<0.5.0,>=0.4.1->agilerl==0.1.16)\n",
      "  Using cached pyasn1-0.5.1-py2.py3-none-any.whl.metadata (8.6 kB)\n",
      "Using cached agilerl-0.1.16-py3-none-any.whl (177 kB)\n",
      "Using cached accelerate-0.18.0-py3-none-any.whl (215 kB)\n",
      "Using cached dill-0.3.8-py3-none-any.whl (116 kB)\n",
      "Using cached fastrand-1.8.0-cp310-cp310-macosx_10_9_x86_64.whl (9.1 kB)\n",
      "Using cached flatten_dict-0.4.2-py2.py3-none-any.whl (9.7 kB)\n",
      "Using cached gymnasium-0.28.1-py3-none-any.whl (925 kB)\n",
      "Using cached h5py-3.10.0-cp310-cp310-macosx_10_9_x86_64.whl (3.3 MB)\n",
      "Using cached hydra_core-1.3.2-py3-none-any.whl (154 kB)\n",
      "Using cached matplotlib-3.8.3-cp310-cp310-macosx_10_12_x86_64.whl (7.6 MB)\n",
      "Using cached minari-0.4.3-py3-none-any.whl (42 kB)\n",
      "Using cached omegaconf-2.3.0-py3-none-any.whl (79 kB)\n",
      "Using cached pre_commit-3.6.2-py2.py3-none-any.whl (204 kB)\n",
      "Using cached redis-4.6.0-py3-none-any.whl (241 kB)\n",
      "Using cached torch-2.2.1-cp310-none-macosx_10_9_x86_64.whl (150.8 MB)\n",
      "Using cached tqdm-4.66.2-py3-none-any.whl (78 kB)\n",
      "Using cached transformers-4.38.2-py3-none-any.whl (8.5 MB)\n",
      "Using cached wandb-0.13.11-py3-none-any.whl (2.0 MB)\n",
      "Using cached appdirs-1.4.4-py2.py3-none-any.whl (9.6 kB)\n",
      "Using cached async_timeout-4.0.3-py3-none-any.whl (5.7 kB)\n",
      "Using cached cfgv-3.4.0-py2.py3-none-any.whl (7.2 kB)\n",
      "Using cached click-8.1.7-py3-none-any.whl (97 kB)\n",
      "Using cached contourpy-1.2.0-cp310-cp310-macosx_10_9_x86_64.whl (256 kB)\n",
      "Using cached cycler-0.12.1-py3-none-any.whl (8.3 kB)\n",
      "Using cached docker_pycreds-0.4.0-py2.py3-none-any.whl (9.0 kB)\n",
      "Using cached fonttools-4.50.0-cp310-cp310-macosx_10_9_x86_64.whl (2.3 MB)\n",
      "Using cached GitPython-3.1.42-py3-none-any.whl (195 kB)\n",
      "Using cached google_cloud_storage-2.16.0-py2.py3-none-any.whl (125 kB)\n",
      "Using cached huggingface_hub-0.21.4-py3-none-any.whl (346 kB)\n",
      "Using cached fsspec-2024.3.1-py3-none-any.whl (171 kB)\n",
      "Using cached identify-2.5.35-py2.py3-none-any.whl (98 kB)\n",
      "Using cached jax_jumpy-1.0.0-py3-none-any.whl (20 kB)\n",
      "Using cached kiwisolver-1.4.5-cp310-cp310-macosx_10_9_x86_64.whl (68 kB)\n",
      "Using cached nodeenv-1.8.0-py2.py3-none-any.whl (22 kB)\n",
      "Using cached pillow-10.2.0-cp310-cp310-macosx_10_10_x86_64.whl (3.5 MB)\n",
      "Using cached portion-2.4.2-py3-none-any.whl (27 kB)\n",
      "Using cached protobuf-4.25.3-cp37-abi3-macosx_10_9_universal2.whl (394 kB)\n",
      "Using cached pyparsing-3.1.2-py3-none-any.whl (103 kB)\n",
      "Using cached regex-2023.12.25-cp310-cp310-macosx_10_9_x86_64.whl (296 kB)\n",
      "Using cached safetensors-0.4.2-cp310-cp310-macosx_10_12_x86_64.whl (426 kB)\n",
      "Using cached sentry_sdk-1.43.0-py2.py3-none-any.whl (264 kB)\n",
      "Using cached tokenizers-0.15.2-cp310-cp310-macosx_10_12_x86_64.whl (2.6 MB)\n",
      "Using cached typer-0.9.0-py3-none-any.whl (45 kB)\n",
      "Using cached virtualenv-20.25.1-py3-none-any.whl (3.8 MB)\n",
      "Using cached filelock-3.13.1-py3-none-any.whl (11 kB)\n",
      "Using cached networkx-3.2.1-py3-none-any.whl (1.6 MB)\n",
      "Using cached setproctitle-1.3.3-cp310-cp310-macosx_10_9_x86_64.whl (11 kB)\n",
      "Using cached sympy-1.12-py3-none-any.whl (5.7 MB)\n",
      "Using cached colorama-0.4.6-py2.py3-none-any.whl (25 kB)\n",
      "Using cached distlib-0.3.8-py2.py3-none-any.whl (468 kB)\n",
      "Using cached gitdb-4.0.11-py3-none-any.whl (62 kB)\n",
      "Using cached google_api_core-2.17.1-py3-none-any.whl (137 kB)\n",
      "Using cached google_auth-2.28.2-py2.py3-none-any.whl (186 kB)\n",
      "Using cached google_cloud_core-2.4.1-py2.py3-none-any.whl (29 kB)\n",
      "Using cached google_crc32c-1.5.0-cp310-cp310-macosx_10_9_x86_64.whl (30 kB)\n",
      "Using cached google_resumable_media-2.7.0-py2.py3-none-any.whl (80 kB)\n",
      "Using cached mpmath-1.3.0-py3-none-any.whl (536 kB)\n",
      "Using cached rich-13.7.1-py3-none-any.whl (240 kB)\n",
      "Using cached shellingham-1.5.4-py2.py3-none-any.whl (9.8 kB)\n",
      "Using cached sortedcontainers-2.4.0-py2.py3-none-any.whl (29 kB)\n",
      "Using cached cachetools-5.3.3-py3-none-any.whl (9.3 kB)\n",
      "Using cached googleapis_common_protos-1.63.0-py2.py3-none-any.whl (229 kB)\n",
      "Using cached markdown_it_py-3.0.0-py3-none-any.whl (87 kB)\n",
      "Using cached pyasn1_modules-0.3.0-py2.py3-none-any.whl (181 kB)\n",
      "Using cached rsa-4.9-py3-none-any.whl (34 kB)\n",
      "Using cached smmap-5.0.1-py3-none-any.whl (24 kB)\n",
      "Using cached mdurl-0.1.2-py3-none-any.whl (10.0 kB)\n",
      "Using cached pyasn1-0.5.1-py2.py3-none-any.whl (84 kB)\n",
      "Installing collected packages: termcolor, sortedcontainers, pathtools, mpmath, importlib, fastrand, distlib, appdirs, antlr4-python3-runtime, tqdm, sympy, smmap, shellingham, setproctitle, sentry-sdk, safetensors, regex, pyparsing, pyasn1, protobuf, portion, pillow, omegaconf, nodeenv, networkx, mdurl, kiwisolver, jax-jumpy, identify, h5py, google-crc32c, fsspec, fonttools, flatten_dict, filelock, docker-pycreds, dill, cycler, contourpy, colorama, Click, cfgv, cachetools, async-timeout, virtualenv, typer, torch, rsa, redis, pyasn1-modules, matplotlib, markdown-it-py, hydra-core, huggingface-hub, gymnasium, googleapis-common-protos, google-resumable-media, gitdb, tokenizers, rich, pre-commit, google-auth, GitPython, accelerate, wandb, transformers, google-api-core, google-cloud-core, google-cloud-storage, minari, agilerl\n",
      "  Attempting uninstall: termcolor\n",
      "    Found existing installation: termcolor 2.4.0\n",
      "    Uninstalling termcolor-2.4.0:\n",
      "      Successfully uninstalled termcolor-2.4.0\n",
      "  Attempting uninstall: gymnasium\n",
      "    Found existing installation: gymnasium 0.29.1\n",
      "    Uninstalling gymnasium-0.29.1:\n",
      "      Successfully uninstalled gymnasium-0.29.1\n",
      "Successfully installed Click-8.1.7 GitPython-3.1.42 accelerate-0.18.0 agilerl-0.1.16 antlr4-python3-runtime-4.9.3 appdirs-1.4.4 async-timeout-4.0.3 cachetools-5.3.3 cfgv-3.4.0 colorama-0.4.6 contourpy-1.2.0 cycler-0.12.1 dill-0.3.8 distlib-0.3.8 docker-pycreds-0.4.0 fastrand-1.8.0 filelock-3.13.1 flatten_dict-0.4.2 fonttools-4.50.0 fsspec-2024.3.1 gitdb-4.0.11 google-api-core-2.17.1 google-auth-2.28.2 google-cloud-core-2.4.1 google-cloud-storage-2.16.0 google-crc32c-1.5.0 google-resumable-media-2.7.0 googleapis-common-protos-1.63.0 gymnasium-0.28.1 h5py-3.10.0 huggingface-hub-0.21.4 hydra-core-1.3.2 identify-2.5.35 importlib-1.0.4 jax-jumpy-1.0.0 kiwisolver-1.4.5 markdown-it-py-3.0.0 matplotlib-3.8.3 mdurl-0.1.2 minari-0.4.3 mpmath-1.3.0 networkx-3.2.1 nodeenv-1.8.0 omegaconf-2.3.0 pathtools-0.1.2 pillow-10.2.0 portion-2.4.2 pre-commit-3.6.2 protobuf-4.25.3 pyasn1-0.5.1 pyasn1-modules-0.3.0 pyparsing-3.1.2 redis-4.6.0 regex-2023.12.25 rich-13.7.1 rsa-4.9 safetensors-0.4.2 sentry-sdk-1.43.0 setproctitle-1.3.3 shellingham-1.5.4 smmap-5.0.1 sortedcontainers-2.4.0 sympy-1.12 termcolor-1.1.0 tokenizers-0.15.2 torch-2.2.1 tqdm-4.66.2 transformers-4.38.2 typer-0.9.0 virtualenv-20.25.1 wandb-0.13.11\n"
     ]
    }
   ],
   "source": [
    "!pip install agilerl==0.1.16"
   ]
  },
  {
   "cell_type": "code",
   "execution_count": 7,
   "id": "ef7f6911-80b3-4924-a646-d109b2322441",
   "metadata": {},
   "outputs": [
    {
     "name": "stdout",
     "output_type": "stream",
     "text": [
      "Collecting autorom==0.6.1\n",
      "  Using cached AutoROM-0.6.1-py3-none-any.whl.metadata (2.4 kB)\n",
      "Requirement already satisfied: click in /Users/work/work-DRLLSS2024/venv-atari/lib/python3.10/site-packages (from autorom==0.6.1) (8.1.7)\n",
      "Requirement already satisfied: requests in /Users/work/work-DRLLSS2024/venv-atari/lib/python3.10/site-packages (from autorom==0.6.1) (2.31.0)\n",
      "Requirement already satisfied: charset-normalizer<4,>=2 in /Users/work/work-DRLLSS2024/venv-atari/lib/python3.10/site-packages (from requests->autorom==0.6.1) (3.3.2)\n",
      "Requirement already satisfied: idna<4,>=2.5 in /Users/work/work-DRLLSS2024/venv-atari/lib/python3.10/site-packages (from requests->autorom==0.6.1) (3.6)\n",
      "Requirement already satisfied: urllib3<3,>=1.21.1 in /Users/work/work-DRLLSS2024/venv-atari/lib/python3.10/site-packages (from requests->autorom==0.6.1) (2.2.1)\n",
      "Requirement already satisfied: certifi>=2017.4.17 in /Users/work/work-DRLLSS2024/venv-atari/lib/python3.10/site-packages (from requests->autorom==0.6.1) (2024.2.2)\n",
      "Using cached AutoROM-0.6.1-py3-none-any.whl (9.4 kB)\n",
      "Installing collected packages: autorom\n",
      "Successfully installed autorom-0.6.1\n"
     ]
    }
   ],
   "source": [
    "!pip install autorom==0.6.1"
   ]
  },
  {
   "cell_type": "code",
   "execution_count": 8,
   "id": "ad7d0759-58a8-4e81-a8af-bed68b84eabc",
   "metadata": {
    "scrolled": true
   },
   "outputs": [
    {
     "name": "stdout",
     "output_type": "stream",
     "text": [
      "AutoROM will download the Atari 2600 ROMs.\n",
      "They will be installed to:\n",
      "\t/Users/work/work-DRLLSS2024/venv-atari/lib/python3.10/site-packages/AutoROM/roms\n",
      "\t/Users/work/work-DRLLSS2024/venv-atari/lib/python3.10/site-packages/multi_agent_ale_py/roms\n",
      "\n",
      "Existing ROMs will be overwritten.\n",
      "Installed /Users/work/work-DRLLSS2024/venv-atari/lib/python3.10/site-packages/AutoROM/roms/adventure.bin\n",
      "Installed /Users/work/work-DRLLSS2024/venv-atari/lib/python3.10/site-packages/multi_agent_ale_py/roms/adventure.bin\n",
      "Installed /Users/work/work-DRLLSS2024/venv-atari/lib/python3.10/site-packages/AutoROM/roms/air_raid.bin\n",
      "Installed /Users/work/work-DRLLSS2024/venv-atari/lib/python3.10/site-packages/multi_agent_ale_py/roms/air_raid.bin\n",
      "Installed /Users/work/work-DRLLSS2024/venv-atari/lib/python3.10/site-packages/AutoROM/roms/alien.bin\n",
      "Installed /Users/work/work-DRLLSS2024/venv-atari/lib/python3.10/site-packages/multi_agent_ale_py/roms/alien.bin\n",
      "Installed /Users/work/work-DRLLSS2024/venv-atari/lib/python3.10/site-packages/AutoROM/roms/amidar.bin\n",
      "Installed /Users/work/work-DRLLSS2024/venv-atari/lib/python3.10/site-packages/multi_agent_ale_py/roms/amidar.bin\n",
      "Installed /Users/work/work-DRLLSS2024/venv-atari/lib/python3.10/site-packages/AutoROM/roms/assault.bin\n",
      "Installed /Users/work/work-DRLLSS2024/venv-atari/lib/python3.10/site-packages/multi_agent_ale_py/roms/assault.bin\n",
      "Installed /Users/work/work-DRLLSS2024/venv-atari/lib/python3.10/site-packages/AutoROM/roms/asterix.bin\n",
      "Installed /Users/work/work-DRLLSS2024/venv-atari/lib/python3.10/site-packages/multi_agent_ale_py/roms/asterix.bin\n",
      "Installed /Users/work/work-DRLLSS2024/venv-atari/lib/python3.10/site-packages/AutoROM/roms/asteroids.bin\n",
      "Installed /Users/work/work-DRLLSS2024/venv-atari/lib/python3.10/site-packages/multi_agent_ale_py/roms/asteroids.bin\n",
      "Installed /Users/work/work-DRLLSS2024/venv-atari/lib/python3.10/site-packages/AutoROM/roms/atlantis.bin\n",
      "Installed /Users/work/work-DRLLSS2024/venv-atari/lib/python3.10/site-packages/multi_agent_ale_py/roms/atlantis.bin\n",
      "Installed /Users/work/work-DRLLSS2024/venv-atari/lib/python3.10/site-packages/AutoROM/roms/atlantis2.bin\n",
      "Installed /Users/work/work-DRLLSS2024/venv-atari/lib/python3.10/site-packages/multi_agent_ale_py/roms/atlantis2.bin\n",
      "Installed /Users/work/work-DRLLSS2024/venv-atari/lib/python3.10/site-packages/AutoROM/roms/backgammon.bin\n",
      "Installed /Users/work/work-DRLLSS2024/venv-atari/lib/python3.10/site-packages/multi_agent_ale_py/roms/backgammon.bin\n",
      "Installed /Users/work/work-DRLLSS2024/venv-atari/lib/python3.10/site-packages/AutoROM/roms/bank_heist.bin\n",
      "Installed /Users/work/work-DRLLSS2024/venv-atari/lib/python3.10/site-packages/multi_agent_ale_py/roms/bank_heist.bin\n",
      "Installed /Users/work/work-DRLLSS2024/venv-atari/lib/python3.10/site-packages/AutoROM/roms/basic_math.bin\n",
      "Installed /Users/work/work-DRLLSS2024/venv-atari/lib/python3.10/site-packages/multi_agent_ale_py/roms/basic_math.bin\n",
      "Installed /Users/work/work-DRLLSS2024/venv-atari/lib/python3.10/site-packages/AutoROM/roms/battle_zone.bin\n",
      "Installed /Users/work/work-DRLLSS2024/venv-atari/lib/python3.10/site-packages/multi_agent_ale_py/roms/battle_zone.bin\n",
      "Installed /Users/work/work-DRLLSS2024/venv-atari/lib/python3.10/site-packages/AutoROM/roms/beam_rider.bin\n",
      "Installed /Users/work/work-DRLLSS2024/venv-atari/lib/python3.10/site-packages/multi_agent_ale_py/roms/beam_rider.bin\n",
      "Installed /Users/work/work-DRLLSS2024/venv-atari/lib/python3.10/site-packages/AutoROM/roms/berzerk.bin\n",
      "Installed /Users/work/work-DRLLSS2024/venv-atari/lib/python3.10/site-packages/multi_agent_ale_py/roms/berzerk.bin\n",
      "Installed /Users/work/work-DRLLSS2024/venv-atari/lib/python3.10/site-packages/AutoROM/roms/blackjack.bin\n",
      "Installed /Users/work/work-DRLLSS2024/venv-atari/lib/python3.10/site-packages/multi_agent_ale_py/roms/blackjack.bin\n",
      "Installed /Users/work/work-DRLLSS2024/venv-atari/lib/python3.10/site-packages/AutoROM/roms/bowling.bin\n",
      "Installed /Users/work/work-DRLLSS2024/venv-atari/lib/python3.10/site-packages/multi_agent_ale_py/roms/bowling.bin\n",
      "Installed /Users/work/work-DRLLSS2024/venv-atari/lib/python3.10/site-packages/AutoROM/roms/boxing.bin\n",
      "Installed /Users/work/work-DRLLSS2024/venv-atari/lib/python3.10/site-packages/multi_agent_ale_py/roms/boxing.bin\n",
      "Installed /Users/work/work-DRLLSS2024/venv-atari/lib/python3.10/site-packages/AutoROM/roms/breakout.bin\n",
      "Installed /Users/work/work-DRLLSS2024/venv-atari/lib/python3.10/site-packages/multi_agent_ale_py/roms/breakout.bin\n",
      "Installed /Users/work/work-DRLLSS2024/venv-atari/lib/python3.10/site-packages/AutoROM/roms/carnival.bin\n",
      "Installed /Users/work/work-DRLLSS2024/venv-atari/lib/python3.10/site-packages/multi_agent_ale_py/roms/carnival.bin\n",
      "Installed /Users/work/work-DRLLSS2024/venv-atari/lib/python3.10/site-packages/AutoROM/roms/casino.bin\n",
      "Installed /Users/work/work-DRLLSS2024/venv-atari/lib/python3.10/site-packages/multi_agent_ale_py/roms/casino.bin\n",
      "Installed /Users/work/work-DRLLSS2024/venv-atari/lib/python3.10/site-packages/AutoROM/roms/centipede.bin\n",
      "Installed /Users/work/work-DRLLSS2024/venv-atari/lib/python3.10/site-packages/multi_agent_ale_py/roms/centipede.bin\n",
      "Installed /Users/work/work-DRLLSS2024/venv-atari/lib/python3.10/site-packages/AutoROM/roms/chopper_command.bin\n",
      "Installed /Users/work/work-DRLLSS2024/venv-atari/lib/python3.10/site-packages/multi_agent_ale_py/roms/chopper_command.bin\n",
      "Installed /Users/work/work-DRLLSS2024/venv-atari/lib/python3.10/site-packages/AutoROM/roms/combat.bin\n",
      "Installed /Users/work/work-DRLLSS2024/venv-atari/lib/python3.10/site-packages/multi_agent_ale_py/roms/combat.bin\n",
      "Installed /Users/work/work-DRLLSS2024/venv-atari/lib/python3.10/site-packages/AutoROM/roms/crazy_climber.bin\n",
      "Installed /Users/work/work-DRLLSS2024/venv-atari/lib/python3.10/site-packages/multi_agent_ale_py/roms/crazy_climber.bin\n",
      "Installed /Users/work/work-DRLLSS2024/venv-atari/lib/python3.10/site-packages/AutoROM/roms/crossbow.bin\n",
      "Installed /Users/work/work-DRLLSS2024/venv-atari/lib/python3.10/site-packages/multi_agent_ale_py/roms/crossbow.bin\n",
      "Installed /Users/work/work-DRLLSS2024/venv-atari/lib/python3.10/site-packages/AutoROM/roms/darkchambers.bin\n",
      "Installed /Users/work/work-DRLLSS2024/venv-atari/lib/python3.10/site-packages/multi_agent_ale_py/roms/darkchambers.bin\n",
      "Installed /Users/work/work-DRLLSS2024/venv-atari/lib/python3.10/site-packages/AutoROM/roms/defender.bin\n",
      "Installed /Users/work/work-DRLLSS2024/venv-atari/lib/python3.10/site-packages/multi_agent_ale_py/roms/defender.bin\n",
      "Installed /Users/work/work-DRLLSS2024/venv-atari/lib/python3.10/site-packages/AutoROM/roms/demon_attack.bin\n",
      "Installed /Users/work/work-DRLLSS2024/venv-atari/lib/python3.10/site-packages/multi_agent_ale_py/roms/demon_attack.bin\n",
      "Installed /Users/work/work-DRLLSS2024/venv-atari/lib/python3.10/site-packages/AutoROM/roms/donkey_kong.bin\n",
      "Installed /Users/work/work-DRLLSS2024/venv-atari/lib/python3.10/site-packages/multi_agent_ale_py/roms/donkey_kong.bin\n",
      "Installed /Users/work/work-DRLLSS2024/venv-atari/lib/python3.10/site-packages/AutoROM/roms/double_dunk.bin\n",
      "Installed /Users/work/work-DRLLSS2024/venv-atari/lib/python3.10/site-packages/multi_agent_ale_py/roms/double_dunk.bin\n",
      "Installed /Users/work/work-DRLLSS2024/venv-atari/lib/python3.10/site-packages/AutoROM/roms/earthworld.bin\n",
      "Installed /Users/work/work-DRLLSS2024/venv-atari/lib/python3.10/site-packages/multi_agent_ale_py/roms/earthworld.bin\n",
      "Installed /Users/work/work-DRLLSS2024/venv-atari/lib/python3.10/site-packages/AutoROM/roms/elevator_action.bin\n",
      "Installed /Users/work/work-DRLLSS2024/venv-atari/lib/python3.10/site-packages/multi_agent_ale_py/roms/elevator_action.bin\n",
      "Installed /Users/work/work-DRLLSS2024/venv-atari/lib/python3.10/site-packages/AutoROM/roms/enduro.bin\n",
      "Installed /Users/work/work-DRLLSS2024/venv-atari/lib/python3.10/site-packages/multi_agent_ale_py/roms/enduro.bin\n",
      "Installed /Users/work/work-DRLLSS2024/venv-atari/lib/python3.10/site-packages/AutoROM/roms/entombed.bin\n",
      "Installed /Users/work/work-DRLLSS2024/venv-atari/lib/python3.10/site-packages/multi_agent_ale_py/roms/entombed.bin\n",
      "Installed /Users/work/work-DRLLSS2024/venv-atari/lib/python3.10/site-packages/AutoROM/roms/et.bin\n",
      "Installed /Users/work/work-DRLLSS2024/venv-atari/lib/python3.10/site-packages/multi_agent_ale_py/roms/et.bin\n",
      "Installed /Users/work/work-DRLLSS2024/venv-atari/lib/python3.10/site-packages/AutoROM/roms/fishing_derby.bin\n",
      "Installed /Users/work/work-DRLLSS2024/venv-atari/lib/python3.10/site-packages/multi_agent_ale_py/roms/fishing_derby.bin\n",
      "Installed /Users/work/work-DRLLSS2024/venv-atari/lib/python3.10/site-packages/AutoROM/roms/flag_capture.bin\n",
      "Installed /Users/work/work-DRLLSS2024/venv-atari/lib/python3.10/site-packages/multi_agent_ale_py/roms/flag_capture.bin\n",
      "Installed /Users/work/work-DRLLSS2024/venv-atari/lib/python3.10/site-packages/AutoROM/roms/freeway.bin\n",
      "Installed /Users/work/work-DRLLSS2024/venv-atari/lib/python3.10/site-packages/multi_agent_ale_py/roms/freeway.bin\n",
      "Installed /Users/work/work-DRLLSS2024/venv-atari/lib/python3.10/site-packages/AutoROM/roms/frogger.bin\n",
      "Installed /Users/work/work-DRLLSS2024/venv-atari/lib/python3.10/site-packages/multi_agent_ale_py/roms/frogger.bin\n",
      "Installed /Users/work/work-DRLLSS2024/venv-atari/lib/python3.10/site-packages/AutoROM/roms/frostbite.bin\n",
      "Installed /Users/work/work-DRLLSS2024/venv-atari/lib/python3.10/site-packages/multi_agent_ale_py/roms/frostbite.bin\n",
      "Installed /Users/work/work-DRLLSS2024/venv-atari/lib/python3.10/site-packages/AutoROM/roms/galaxian.bin\n",
      "Installed /Users/work/work-DRLLSS2024/venv-atari/lib/python3.10/site-packages/multi_agent_ale_py/roms/galaxian.bin\n",
      "Installed /Users/work/work-DRLLSS2024/venv-atari/lib/python3.10/site-packages/AutoROM/roms/gopher.bin\n",
      "Installed /Users/work/work-DRLLSS2024/venv-atari/lib/python3.10/site-packages/multi_agent_ale_py/roms/gopher.bin\n",
      "Installed /Users/work/work-DRLLSS2024/venv-atari/lib/python3.10/site-packages/AutoROM/roms/gravitar.bin\n",
      "Installed /Users/work/work-DRLLSS2024/venv-atari/lib/python3.10/site-packages/multi_agent_ale_py/roms/gravitar.bin\n",
      "Installed /Users/work/work-DRLLSS2024/venv-atari/lib/python3.10/site-packages/AutoROM/roms/hangman.bin\n",
      "Installed /Users/work/work-DRLLSS2024/venv-atari/lib/python3.10/site-packages/multi_agent_ale_py/roms/hangman.bin\n",
      "Installed /Users/work/work-DRLLSS2024/venv-atari/lib/python3.10/site-packages/AutoROM/roms/haunted_house.bin\n",
      "Installed /Users/work/work-DRLLSS2024/venv-atari/lib/python3.10/site-packages/multi_agent_ale_py/roms/haunted_house.bin\n",
      "Installed /Users/work/work-DRLLSS2024/venv-atari/lib/python3.10/site-packages/AutoROM/roms/hero.bin\n",
      "Installed /Users/work/work-DRLLSS2024/venv-atari/lib/python3.10/site-packages/multi_agent_ale_py/roms/hero.bin\n",
      "Installed /Users/work/work-DRLLSS2024/venv-atari/lib/python3.10/site-packages/AutoROM/roms/human_cannonball.bin\n",
      "Installed /Users/work/work-DRLLSS2024/venv-atari/lib/python3.10/site-packages/multi_agent_ale_py/roms/human_cannonball.bin\n",
      "Installed /Users/work/work-DRLLSS2024/venv-atari/lib/python3.10/site-packages/AutoROM/roms/ice_hockey.bin\n",
      "Installed /Users/work/work-DRLLSS2024/venv-atari/lib/python3.10/site-packages/multi_agent_ale_py/roms/ice_hockey.bin\n",
      "Installed /Users/work/work-DRLLSS2024/venv-atari/lib/python3.10/site-packages/AutoROM/roms/jamesbond.bin\n",
      "Installed /Users/work/work-DRLLSS2024/venv-atari/lib/python3.10/site-packages/multi_agent_ale_py/roms/jamesbond.bin\n",
      "Installed /Users/work/work-DRLLSS2024/venv-atari/lib/python3.10/site-packages/AutoROM/roms/journey_escape.bin\n",
      "Installed /Users/work/work-DRLLSS2024/venv-atari/lib/python3.10/site-packages/multi_agent_ale_py/roms/journey_escape.bin\n",
      "Installed /Users/work/work-DRLLSS2024/venv-atari/lib/python3.10/site-packages/AutoROM/roms/joust.bin\n",
      "Installed /Users/work/work-DRLLSS2024/venv-atari/lib/python3.10/site-packages/multi_agent_ale_py/roms/joust.bin\n",
      "Installed /Users/work/work-DRLLSS2024/venv-atari/lib/python3.10/site-packages/AutoROM/roms/kaboom.bin\n",
      "Installed /Users/work/work-DRLLSS2024/venv-atari/lib/python3.10/site-packages/multi_agent_ale_py/roms/kaboom.bin\n",
      "Installed /Users/work/work-DRLLSS2024/venv-atari/lib/python3.10/site-packages/AutoROM/roms/kangaroo.bin\n",
      "Installed /Users/work/work-DRLLSS2024/venv-atari/lib/python3.10/site-packages/multi_agent_ale_py/roms/kangaroo.bin\n",
      "Installed /Users/work/work-DRLLSS2024/venv-atari/lib/python3.10/site-packages/AutoROM/roms/keystone_kapers.bin\n",
      "Installed /Users/work/work-DRLLSS2024/venv-atari/lib/python3.10/site-packages/multi_agent_ale_py/roms/keystone_kapers.bin\n",
      "Installed /Users/work/work-DRLLSS2024/venv-atari/lib/python3.10/site-packages/AutoROM/roms/king_kong.bin\n",
      "Installed /Users/work/work-DRLLSS2024/venv-atari/lib/python3.10/site-packages/multi_agent_ale_py/roms/king_kong.bin\n",
      "Installed /Users/work/work-DRLLSS2024/venv-atari/lib/python3.10/site-packages/AutoROM/roms/klax.bin\n",
      "Installed /Users/work/work-DRLLSS2024/venv-atari/lib/python3.10/site-packages/multi_agent_ale_py/roms/klax.bin\n",
      "Installed /Users/work/work-DRLLSS2024/venv-atari/lib/python3.10/site-packages/AutoROM/roms/koolaid.bin\n",
      "Installed /Users/work/work-DRLLSS2024/venv-atari/lib/python3.10/site-packages/multi_agent_ale_py/roms/koolaid.bin\n",
      "Installed /Users/work/work-DRLLSS2024/venv-atari/lib/python3.10/site-packages/AutoROM/roms/krull.bin\n",
      "Installed /Users/work/work-DRLLSS2024/venv-atari/lib/python3.10/site-packages/multi_agent_ale_py/roms/krull.bin\n",
      "Installed /Users/work/work-DRLLSS2024/venv-atari/lib/python3.10/site-packages/AutoROM/roms/kung_fu_master.bin\n",
      "Installed /Users/work/work-DRLLSS2024/venv-atari/lib/python3.10/site-packages/multi_agent_ale_py/roms/kung_fu_master.bin\n",
      "Installed /Users/work/work-DRLLSS2024/venv-atari/lib/python3.10/site-packages/AutoROM/roms/laser_gates.bin\n",
      "Installed /Users/work/work-DRLLSS2024/venv-atari/lib/python3.10/site-packages/multi_agent_ale_py/roms/laser_gates.bin\n",
      "Installed /Users/work/work-DRLLSS2024/venv-atari/lib/python3.10/site-packages/AutoROM/roms/lost_luggage.bin\n",
      "Installed /Users/work/work-DRLLSS2024/venv-atari/lib/python3.10/site-packages/multi_agent_ale_py/roms/lost_luggage.bin\n",
      "Installed /Users/work/work-DRLLSS2024/venv-atari/lib/python3.10/site-packages/AutoROM/roms/mario_bros.bin\n",
      "Installed /Users/work/work-DRLLSS2024/venv-atari/lib/python3.10/site-packages/multi_agent_ale_py/roms/mario_bros.bin\n",
      "Installed /Users/work/work-DRLLSS2024/venv-atari/lib/python3.10/site-packages/AutoROM/roms/maze_craze.bin\n",
      "Installed /Users/work/work-DRLLSS2024/venv-atari/lib/python3.10/site-packages/multi_agent_ale_py/roms/maze_craze.bin\n",
      "Installed /Users/work/work-DRLLSS2024/venv-atari/lib/python3.10/site-packages/AutoROM/roms/miniature_golf.bin\n",
      "Installed /Users/work/work-DRLLSS2024/venv-atari/lib/python3.10/site-packages/multi_agent_ale_py/roms/miniature_golf.bin\n",
      "Installed /Users/work/work-DRLLSS2024/venv-atari/lib/python3.10/site-packages/AutoROM/roms/montezuma_revenge.bin\n",
      "Installed /Users/work/work-DRLLSS2024/venv-atari/lib/python3.10/site-packages/multi_agent_ale_py/roms/montezuma_revenge.bin\n",
      "Installed /Users/work/work-DRLLSS2024/venv-atari/lib/python3.10/site-packages/AutoROM/roms/mr_do.bin\n",
      "Installed /Users/work/work-DRLLSS2024/venv-atari/lib/python3.10/site-packages/multi_agent_ale_py/roms/mr_do.bin\n",
      "Installed /Users/work/work-DRLLSS2024/venv-atari/lib/python3.10/site-packages/AutoROM/roms/ms_pacman.bin\n",
      "Installed /Users/work/work-DRLLSS2024/venv-atari/lib/python3.10/site-packages/multi_agent_ale_py/roms/ms_pacman.bin\n",
      "Installed /Users/work/work-DRLLSS2024/venv-atari/lib/python3.10/site-packages/AutoROM/roms/name_this_game.bin\n",
      "Installed /Users/work/work-DRLLSS2024/venv-atari/lib/python3.10/site-packages/multi_agent_ale_py/roms/name_this_game.bin\n",
      "Installed /Users/work/work-DRLLSS2024/venv-atari/lib/python3.10/site-packages/AutoROM/roms/othello.bin\n",
      "Installed /Users/work/work-DRLLSS2024/venv-atari/lib/python3.10/site-packages/multi_agent_ale_py/roms/othello.bin\n",
      "Installed /Users/work/work-DRLLSS2024/venv-atari/lib/python3.10/site-packages/AutoROM/roms/pacman.bin\n",
      "Installed /Users/work/work-DRLLSS2024/venv-atari/lib/python3.10/site-packages/multi_agent_ale_py/roms/pacman.bin\n",
      "Installed /Users/work/work-DRLLSS2024/venv-atari/lib/python3.10/site-packages/AutoROM/roms/phoenix.bin\n",
      "Installed /Users/work/work-DRLLSS2024/venv-atari/lib/python3.10/site-packages/multi_agent_ale_py/roms/phoenix.bin\n",
      "Installed /Users/work/work-DRLLSS2024/venv-atari/lib/python3.10/site-packages/AutoROM/roms/pitfall.bin\n",
      "Installed /Users/work/work-DRLLSS2024/venv-atari/lib/python3.10/site-packages/multi_agent_ale_py/roms/pitfall.bin\n",
      "Installed /Users/work/work-DRLLSS2024/venv-atari/lib/python3.10/site-packages/AutoROM/roms/pitfall2.bin\n",
      "Installed /Users/work/work-DRLLSS2024/venv-atari/lib/python3.10/site-packages/multi_agent_ale_py/roms/pitfall2.bin\n",
      "Installed /Users/work/work-DRLLSS2024/venv-atari/lib/python3.10/site-packages/AutoROM/roms/pong.bin\n",
      "Installed /Users/work/work-DRLLSS2024/venv-atari/lib/python3.10/site-packages/multi_agent_ale_py/roms/pong.bin\n",
      "Installed /Users/work/work-DRLLSS2024/venv-atari/lib/python3.10/site-packages/AutoROM/roms/pooyan.bin\n",
      "Installed /Users/work/work-DRLLSS2024/venv-atari/lib/python3.10/site-packages/multi_agent_ale_py/roms/pooyan.bin\n",
      "Installed /Users/work/work-DRLLSS2024/venv-atari/lib/python3.10/site-packages/AutoROM/roms/private_eye.bin\n",
      "Installed /Users/work/work-DRLLSS2024/venv-atari/lib/python3.10/site-packages/multi_agent_ale_py/roms/private_eye.bin\n",
      "Installed /Users/work/work-DRLLSS2024/venv-atari/lib/python3.10/site-packages/AutoROM/roms/qbert.bin\n",
      "Installed /Users/work/work-DRLLSS2024/venv-atari/lib/python3.10/site-packages/multi_agent_ale_py/roms/qbert.bin\n",
      "Installed /Users/work/work-DRLLSS2024/venv-atari/lib/python3.10/site-packages/AutoROM/roms/riverraid.bin\n",
      "Installed /Users/work/work-DRLLSS2024/venv-atari/lib/python3.10/site-packages/multi_agent_ale_py/roms/riverraid.bin\n",
      "Installed /Users/work/work-DRLLSS2024/venv-atari/lib/python3.10/site-packages/AutoROM/roms/road_runner.bin\n",
      "Installed /Users/work/work-DRLLSS2024/venv-atari/lib/python3.10/site-packages/multi_agent_ale_py/roms/road_runner.bin\n",
      "Installed /Users/work/work-DRLLSS2024/venv-atari/lib/python3.10/site-packages/AutoROM/roms/robotank.bin\n",
      "Installed /Users/work/work-DRLLSS2024/venv-atari/lib/python3.10/site-packages/multi_agent_ale_py/roms/robotank.bin\n",
      "Installed /Users/work/work-DRLLSS2024/venv-atari/lib/python3.10/site-packages/AutoROM/roms/seaquest.bin\n",
      "Installed /Users/work/work-DRLLSS2024/venv-atari/lib/python3.10/site-packages/multi_agent_ale_py/roms/seaquest.bin\n",
      "Installed /Users/work/work-DRLLSS2024/venv-atari/lib/python3.10/site-packages/AutoROM/roms/sir_lancelot.bin\n",
      "Installed /Users/work/work-DRLLSS2024/venv-atari/lib/python3.10/site-packages/multi_agent_ale_py/roms/sir_lancelot.bin\n",
      "Installed /Users/work/work-DRLLSS2024/venv-atari/lib/python3.10/site-packages/AutoROM/roms/skiing.bin\n",
      "Installed /Users/work/work-DRLLSS2024/venv-atari/lib/python3.10/site-packages/multi_agent_ale_py/roms/skiing.bin\n",
      "Installed /Users/work/work-DRLLSS2024/venv-atari/lib/python3.10/site-packages/AutoROM/roms/solaris.bin\n",
      "Installed /Users/work/work-DRLLSS2024/venv-atari/lib/python3.10/site-packages/multi_agent_ale_py/roms/solaris.bin\n",
      "Installed /Users/work/work-DRLLSS2024/venv-atari/lib/python3.10/site-packages/AutoROM/roms/space_invaders.bin\n",
      "Installed /Users/work/work-DRLLSS2024/venv-atari/lib/python3.10/site-packages/multi_agent_ale_py/roms/space_invaders.bin\n",
      "Installed /Users/work/work-DRLLSS2024/venv-atari/lib/python3.10/site-packages/AutoROM/roms/space_war.bin\n",
      "Installed /Users/work/work-DRLLSS2024/venv-atari/lib/python3.10/site-packages/multi_agent_ale_py/roms/space_war.bin\n",
      "Installed /Users/work/work-DRLLSS2024/venv-atari/lib/python3.10/site-packages/AutoROM/roms/star_gunner.bin\n",
      "Installed /Users/work/work-DRLLSS2024/venv-atari/lib/python3.10/site-packages/multi_agent_ale_py/roms/star_gunner.bin\n",
      "Installed /Users/work/work-DRLLSS2024/venv-atari/lib/python3.10/site-packages/AutoROM/roms/superman.bin\n",
      "Installed /Users/work/work-DRLLSS2024/venv-atari/lib/python3.10/site-packages/multi_agent_ale_py/roms/superman.bin\n",
      "Installed /Users/work/work-DRLLSS2024/venv-atari/lib/python3.10/site-packages/AutoROM/roms/surround.bin\n",
      "Installed /Users/work/work-DRLLSS2024/venv-atari/lib/python3.10/site-packages/multi_agent_ale_py/roms/surround.bin\n",
      "Installed /Users/work/work-DRLLSS2024/venv-atari/lib/python3.10/site-packages/AutoROM/roms/tennis.bin\n",
      "Installed /Users/work/work-DRLLSS2024/venv-atari/lib/python3.10/site-packages/multi_agent_ale_py/roms/tennis.bin\n",
      "Installed /Users/work/work-DRLLSS2024/venv-atari/lib/python3.10/site-packages/AutoROM/roms/tetris.bin\n",
      "Installed /Users/work/work-DRLLSS2024/venv-atari/lib/python3.10/site-packages/multi_agent_ale_py/roms/tetris.bin\n",
      "Installed /Users/work/work-DRLLSS2024/venv-atari/lib/python3.10/site-packages/AutoROM/roms/tic_tac_toe_3d.bin\n",
      "Installed /Users/work/work-DRLLSS2024/venv-atari/lib/python3.10/site-packages/multi_agent_ale_py/roms/tic_tac_toe_3d.bin\n",
      "Installed /Users/work/work-DRLLSS2024/venv-atari/lib/python3.10/site-packages/AutoROM/roms/time_pilot.bin\n",
      "Installed /Users/work/work-DRLLSS2024/venv-atari/lib/python3.10/site-packages/multi_agent_ale_py/roms/time_pilot.bin\n",
      "Installed /Users/work/work-DRLLSS2024/venv-atari/lib/python3.10/site-packages/AutoROM/roms/trondead.bin\n",
      "Installed /Users/work/work-DRLLSS2024/venv-atari/lib/python3.10/site-packages/multi_agent_ale_py/roms/trondead.bin\n",
      "Installed /Users/work/work-DRLLSS2024/venv-atari/lib/python3.10/site-packages/AutoROM/roms/turmoil.bin\n",
      "Installed /Users/work/work-DRLLSS2024/venv-atari/lib/python3.10/site-packages/multi_agent_ale_py/roms/turmoil.bin\n",
      "Installed /Users/work/work-DRLLSS2024/venv-atari/lib/python3.10/site-packages/AutoROM/roms/tutankham.bin\n",
      "Installed /Users/work/work-DRLLSS2024/venv-atari/lib/python3.10/site-packages/multi_agent_ale_py/roms/tutankham.bin\n",
      "Installed /Users/work/work-DRLLSS2024/venv-atari/lib/python3.10/site-packages/AutoROM/roms/up_n_down.bin\n",
      "Installed /Users/work/work-DRLLSS2024/venv-atari/lib/python3.10/site-packages/multi_agent_ale_py/roms/up_n_down.bin\n",
      "Installed /Users/work/work-DRLLSS2024/venv-atari/lib/python3.10/site-packages/AutoROM/roms/venture.bin\n",
      "Installed /Users/work/work-DRLLSS2024/venv-atari/lib/python3.10/site-packages/multi_agent_ale_py/roms/venture.bin\n",
      "Installed /Users/work/work-DRLLSS2024/venv-atari/lib/python3.10/site-packages/AutoROM/roms/video_checkers.bin\n",
      "Installed /Users/work/work-DRLLSS2024/venv-atari/lib/python3.10/site-packages/multi_agent_ale_py/roms/video_checkers.bin\n",
      "Installed /Users/work/work-DRLLSS2024/venv-atari/lib/python3.10/site-packages/AutoROM/roms/video_chess.bin\n",
      "Installed /Users/work/work-DRLLSS2024/venv-atari/lib/python3.10/site-packages/multi_agent_ale_py/roms/video_chess.bin\n",
      "Installed /Users/work/work-DRLLSS2024/venv-atari/lib/python3.10/site-packages/AutoROM/roms/video_cube.bin\n",
      "Installed /Users/work/work-DRLLSS2024/venv-atari/lib/python3.10/site-packages/multi_agent_ale_py/roms/video_cube.bin\n",
      "Installed /Users/work/work-DRLLSS2024/venv-atari/lib/python3.10/site-packages/AutoROM/roms/video_pinball.bin\n",
      "Installed /Users/work/work-DRLLSS2024/venv-atari/lib/python3.10/site-packages/multi_agent_ale_py/roms/video_pinball.bin\n",
      "Installed /Users/work/work-DRLLSS2024/venv-atari/lib/python3.10/site-packages/AutoROM/roms/warlords.bin\n",
      "Installed /Users/work/work-DRLLSS2024/venv-atari/lib/python3.10/site-packages/multi_agent_ale_py/roms/warlords.bin\n",
      "Installed /Users/work/work-DRLLSS2024/venv-atari/lib/python3.10/site-packages/AutoROM/roms/wizard_of_wor.bin\n",
      "Installed /Users/work/work-DRLLSS2024/venv-atari/lib/python3.10/site-packages/multi_agent_ale_py/roms/wizard_of_wor.bin\n",
      "Installed /Users/work/work-DRLLSS2024/venv-atari/lib/python3.10/site-packages/AutoROM/roms/word_zapper.bin\n",
      "Installed /Users/work/work-DRLLSS2024/venv-atari/lib/python3.10/site-packages/multi_agent_ale_py/roms/word_zapper.bin\n",
      "Installed /Users/work/work-DRLLSS2024/venv-atari/lib/python3.10/site-packages/AutoROM/roms/yars_revenge.bin\n",
      "Installed /Users/work/work-DRLLSS2024/venv-atari/lib/python3.10/site-packages/multi_agent_ale_py/roms/yars_revenge.bin\n",
      "Installed /Users/work/work-DRLLSS2024/venv-atari/lib/python3.10/site-packages/AutoROM/roms/zaxxon.bin\n",
      "Installed /Users/work/work-DRLLSS2024/venv-atari/lib/python3.10/site-packages/multi_agent_ale_py/roms/zaxxon.bin\n",
      "Done!\n"
     ]
    }
   ],
   "source": [
    "!AutoROM -y"
   ]
  },
  {
   "cell_type": "code",
   "execution_count": 10,
   "id": "e121a0f9-1465-4554-b1ea-3037edee934b",
   "metadata": {},
   "outputs": [
    {
     "name": "stdout",
     "output_type": "stream",
     "text": [
      "Collecting imageio\n",
      "  Using cached imageio-2.34.0-py3-none-any.whl.metadata (4.9 kB)\n",
      "Requirement already satisfied: numpy in /Users/work/work-DRLLSS2024/venv-atari/lib/python3.10/site-packages (from imageio) (1.24.2)\n",
      "Requirement already satisfied: pillow>=8.3.2 in /Users/work/work-DRLLSS2024/venv-atari/lib/python3.10/site-packages (from imageio) (10.2.0)\n",
      "Using cached imageio-2.34.0-py3-none-any.whl (313 kB)\n",
      "Installing collected packages: imageio\n",
      "Successfully installed imageio-2.34.0\n"
     ]
    }
   ],
   "source": [
    "!pip install imageio"
   ]
  },
  {
   "cell_type": "code",
   "execution_count": 2,
   "id": "650780a5-3d68-4be5-86f0-c82da80a1cbc",
   "metadata": {},
   "outputs": [
    {
     "name": "stdout",
     "output_type": "stream",
     "text": [
      "20240325-0925\n"
     ]
    }
   ],
   "source": [
    "#現在日時を取得\n",
    "import datetime\n",
    "\n",
    "if True: #新規採番\n",
    "    dt_now = datetime.datetime.now()\n",
    "    str_dt_now = dt_now.strftime(\"%Y%m%d-%H%M\")\n",
    "    print(str_dt_now)\n",
    "\n",
    "else: # 固定値\n",
    "    str_dt_now = \"20231231-1733\""
   ]
  },
  {
   "cell_type": "code",
   "execution_count": 3,
   "id": "947fe8d6-7155-469c-8ee5-462ded068335",
   "metadata": {},
   "outputs": [
    {
     "name": "stdout",
     "output_type": "stream",
     "text": [
      "/home/user/work-DRLSS2024/DRLSS2024-MultiAgent/otk/AgileRL-MATD3/space_invaders_v2\n"
     ]
    }
   ],
   "source": [
    "!pwd"
   ]
  },
  {
   "cell_type": "code",
   "execution_count": 4,
   "id": "b763bc86-f7c4-4ab5-adf3-98068042f627",
   "metadata": {},
   "outputs": [
    {
     "name": "stdout",
     "output_type": "stream",
     "text": [
      "Start  :  20240325-0925\n",
      "===== AgileRL Online Multi-Agent Demo =====\n"
     ]
    },
    {
     "name": "stderr",
     "output_type": "stream",
     "text": [
      "/home/user/work-DRLSS2024/venv-DRLSS2024/lib/python3.10/site-packages/pettingzoo/utils/conversions.py:232: UserWarning: The base environment `space_invaders_v2` does not have a `render_mode` defined.\n",
      "  warnings.warn(\n"
     ]
    },
    {
     "name": "stdout",
     "output_type": "stream",
     "text": [
      "state_dim [(4, 84, 84), (4, 84, 84)]\n",
      "action_dim [6, 6]\n",
      "one_hot False\n",
      "NET_CONFIG\n",
      "{'arch': 'cnn',\n",
      " 'c_size': [3, 32],\n",
      " 'h_size': [32, 32],\n",
      " 'k_size': [[1, 3, 3], [1, 3, 3]],\n",
      " 'normalize': 'True',\n",
      " 's_size': [2, 2]}\n",
      "INIT_HP\n",
      "{'AGENT_IDS': ['first_0', 'second_0'],\n",
      " 'ALGO': 'MATD3',\n",
      " 'BATCH_SIZE': 64,\n",
      " 'CHANNELS_LAST': 'True',\n",
      " 'DISCRETE_ACTIONS': True,\n",
      " 'GAMMA': 0.95,\n",
      " 'LEARN_STEP': 5,\n",
      " 'LR': 0.01,\n",
      " 'MAX_ACTION': None,\n",
      " 'MEMORY_SIZE': 200000,\n",
      " 'MIN_ACTION': None,\n",
      " 'N_AGENTS': 2,\n",
      " 'POLICY_FREQ': 2,\n",
      " 'POPULATION_SIZE': 1,\n",
      " 'TAU': 0.01}\n",
      "device cuda\n"
     ]
    },
    {
     "name": "stderr",
     "output_type": "stream",
     "text": [
      "/home/user/work-DRLSS2024/venv-DRLSS2024/lib/python3.10/site-packages/tqdm/auto.py:21: TqdmWarning: IProgress not found. Please update jupyter and ipywidgets. See https://ipywidgets.readthedocs.io/en/stable/user_install.html\n",
      "  from .autonotebook import tqdm as notebook_tqdm\n",
      "  0%|▏                                    | 49/10000 [03:27<10:56:04,  3.96s/it]"
     ]
    },
    {
     "name": "stdout",
     "output_type": "stream",
     "text": [
      "Episode 50/10000\n",
      "Fitnesses: ['19.33']\n",
      "100 fitness avgs: ['19.33']\n"
     ]
    },
    {
     "name": "stderr",
     "output_type": "stream",
     "text": [
      "  1%|▎                                    | 99/10000 [07:06<12:48:02,  4.65s/it]"
     ]
    },
    {
     "name": "stdout",
     "output_type": "stream",
     "text": [
      "Episode 100/10000\n",
      "Fitnesses: ['16.00']\n",
      "100 fitness avgs: ['17.67']\n"
     ]
    },
    {
     "name": "stderr",
     "output_type": "stream",
     "text": [
      "  2%|▌                                   | 150/10000 [10:54<14:42:31,  5.38s/it]"
     ]
    },
    {
     "name": "stdout",
     "output_type": "stream",
     "text": [
      "Episode 150/10000\n",
      "Fitnesses: ['15.67']\n",
      "100 fitness avgs: ['17.00']\n"
     ]
    },
    {
     "name": "stderr",
     "output_type": "stream",
     "text": [
      "  2%|▋                                   | 199/10000 [14:45<13:52:24,  5.10s/it]"
     ]
    },
    {
     "name": "stdout",
     "output_type": "stream",
     "text": [
      "Episode 200/10000\n",
      "Fitnesses: ['9.00']\n",
      "100 fitness avgs: ['15.00']\n"
     ]
    },
    {
     "name": "stderr",
     "output_type": "stream",
     "text": [
      "  2%|▉                                   | 250/10000 [18:51<15:49:14,  5.84s/it]"
     ]
    },
    {
     "name": "stdout",
     "output_type": "stream",
     "text": [
      "Episode 250/10000\n",
      "Fitnesses: ['10.00']\n",
      "100 fitness avgs: ['14.00']\n"
     ]
    },
    {
     "name": "stderr",
     "output_type": "stream",
     "text": [
      "  3%|█                                   | 300/10000 [22:59<18:33:32,  6.89s/it]"
     ]
    },
    {
     "name": "stdout",
     "output_type": "stream",
     "text": [
      "Episode 300/10000\n",
      "Fitnesses: ['19.67']\n",
      "100 fitness avgs: ['14.94']\n"
     ]
    },
    {
     "name": "stderr",
     "output_type": "stream",
     "text": [
      "  4%|█▎                                  | 350/10000 [26:55<15:47:42,  5.89s/it]"
     ]
    },
    {
     "name": "stdout",
     "output_type": "stream",
     "text": [
      "Episode 350/10000\n",
      "Fitnesses: ['15.00']\n",
      "100 fitness avgs: ['14.95']\n"
     ]
    },
    {
     "name": "stderr",
     "output_type": "stream",
     "text": [
      "  4%|█▍                                  | 399/10000 [30:49<12:29:41,  4.69s/it]"
     ]
    },
    {
     "name": "stdout",
     "output_type": "stream",
     "text": [
      "Episode 400/10000\n",
      "Fitnesses: ['19.00']\n",
      "100 fitness avgs: ['15.46']\n"
     ]
    },
    {
     "name": "stderr",
     "output_type": "stream",
     "text": [
      "  4%|█▌                                  | 450/10000 [35:11<14:49:18,  5.59s/it]"
     ]
    },
    {
     "name": "stdout",
     "output_type": "stream",
     "text": [
      "Episode 450/10000\n",
      "Fitnesses: ['12.33']\n",
      "100 fitness avgs: ['15.11']\n"
     ]
    },
    {
     "name": "stderr",
     "output_type": "stream",
     "text": [
      "  5%|█▊                                  | 500/10000 [39:18<13:56:15,  5.28s/it]"
     ]
    },
    {
     "name": "stdout",
     "output_type": "stream",
     "text": [
      "Episode 500/10000\n",
      "Fitnesses: ['19.33']\n",
      "100 fitness avgs: ['15.53']\n"
     ]
    },
    {
     "name": "stderr",
     "output_type": "stream",
     "text": [
      "  6%|█▉                                  | 550/10000 [43:24<16:47:17,  6.40s/it]"
     ]
    },
    {
     "name": "stdout",
     "output_type": "stream",
     "text": [
      "Episode 550/10000\n",
      "Fitnesses: ['12.00']\n",
      "100 fitness avgs: ['15.21']\n"
     ]
    },
    {
     "name": "stderr",
     "output_type": "stream",
     "text": [
      "  6%|██▏                                 | 599/10000 [47:17<11:31:10,  4.41s/it]"
     ]
    },
    {
     "name": "stdout",
     "output_type": "stream",
     "text": [
      "Episode 600/10000\n",
      "Fitnesses: ['17.00']\n",
      "100 fitness avgs: ['15.36']\n"
     ]
    },
    {
     "name": "stderr",
     "output_type": "stream",
     "text": [
      "  6%|██▎                                 | 649/10000 [51:28<11:57:29,  4.60s/it]"
     ]
    },
    {
     "name": "stdout",
     "output_type": "stream",
     "text": [
      "Episode 650/10000\n",
      "Fitnesses: ['17.67']\n",
      "100 fitness avgs: ['15.54']\n"
     ]
    },
    {
     "name": "stderr",
     "output_type": "stream",
     "text": [
      "  7%|██▌                                 | 699/10000 [55:43<13:33:46,  5.25s/it]"
     ]
    },
    {
     "name": "stdout",
     "output_type": "stream",
     "text": [
      "Episode 700/10000\n",
      "Fitnesses: ['12.67']\n",
      "100 fitness avgs: ['15.33']\n"
     ]
    },
    {
     "name": "stderr",
     "output_type": "stream",
     "text": [
      "  7%|██▋                                 | 749/10000 [59:53<11:45:02,  4.57s/it]"
     ]
    },
    {
     "name": "stdout",
     "output_type": "stream",
     "text": [
      "Episode 750/10000\n",
      "Fitnesses: ['17.00']\n",
      "100 fitness avgs: ['15.44']\n"
     ]
    },
    {
     "name": "stderr",
     "output_type": "stream",
     "text": [
      "  8%|██▊                                | 799/10000 [1:03:58<9:54:44,  3.88s/it]"
     ]
    },
    {
     "name": "stdout",
     "output_type": "stream",
     "text": [
      "Episode 800/10000\n",
      "Fitnesses: ['22.00']\n",
      "100 fitness avgs: ['15.85']\n"
     ]
    },
    {
     "name": "stderr",
     "output_type": "stream",
     "text": [
      "  8%|██▉                               | 849/10000 [1:08:19<15:05:01,  5.93s/it]"
     ]
    },
    {
     "name": "stdout",
     "output_type": "stream",
     "text": [
      "Episode 850/10000\n",
      "Fitnesses: ['17.00']\n",
      "100 fitness avgs: ['15.92']\n"
     ]
    },
    {
     "name": "stderr",
     "output_type": "stream",
     "text": [
      "  9%|███                               | 899/10000 [1:12:23<10:53:17,  4.31s/it]"
     ]
    },
    {
     "name": "stdout",
     "output_type": "stream",
     "text": [
      "Episode 900/10000\n",
      "Fitnesses: ['23.33']\n",
      "100 fitness avgs: ['16.33']\n"
     ]
    },
    {
     "name": "stderr",
     "output_type": "stream",
     "text": [
      "  9%|███▏                              | 949/10000 [1:16:34<11:35:43,  4.61s/it]"
     ]
    },
    {
     "name": "stdout",
     "output_type": "stream",
     "text": [
      "Episode 950/10000\n",
      "Fitnesses: ['11.00']\n",
      "100 fitness avgs: ['16.05']\n"
     ]
    },
    {
     "name": "stderr",
     "output_type": "stream",
     "text": [
      " 10%|███▍                              | 999/10000 [1:20:42<12:44:58,  5.10s/it]"
     ]
    },
    {
     "name": "stdout",
     "output_type": "stream",
     "text": [
      "Episode 1000/10000\n",
      "Fitnesses: ['11.33']\n",
      "100 fitness avgs: ['15.82']\n"
     ]
    },
    {
     "name": "stderr",
     "output_type": "stream",
     "text": [
      " 10%|███▎                             | 1000/10000 [1:20:49<14:21:20,  5.74s/it]"
     ]
    },
    {
     "name": "stdout",
     "output_type": "stream",
     "text": [
      "Save Model at ep  1000\n"
     ]
    },
    {
     "name": "stderr",
     "output_type": "stream",
     "text": [
      " 10%|███▍                             | 1049/10000 [1:24:59<11:49:41,  4.76s/it]"
     ]
    },
    {
     "name": "stdout",
     "output_type": "stream",
     "text": [
      "Episode 1050/10000\n",
      "Fitnesses: ['16.67']\n",
      "100 fitness avgs: ['15.86']\n"
     ]
    },
    {
     "name": "stderr",
     "output_type": "stream",
     "text": [
      " 11%|███▋                             | 1099/10000 [1:29:10<13:07:55,  5.31s/it]"
     ]
    },
    {
     "name": "stdout",
     "output_type": "stream",
     "text": [
      "Episode 1100/10000\n",
      "Fitnesses: ['16.33']\n",
      "100 fitness avgs: ['15.88']\n"
     ]
    },
    {
     "name": "stderr",
     "output_type": "stream",
     "text": [
      " 11%|███▊                             | 1149/10000 [1:33:21<10:50:01,  4.41s/it]"
     ]
    },
    {
     "name": "stdout",
     "output_type": "stream",
     "text": [
      "Episode 1150/10000\n",
      "Fitnesses: ['12.00']\n",
      "100 fitness avgs: ['15.71']\n"
     ]
    },
    {
     "name": "stderr",
     "output_type": "stream",
     "text": [
      " 12%|███▉                             | 1199/10000 [1:37:36<12:52:29,  5.27s/it]"
     ]
    },
    {
     "name": "stdout",
     "output_type": "stream",
     "text": [
      "Episode 1200/10000\n",
      "Fitnesses: ['21.67']\n",
      "100 fitness avgs: ['15.96']\n"
     ]
    },
    {
     "name": "stderr",
     "output_type": "stream",
     "text": [
      " 12%|████                             | 1249/10000 [1:41:35<11:21:18,  4.67s/it]"
     ]
    },
    {
     "name": "stdout",
     "output_type": "stream",
     "text": [
      "Episode 1250/10000\n",
      "Fitnesses: ['17.00']\n",
      "100 fitness avgs: ['16.00']\n"
     ]
    },
    {
     "name": "stderr",
     "output_type": "stream",
     "text": [
      " 13%|████▎                            | 1299/10000 [1:45:41<13:14:15,  5.48s/it]"
     ]
    },
    {
     "name": "stdout",
     "output_type": "stream",
     "text": [
      "Episode 1300/10000\n",
      "Fitnesses: ['10.33']\n",
      "100 fitness avgs: ['15.78']\n"
     ]
    },
    {
     "name": "stderr",
     "output_type": "stream",
     "text": [
      " 13%|████▌                             | 1349/10000 [1:49:31<9:42:25,  4.04s/it]"
     ]
    },
    {
     "name": "stdout",
     "output_type": "stream",
     "text": [
      "Episode 1350/10000\n",
      "Fitnesses: ['17.67']\n",
      "100 fitness avgs: ['15.85']\n"
     ]
    },
    {
     "name": "stderr",
     "output_type": "stream",
     "text": [
      " 14%|████▌                            | 1399/10000 [1:53:36<11:50:49,  4.96s/it]"
     ]
    },
    {
     "name": "stdout",
     "output_type": "stream",
     "text": [
      "Episode 1400/10000\n",
      "Fitnesses: ['14.67']\n",
      "100 fitness avgs: ['15.81']\n"
     ]
    },
    {
     "name": "stderr",
     "output_type": "stream",
     "text": [
      " 14%|████▊                            | 1449/10000 [1:57:46<12:46:14,  5.38s/it]"
     ]
    },
    {
     "name": "stdout",
     "output_type": "stream",
     "text": [
      "Episode 1450/10000\n",
      "Fitnesses: ['17.00']\n",
      "100 fitness avgs: ['15.85']\n"
     ]
    },
    {
     "name": "stderr",
     "output_type": "stream",
     "text": [
      " 15%|████▉                            | 1499/10000 [2:01:46<11:02:06,  4.67s/it]"
     ]
    },
    {
     "name": "stdout",
     "output_type": "stream",
     "text": [
      "Episode 1500/10000\n",
      "Fitnesses: ['18.67']\n",
      "100 fitness avgs: ['15.94']\n"
     ]
    },
    {
     "name": "stderr",
     "output_type": "stream",
     "text": [
      " 15%|█████                            | 1549/10000 [2:05:55<12:15:00,  5.22s/it]"
     ]
    },
    {
     "name": "stdout",
     "output_type": "stream",
     "text": [
      "Episode 1550/10000\n",
      "Fitnesses: ['18.33']\n",
      "100 fitness avgs: ['16.02']\n"
     ]
    },
    {
     "name": "stderr",
     "output_type": "stream",
     "text": [
      " 16%|█████▎                           | 1599/10000 [2:09:55<11:31:42,  4.94s/it]"
     ]
    },
    {
     "name": "stdout",
     "output_type": "stream",
     "text": [
      "Episode 1600/10000\n",
      "Fitnesses: ['14.67']\n",
      "100 fitness avgs: ['15.98']\n"
     ]
    },
    {
     "name": "stderr",
     "output_type": "stream",
     "text": [
      " 16%|█████▍                           | 1649/10000 [2:14:00<11:45:32,  5.07s/it]"
     ]
    },
    {
     "name": "stdout",
     "output_type": "stream",
     "text": [
      "Episode 1650/10000\n",
      "Fitnesses: ['16.67']\n",
      "100 fitness avgs: ['16.00']\n"
     ]
    },
    {
     "name": "stderr",
     "output_type": "stream",
     "text": [
      " 17%|█████▊                            | 1699/10000 [2:17:57<9:01:15,  3.91s/it]"
     ]
    },
    {
     "name": "stdout",
     "output_type": "stream",
     "text": [
      "Episode 1700/10000\n",
      "Fitnesses: ['13.33']\n",
      "100 fitness avgs: ['15.92']\n"
     ]
    },
    {
     "name": "stderr",
     "output_type": "stream",
     "text": [
      " 17%|█████▊                           | 1749/10000 [2:21:48<11:42:53,  5.11s/it]"
     ]
    },
    {
     "name": "stdout",
     "output_type": "stream",
     "text": [
      "Episode 1750/10000\n",
      "Fitnesses: ['13.00']\n",
      "100 fitness avgs: ['15.84']\n"
     ]
    },
    {
     "name": "stderr",
     "output_type": "stream",
     "text": [
      " 18%|█████▉                           | 1799/10000 [2:26:12<11:28:22,  5.04s/it]"
     ]
    },
    {
     "name": "stdout",
     "output_type": "stream",
     "text": [
      "Episode 1800/10000\n",
      "Fitnesses: ['17.33']\n",
      "100 fitness avgs: ['15.88']\n"
     ]
    },
    {
     "name": "stderr",
     "output_type": "stream",
     "text": [
      " 18%|██████                           | 1849/10000 [2:29:58<10:35:33,  4.68s/it]"
     ]
    },
    {
     "name": "stdout",
     "output_type": "stream",
     "text": [
      "Episode 1850/10000\n",
      "Fitnesses: ['21.00']\n",
      "100 fitness avgs: ['16.02']\n"
     ]
    },
    {
     "name": "stderr",
     "output_type": "stream",
     "text": [
      " 19%|██████▎                          | 1899/10000 [2:34:05<11:41:39,  5.20s/it]"
     ]
    },
    {
     "name": "stdout",
     "output_type": "stream",
     "text": [
      "Episode 1900/10000\n",
      "Fitnesses: ['21.00']\n",
      "100 fitness avgs: ['16.15']\n"
     ]
    },
    {
     "name": "stderr",
     "output_type": "stream",
     "text": [
      " 19%|██████▍                          | 1949/10000 [2:38:14<12:39:22,  5.66s/it]"
     ]
    },
    {
     "name": "stdout",
     "output_type": "stream",
     "text": [
      "Episode 1950/10000\n",
      "Fitnesses: ['12.67']\n",
      "100 fitness avgs: ['16.06']\n"
     ]
    },
    {
     "name": "stderr",
     "output_type": "stream",
     "text": [
      " 20%|██████▌                          | 1999/10000 [2:42:31<12:07:20,  5.45s/it]"
     ]
    },
    {
     "name": "stdout",
     "output_type": "stream",
     "text": [
      "Episode 2000/10000\n",
      "Fitnesses: ['19.00']\n",
      "100 fitness avgs: ['16.13']\n"
     ]
    },
    {
     "name": "stderr",
     "output_type": "stream",
     "text": [
      " 20%|██████▌                          | 2000/10000 [2:42:41<15:15:56,  6.87s/it]"
     ]
    },
    {
     "name": "stdout",
     "output_type": "stream",
     "text": [
      "Save Model at ep  2000\n"
     ]
    },
    {
     "name": "stderr",
     "output_type": "stream",
     "text": [
      " 20%|██████▊                          | 2049/10000 [2:46:44<11:51:46,  5.37s/it]"
     ]
    },
    {
     "name": "stdout",
     "output_type": "stream",
     "text": [
      "Episode 2050/10000\n",
      "Fitnesses: ['19.33']\n",
      "100 fitness avgs: ['16.21']\n"
     ]
    },
    {
     "name": "stderr",
     "output_type": "stream",
     "text": [
      " 21%|███████▏                          | 2099/10000 [2:50:49<9:33:35,  4.36s/it]"
     ]
    },
    {
     "name": "stdout",
     "output_type": "stream",
     "text": [
      "Episode 2100/10000\n",
      "Fitnesses: ['17.33']\n",
      "100 fitness avgs: ['16.24']\n"
     ]
    },
    {
     "name": "stderr",
     "output_type": "stream",
     "text": [
      " 21%|███████                          | 2149/10000 [2:55:16<11:28:00,  5.26s/it]"
     ]
    },
    {
     "name": "stdout",
     "output_type": "stream",
     "text": [
      "Episode 2150/10000\n",
      "Fitnesses: ['16.00']\n",
      "100 fitness avgs: ['16.23']\n"
     ]
    },
    {
     "name": "stderr",
     "output_type": "stream",
     "text": [
      " 22%|███████▍                          | 2199/10000 [2:59:26<9:40:22,  4.46s/it]"
     ]
    },
    {
     "name": "stdout",
     "output_type": "stream",
     "text": [
      "Episode 2200/10000\n",
      "Fitnesses: ['15.00']\n",
      "100 fitness avgs: ['16.20']\n"
     ]
    },
    {
     "name": "stderr",
     "output_type": "stream",
     "text": [
      " 22%|███████▍                         | 2249/10000 [3:03:32<10:24:12,  4.83s/it]"
     ]
    },
    {
     "name": "stdout",
     "output_type": "stream",
     "text": [
      "Episode 2250/10000\n",
      "Fitnesses: ['17.33']\n",
      "100 fitness avgs: ['16.23']\n"
     ]
    },
    {
     "name": "stderr",
     "output_type": "stream",
     "text": [
      " 23%|███████▊                          | 2299/10000 [3:07:35<8:54:18,  4.16s/it]"
     ]
    },
    {
     "name": "stdout",
     "output_type": "stream",
     "text": [
      "Episode 2300/10000\n",
      "Fitnesses: ['13.00']\n",
      "100 fitness avgs: ['16.16']\n"
     ]
    },
    {
     "name": "stderr",
     "output_type": "stream",
     "text": [
      " 23%|███████▉                          | 2349/10000 [3:11:43<8:54:01,  4.19s/it]"
     ]
    },
    {
     "name": "stdout",
     "output_type": "stream",
     "text": [
      "Episode 2350/10000\n",
      "Fitnesses: ['13.67']\n",
      "100 fitness avgs: ['16.11']\n"
     ]
    },
    {
     "name": "stderr",
     "output_type": "stream",
     "text": [
      " 24%|███████▉                         | 2399/10000 [3:16:01<11:00:32,  5.21s/it]"
     ]
    },
    {
     "name": "stdout",
     "output_type": "stream",
     "text": [
      "Episode 2400/10000\n",
      "Fitnesses: ['21.00']\n",
      "100 fitness avgs: ['16.21']\n"
     ]
    },
    {
     "name": "stderr",
     "output_type": "stream",
     "text": [
      " 24%|████████                         | 2449/10000 [3:20:10<10:05:57,  4.81s/it]"
     ]
    },
    {
     "name": "stdout",
     "output_type": "stream",
     "text": [
      "Episode 2450/10000\n",
      "Fitnesses: ['20.67']\n",
      "100 fitness avgs: ['16.30']\n"
     ]
    },
    {
     "name": "stderr",
     "output_type": "stream",
     "text": [
      " 25%|████████▍                         | 2499/10000 [3:24:15<9:47:01,  4.70s/it]"
     ]
    },
    {
     "name": "stdout",
     "output_type": "stream",
     "text": [
      "Episode 2500/10000\n",
      "Fitnesses: ['15.33']\n",
      "100 fitness avgs: ['16.28']\n"
     ]
    },
    {
     "name": "stderr",
     "output_type": "stream",
     "text": [
      " 25%|████████▋                         | 2549/10000 [3:28:23<9:37:09,  4.65s/it]"
     ]
    },
    {
     "name": "stdout",
     "output_type": "stream",
     "text": [
      "Episode 2550/10000\n",
      "Fitnesses: ['17.00']\n",
      "100 fitness avgs: ['16.29']\n"
     ]
    },
    {
     "name": "stderr",
     "output_type": "stream",
     "text": [
      " 26%|████████▊                         | 2599/10000 [3:32:24<9:40:39,  4.71s/it]"
     ]
    },
    {
     "name": "stdout",
     "output_type": "stream",
     "text": [
      "Episode 2600/10000\n",
      "Fitnesses: ['10.33']\n",
      "100 fitness avgs: ['16.18']\n"
     ]
    },
    {
     "name": "stderr",
     "output_type": "stream",
     "text": [
      " 26%|█████████                         | 2649/10000 [3:36:21<9:17:59,  4.55s/it]"
     ]
    },
    {
     "name": "stdout",
     "output_type": "stream",
     "text": [
      "Episode 2650/10000\n",
      "Fitnesses: ['17.33']\n",
      "100 fitness avgs: ['16.20']\n"
     ]
    },
    {
     "name": "stderr",
     "output_type": "stream",
     "text": [
      " 27%|█████████▏                        | 2699/10000 [3:40:29<9:50:08,  4.85s/it]"
     ]
    },
    {
     "name": "stdout",
     "output_type": "stream",
     "text": [
      "Episode 2700/10000\n",
      "Fitnesses: ['16.00']\n",
      "100 fitness avgs: ['16.20']\n"
     ]
    },
    {
     "name": "stderr",
     "output_type": "stream",
     "text": [
      " 27%|█████████                        | 2749/10000 [3:44:39<10:38:55,  5.29s/it]"
     ]
    },
    {
     "name": "stdout",
     "output_type": "stream",
     "text": [
      "Episode 2750/10000\n",
      "Fitnesses: ['17.67']\n",
      "100 fitness avgs: ['16.22']\n"
     ]
    },
    {
     "name": "stderr",
     "output_type": "stream",
     "text": [
      " 28%|█████████▏                       | 2799/10000 [3:48:49<10:23:32,  5.20s/it]"
     ]
    },
    {
     "name": "stdout",
     "output_type": "stream",
     "text": [
      "Episode 2800/10000\n",
      "Fitnesses: ['15.33']\n",
      "100 fitness avgs: ['16.21']\n"
     ]
    },
    {
     "name": "stderr",
     "output_type": "stream",
     "text": [
      " 28%|█████████▋                        | 2849/10000 [3:52:55<9:22:11,  4.72s/it]"
     ]
    },
    {
     "name": "stdout",
     "output_type": "stream",
     "text": [
      "Episode 2850/10000\n",
      "Fitnesses: ['13.67']\n",
      "100 fitness avgs: ['16.16']\n"
     ]
    },
    {
     "name": "stderr",
     "output_type": "stream",
     "text": [
      " 29%|█████████▌                       | 2899/10000 [3:56:48<10:39:51,  5.41s/it]"
     ]
    },
    {
     "name": "stdout",
     "output_type": "stream",
     "text": [
      "Episode 2900/10000\n",
      "Fitnesses: ['18.00']\n",
      "100 fitness avgs: ['16.20']\n"
     ]
    },
    {
     "name": "stderr",
     "output_type": "stream",
     "text": [
      " 29%|██████████                        | 2949/10000 [4:00:50<8:45:03,  4.47s/it]"
     ]
    },
    {
     "name": "stdout",
     "output_type": "stream",
     "text": [
      "Episode 2950/10000\n",
      "Fitnesses: ['13.00']\n",
      "100 fitness avgs: ['16.14']\n"
     ]
    },
    {
     "name": "stderr",
     "output_type": "stream",
     "text": [
      " 30%|██████████▏                       | 2999/10000 [4:05:04<8:20:10,  4.29s/it]"
     ]
    },
    {
     "name": "stdout",
     "output_type": "stream",
     "text": [
      "Episode 3000/10000\n",
      "Fitnesses: ['14.33']\n",
      "100 fitness avgs: ['16.11']\n",
      "Save Model at ep  3000\n"
     ]
    },
    {
     "name": "stderr",
     "output_type": "stream",
     "text": [
      " 30%|██████████▎                       | 3049/10000 [4:09:05<8:38:22,  4.47s/it]"
     ]
    },
    {
     "name": "stdout",
     "output_type": "stream",
     "text": [
      "Episode 3050/10000\n",
      "Fitnesses: ['17.00']\n",
      "100 fitness avgs: ['16.13']\n"
     ]
    },
    {
     "name": "stderr",
     "output_type": "stream",
     "text": [
      " 31%|██████████▌                       | 3099/10000 [4:12:56<8:41:49,  4.54s/it]"
     ]
    },
    {
     "name": "stdout",
     "output_type": "stream",
     "text": [
      "Episode 3100/10000\n",
      "Fitnesses: ['18.33']\n",
      "100 fitness avgs: ['16.16']\n"
     ]
    },
    {
     "name": "stderr",
     "output_type": "stream",
     "text": [
      " 31%|██████████▋                       | 3149/10000 [4:16:50<7:33:51,  3.97s/it]"
     ]
    },
    {
     "name": "stdout",
     "output_type": "stream",
     "text": [
      "Episode 3150/10000\n",
      "Fitnesses: ['17.67']\n",
      "100 fitness avgs: ['16.19']\n"
     ]
    },
    {
     "name": "stderr",
     "output_type": "stream",
     "text": [
      " 32%|██████████▉                       | 3199/10000 [4:21:03<9:45:13,  5.16s/it]"
     ]
    },
    {
     "name": "stdout",
     "output_type": "stream",
     "text": [
      "Episode 3200/10000\n",
      "Fitnesses: ['12.67']\n",
      "100 fitness avgs: ['16.13']\n"
     ]
    },
    {
     "name": "stderr",
     "output_type": "stream",
     "text": [
      " 32%|███████████                       | 3249/10000 [4:25:05<7:44:21,  4.13s/it]"
     ]
    },
    {
     "name": "stdout",
     "output_type": "stream",
     "text": [
      "Episode 3250/10000\n",
      "Fitnesses: ['14.00']\n",
      "100 fitness avgs: ['16.10']\n"
     ]
    },
    {
     "name": "stderr",
     "output_type": "stream",
     "text": [
      " 33%|███████████▏                      | 3299/10000 [4:29:19<9:28:36,  5.09s/it]"
     ]
    },
    {
     "name": "stdout",
     "output_type": "stream",
     "text": [
      "Episode 3300/10000\n",
      "Fitnesses: ['19.00']\n",
      "100 fitness avgs: ['16.14']\n"
     ]
    },
    {
     "name": "stderr",
     "output_type": "stream",
     "text": [
      " 33%|███████████                      | 3349/10000 [4:33:28<10:20:36,  5.60s/it]"
     ]
    },
    {
     "name": "stdout",
     "output_type": "stream",
     "text": [
      "Episode 3350/10000\n",
      "Fitnesses: ['11.33']\n",
      "100 fitness avgs: ['16.07']\n"
     ]
    },
    {
     "name": "stderr",
     "output_type": "stream",
     "text": [
      " 34%|███████████▏                     | 3399/10000 [4:37:37<10:19:53,  5.63s/it]"
     ]
    },
    {
     "name": "stdout",
     "output_type": "stream",
     "text": [
      "Episode 3400/10000\n",
      "Fitnesses: ['13.67']\n",
      "100 fitness avgs: ['16.03']\n"
     ]
    },
    {
     "name": "stderr",
     "output_type": "stream",
     "text": [
      " 34%|███████████▋                      | 3449/10000 [4:42:00<9:03:48,  4.98s/it]"
     ]
    },
    {
     "name": "stdout",
     "output_type": "stream",
     "text": [
      "Episode 3450/10000\n",
      "Fitnesses: ['10.67']\n",
      "100 fitness avgs: ['15.96']\n"
     ]
    },
    {
     "name": "stderr",
     "output_type": "stream",
     "text": [
      " 35%|███████████▉                      | 3499/10000 [4:46:12<9:49:04,  5.44s/it]"
     ]
    },
    {
     "name": "stdout",
     "output_type": "stream",
     "text": [
      "Episode 3500/10000\n",
      "Fitnesses: ['19.33']\n",
      "100 fitness avgs: ['16.00']\n"
     ]
    },
    {
     "name": "stderr",
     "output_type": "stream",
     "text": [
      " 35%|████████████                      | 3549/10000 [4:50:30<9:22:20,  5.23s/it]"
     ]
    },
    {
     "name": "stdout",
     "output_type": "stream",
     "text": [
      "Episode 3550/10000\n",
      "Fitnesses: ['17.33']\n",
      "100 fitness avgs: ['16.02']\n"
     ]
    },
    {
     "name": "stderr",
     "output_type": "stream",
     "text": [
      " 36%|████████████▏                     | 3599/10000 [4:54:43<8:57:32,  5.04s/it]"
     ]
    },
    {
     "name": "stdout",
     "output_type": "stream",
     "text": [
      "Episode 3600/10000\n",
      "Fitnesses: ['17.00']\n",
      "100 fitness avgs: ['16.04']\n"
     ]
    },
    {
     "name": "stderr",
     "output_type": "stream",
     "text": [
      " 36%|████████████▍                     | 3649/10000 [4:58:54<8:55:13,  5.06s/it]"
     ]
    },
    {
     "name": "stdout",
     "output_type": "stream",
     "text": [
      "Episode 3650/10000\n",
      "Fitnesses: ['18.00']\n",
      "100 fitness avgs: ['16.06']\n"
     ]
    },
    {
     "name": "stderr",
     "output_type": "stream",
     "text": [
      " 37%|████████████▌                     | 3699/10000 [5:03:00<9:30:30,  5.43s/it]"
     ]
    },
    {
     "name": "stdout",
     "output_type": "stream",
     "text": [
      "Episode 3700/10000\n",
      "Fitnesses: ['12.33']\n",
      "100 fitness avgs: ['16.01']\n"
     ]
    },
    {
     "name": "stderr",
     "output_type": "stream",
     "text": [
      " 37%|████████████▋                     | 3749/10000 [5:07:06<8:14:36,  4.75s/it]"
     ]
    },
    {
     "name": "stdout",
     "output_type": "stream",
     "text": [
      "Episode 3750/10000\n",
      "Fitnesses: ['13.00']\n",
      "100 fitness avgs: ['15.97']\n"
     ]
    },
    {
     "name": "stderr",
     "output_type": "stream",
     "text": [
      " 38%|████████████▉                     | 3799/10000 [5:11:15<9:31:53,  5.53s/it]"
     ]
    },
    {
     "name": "stdout",
     "output_type": "stream",
     "text": [
      "Episode 3800/10000\n",
      "Fitnesses: ['19.33']\n",
      "100 fitness avgs: ['16.02']\n"
     ]
    },
    {
     "name": "stderr",
     "output_type": "stream",
     "text": [
      " 38%|█████████████                     | 3849/10000 [5:15:38<9:00:22,  5.27s/it]"
     ]
    },
    {
     "name": "stdout",
     "output_type": "stream",
     "text": [
      "Episode 3850/10000\n",
      "Fitnesses: ['12.00']\n",
      "100 fitness avgs: ['15.97']\n"
     ]
    },
    {
     "name": "stderr",
     "output_type": "stream",
     "text": [
      " 39%|█████████████▎                    | 3899/10000 [5:19:53<7:53:19,  4.65s/it]"
     ]
    },
    {
     "name": "stdout",
     "output_type": "stream",
     "text": [
      "Episode 3900/10000\n",
      "Fitnesses: ['17.67']\n",
      "100 fitness avgs: ['15.99']\n"
     ]
    },
    {
     "name": "stderr",
     "output_type": "stream",
     "text": [
      " 39%|█████████████▍                    | 3949/10000 [5:24:09<8:02:40,  4.79s/it]"
     ]
    },
    {
     "name": "stdout",
     "output_type": "stream",
     "text": [
      "Episode 3950/10000\n",
      "Fitnesses: ['16.33']\n",
      "100 fitness avgs: ['15.99']\n"
     ]
    },
    {
     "name": "stderr",
     "output_type": "stream",
     "text": [
      " 40%|█████████████▌                    | 3999/10000 [5:28:22<7:59:07,  4.79s/it]"
     ]
    },
    {
     "name": "stdout",
     "output_type": "stream",
     "text": [
      "Episode 4000/10000\n",
      "Fitnesses: ['17.33']\n",
      "100 fitness avgs: ['16.01']\n",
      "Save Model at ep  4000\n"
     ]
    },
    {
     "name": "stderr",
     "output_type": "stream",
     "text": [
      " 40%|█████████████▊                    | 4049/10000 [5:32:34<8:37:46,  5.22s/it]"
     ]
    },
    {
     "name": "stdout",
     "output_type": "stream",
     "text": [
      "Episode 4050/10000\n",
      "Fitnesses: ['10.33']\n",
      "100 fitness avgs: ['15.94']\n"
     ]
    },
    {
     "name": "stderr",
     "output_type": "stream",
     "text": [
      " 41%|█████████████▉                    | 4099/10000 [5:36:36<8:26:57,  5.15s/it]"
     ]
    },
    {
     "name": "stdout",
     "output_type": "stream",
     "text": [
      "Episode 4100/10000\n",
      "Fitnesses: ['14.33']\n",
      "100 fitness avgs: ['15.92']\n"
     ]
    },
    {
     "name": "stderr",
     "output_type": "stream",
     "text": [
      " 41%|██████████████                    | 4149/10000 [5:40:48<7:00:01,  4.31s/it]"
     ]
    },
    {
     "name": "stdout",
     "output_type": "stream",
     "text": [
      "Episode 4150/10000\n",
      "Fitnesses: ['14.33']\n",
      "100 fitness avgs: ['15.90']\n"
     ]
    },
    {
     "name": "stderr",
     "output_type": "stream",
     "text": [
      " 42%|██████████████▎                   | 4199/10000 [5:45:16<8:57:44,  5.56s/it]"
     ]
    },
    {
     "name": "stdout",
     "output_type": "stream",
     "text": [
      "Episode 4200/10000\n",
      "Fitnesses: ['12.33']\n",
      "100 fitness avgs: ['15.86']\n"
     ]
    },
    {
     "name": "stderr",
     "output_type": "stream",
     "text": [
      " 42%|██████████████▍                   | 4249/10000 [5:49:27<8:05:49,  5.07s/it]"
     ]
    },
    {
     "name": "stdout",
     "output_type": "stream",
     "text": [
      "Episode 4250/10000\n",
      "Fitnesses: ['15.67']\n",
      "100 fitness avgs: ['15.85']\n"
     ]
    },
    {
     "name": "stderr",
     "output_type": "stream",
     "text": [
      " 43%|██████████████▌                   | 4299/10000 [5:53:25<6:52:25,  4.34s/it]"
     ]
    },
    {
     "name": "stdout",
     "output_type": "stream",
     "text": [
      "Episode 4300/10000\n",
      "Fitnesses: ['22.33']\n",
      "100 fitness avgs: ['15.93']\n"
     ]
    },
    {
     "name": "stderr",
     "output_type": "stream",
     "text": [
      " 43%|██████████████▊                   | 4349/10000 [5:57:32<8:12:45,  5.23s/it]"
     ]
    },
    {
     "name": "stdout",
     "output_type": "stream",
     "text": [
      "Episode 4350/10000\n",
      "Fitnesses: ['16.00']\n",
      "100 fitness avgs: ['15.93']\n"
     ]
    },
    {
     "name": "stderr",
     "output_type": "stream",
     "text": [
      " 44%|██████████████▉                   | 4399/10000 [6:01:51<7:51:51,  5.05s/it]"
     ]
    },
    {
     "name": "stdout",
     "output_type": "stream",
     "text": [
      "Episode 4400/10000\n",
      "Fitnesses: ['20.67']\n",
      "100 fitness avgs: ['15.98']\n"
     ]
    },
    {
     "name": "stderr",
     "output_type": "stream",
     "text": [
      " 44%|███████████████▏                  | 4449/10000 [6:06:03<8:32:58,  5.54s/it]"
     ]
    },
    {
     "name": "stdout",
     "output_type": "stream",
     "text": [
      "Episode 4450/10000\n",
      "Fitnesses: ['11.67']\n",
      "100 fitness avgs: ['15.94']\n"
     ]
    },
    {
     "name": "stderr",
     "output_type": "stream",
     "text": [
      " 45%|███████████████▎                  | 4499/10000 [6:10:12<7:45:19,  5.08s/it]"
     ]
    },
    {
     "name": "stdout",
     "output_type": "stream",
     "text": [
      "Episode 4500/10000\n",
      "Fitnesses: ['12.67']\n",
      "100 fitness avgs: ['15.90']\n"
     ]
    },
    {
     "name": "stderr",
     "output_type": "stream",
     "text": [
      " 45%|███████████████▍                  | 4549/10000 [6:14:20<8:25:52,  5.57s/it]"
     ]
    },
    {
     "name": "stdout",
     "output_type": "stream",
     "text": [
      "Episode 4550/10000\n",
      "Fitnesses: ['15.67']\n",
      "100 fitness avgs: ['15.90']\n"
     ]
    },
    {
     "name": "stderr",
     "output_type": "stream",
     "text": [
      " 46%|███████████████▋                  | 4599/10000 [6:18:29<5:50:51,  3.90s/it]"
     ]
    },
    {
     "name": "stdout",
     "output_type": "stream",
     "text": [
      "Episode 4600/10000\n",
      "Fitnesses: ['12.67']\n",
      "100 fitness avgs: ['15.86']\n"
     ]
    },
    {
     "name": "stderr",
     "output_type": "stream",
     "text": [
      " 46%|███████████████▊                  | 4649/10000 [6:22:48<8:20:59,  5.62s/it]"
     ]
    },
    {
     "name": "stdout",
     "output_type": "stream",
     "text": [
      "Episode 4650/10000\n",
      "Fitnesses: ['19.00']\n",
      "100 fitness avgs: ['15.90']\n"
     ]
    },
    {
     "name": "stderr",
     "output_type": "stream",
     "text": [
      " 47%|███████████████▉                  | 4699/10000 [6:27:10<8:10:21,  5.55s/it]"
     ]
    },
    {
     "name": "stdout",
     "output_type": "stream",
     "text": [
      "Episode 4700/10000\n",
      "Fitnesses: ['16.67']\n",
      "100 fitness avgs: ['15.90']\n"
     ]
    },
    {
     "name": "stderr",
     "output_type": "stream",
     "text": [
      " 47%|████████████████▏                 | 4749/10000 [6:31:01<6:39:30,  4.56s/it]"
     ]
    },
    {
     "name": "stdout",
     "output_type": "stream",
     "text": [
      "Episode 4750/10000\n",
      "Fitnesses: ['17.00']\n",
      "100 fitness avgs: ['15.92']\n"
     ]
    },
    {
     "name": "stderr",
     "output_type": "stream",
     "text": [
      " 48%|████████████████▎                 | 4799/10000 [6:35:21<7:28:25,  5.17s/it]"
     ]
    },
    {
     "name": "stdout",
     "output_type": "stream",
     "text": [
      "Episode 4800/10000\n",
      "Fitnesses: ['19.33']\n",
      "100 fitness avgs: ['15.95']\n"
     ]
    },
    {
     "name": "stderr",
     "output_type": "stream",
     "text": [
      " 48%|████████████████▍                 | 4849/10000 [6:39:25<6:54:39,  4.83s/it]"
     ]
    },
    {
     "name": "stdout",
     "output_type": "stream",
     "text": [
      "Episode 4850/10000\n",
      "Fitnesses: ['15.67']\n",
      "100 fitness avgs: ['15.95']\n"
     ]
    },
    {
     "name": "stderr",
     "output_type": "stream",
     "text": [
      " 49%|████████████████▋                 | 4899/10000 [6:43:33<6:46:20,  4.78s/it]"
     ]
    },
    {
     "name": "stdout",
     "output_type": "stream",
     "text": [
      "Episode 4900/10000\n",
      "Fitnesses: ['18.00']\n",
      "100 fitness avgs: ['15.97']\n"
     ]
    },
    {
     "name": "stderr",
     "output_type": "stream",
     "text": [
      " 49%|████████████████▊                 | 4949/10000 [6:47:36<6:47:37,  4.84s/it]"
     ]
    },
    {
     "name": "stdout",
     "output_type": "stream",
     "text": [
      "Episode 4950/10000\n",
      "Fitnesses: ['13.00']\n",
      "100 fitness avgs: ['15.94']\n"
     ]
    },
    {
     "name": "stderr",
     "output_type": "stream",
     "text": [
      " 50%|████████████████▉                 | 4999/10000 [6:51:43<6:56:48,  5.00s/it]"
     ]
    },
    {
     "name": "stdout",
     "output_type": "stream",
     "text": [
      "Episode 5000/10000\n",
      "Fitnesses: ['21.33']\n",
      "100 fitness avgs: ['15.99']\n",
      "Save Model at ep  5000\n"
     ]
    },
    {
     "name": "stderr",
     "output_type": "stream",
     "text": [
      " 50%|█████████████████▏                | 5049/10000 [6:55:50<7:00:35,  5.10s/it]"
     ]
    },
    {
     "name": "stdout",
     "output_type": "stream",
     "text": [
      "Episode 5050/10000\n",
      "Fitnesses: ['13.33']\n",
      "100 fitness avgs: ['15.93']\n"
     ]
    },
    {
     "name": "stderr",
     "output_type": "stream",
     "text": [
      " 51%|█████████████████▎                | 5099/10000 [6:59:55<6:22:41,  4.69s/it]"
     ]
    },
    {
     "name": "stdout",
     "output_type": "stream",
     "text": [
      "Episode 5100/10000\n",
      "Fitnesses: ['16.00']\n",
      "100 fitness avgs: ['15.93']\n"
     ]
    },
    {
     "name": "stderr",
     "output_type": "stream",
     "text": [
      " 51%|█████████████████▌                | 5149/10000 [7:04:16<6:49:41,  5.07s/it]"
     ]
    },
    {
     "name": "stdout",
     "output_type": "stream",
     "text": [
      "Episode 5150/10000\n",
      "Fitnesses: ['14.00']\n",
      "100 fitness avgs: ['15.92']\n"
     ]
    },
    {
     "name": "stderr",
     "output_type": "stream",
     "text": [
      " 52%|█████████████████▋                | 5199/10000 [7:08:36<7:27:13,  5.59s/it]"
     ]
    },
    {
     "name": "stdout",
     "output_type": "stream",
     "text": [
      "Episode 5200/10000\n",
      "Fitnesses: ['20.33']\n",
      "100 fitness avgs: ['16.03']\n"
     ]
    },
    {
     "name": "stderr",
     "output_type": "stream",
     "text": [
      " 52%|█████████████████▊                | 5249/10000 [7:12:50<7:14:49,  5.49s/it]"
     ]
    },
    {
     "name": "stdout",
     "output_type": "stream",
     "text": [
      "Episode 5250/10000\n",
      "Fitnesses: ['17.00']\n",
      "100 fitness avgs: ['16.10']\n"
     ]
    },
    {
     "name": "stderr",
     "output_type": "stream",
     "text": [
      " 53%|██████████████████                | 5299/10000 [7:16:55<6:38:23,  5.08s/it]"
     ]
    },
    {
     "name": "stdout",
     "output_type": "stream",
     "text": [
      "Episode 5300/10000\n",
      "Fitnesses: ['20.33']\n",
      "100 fitness avgs: ['16.11']\n"
     ]
    },
    {
     "name": "stderr",
     "output_type": "stream",
     "text": [
      " 53%|██████████████████▏               | 5349/10000 [7:21:04<6:04:53,  4.71s/it]"
     ]
    },
    {
     "name": "stdout",
     "output_type": "stream",
     "text": [
      "Episode 5350/10000\n",
      "Fitnesses: ['16.00']\n",
      "100 fitness avgs: ['16.12']\n"
     ]
    },
    {
     "name": "stderr",
     "output_type": "stream",
     "text": [
      " 54%|██████████████████▎               | 5399/10000 [7:25:27<6:47:35,  5.32s/it]"
     ]
    },
    {
     "name": "stdout",
     "output_type": "stream",
     "text": [
      "Episode 5400/10000\n",
      "Fitnesses: ['14.67']\n",
      "100 fitness avgs: ['16.07']\n"
     ]
    },
    {
     "name": "stderr",
     "output_type": "stream",
     "text": [
      " 54%|██████████████████▌               | 5449/10000 [7:29:40<6:52:47,  5.44s/it]"
     ]
    },
    {
     "name": "stdout",
     "output_type": "stream",
     "text": [
      "Episode 5450/10000\n",
      "Fitnesses: ['16.33']\n",
      "100 fitness avgs: ['16.11']\n"
     ]
    },
    {
     "name": "stderr",
     "output_type": "stream",
     "text": [
      " 55%|██████████████████▋               | 5499/10000 [7:33:58<6:05:14,  4.87s/it]"
     ]
    },
    {
     "name": "stdout",
     "output_type": "stream",
     "text": [
      "Episode 5500/10000\n",
      "Fitnesses: ['18.33']\n",
      "100 fitness avgs: ['16.10']\n"
     ]
    },
    {
     "name": "stderr",
     "output_type": "stream",
     "text": [
      " 55%|██████████████████▊               | 5549/10000 [7:38:03<5:37:33,  4.55s/it]"
     ]
    },
    {
     "name": "stdout",
     "output_type": "stream",
     "text": [
      "Episode 5550/10000\n",
      "Fitnesses: ['17.00']\n",
      "100 fitness avgs: ['16.15']\n"
     ]
    },
    {
     "name": "stderr",
     "output_type": "stream",
     "text": [
      " 56%|███████████████████               | 5599/10000 [7:42:17<5:51:36,  4.79s/it]"
     ]
    },
    {
     "name": "stdout",
     "output_type": "stream",
     "text": [
      "Episode 5600/10000\n",
      "Fitnesses: ['12.33']\n",
      "100 fitness avgs: ['16.11']\n"
     ]
    },
    {
     "name": "stderr",
     "output_type": "stream",
     "text": [
      " 56%|███████████████████▏              | 5649/10000 [7:46:38<5:33:55,  4.60s/it]"
     ]
    },
    {
     "name": "stdout",
     "output_type": "stream",
     "text": [
      "Episode 5650/10000\n",
      "Fitnesses: ['13.67']\n",
      "100 fitness avgs: ['16.07']\n"
     ]
    },
    {
     "name": "stderr",
     "output_type": "stream",
     "text": [
      " 57%|███████████████████▍              | 5699/10000 [7:51:01<6:48:52,  5.70s/it]"
     ]
    },
    {
     "name": "stdout",
     "output_type": "stream",
     "text": [
      "Episode 5700/10000\n",
      "Fitnesses: ['11.00']\n",
      "100 fitness avgs: ['16.05']\n"
     ]
    },
    {
     "name": "stderr",
     "output_type": "stream",
     "text": [
      " 57%|███████████████████▌              | 5749/10000 [7:55:05<6:06:23,  5.17s/it]"
     ]
    },
    {
     "name": "stdout",
     "output_type": "stream",
     "text": [
      "Episode 5750/10000\n",
      "Fitnesses: ['13.00']\n",
      "100 fitness avgs: ['16.01']\n"
     ]
    },
    {
     "name": "stderr",
     "output_type": "stream",
     "text": [
      " 58%|███████████████████▋              | 5799/10000 [7:59:27<7:00:21,  6.00s/it]"
     ]
    },
    {
     "name": "stdout",
     "output_type": "stream",
     "text": [
      "Episode 5800/10000\n",
      "Fitnesses: ['15.33']\n",
      "100 fitness avgs: ['15.94']\n"
     ]
    },
    {
     "name": "stderr",
     "output_type": "stream",
     "text": [
      " 58%|███████████████████▉              | 5849/10000 [8:03:37<6:22:48,  5.53s/it]"
     ]
    },
    {
     "name": "stdout",
     "output_type": "stream",
     "text": [
      "Episode 5850/10000\n",
      "Fitnesses: ['14.33']\n",
      "100 fitness avgs: ['15.92']\n"
     ]
    },
    {
     "name": "stderr",
     "output_type": "stream",
     "text": [
      " 59%|████████████████████              | 5899/10000 [8:07:36<6:05:45,  5.35s/it]"
     ]
    },
    {
     "name": "stdout",
     "output_type": "stream",
     "text": [
      "Episode 5900/10000\n",
      "Fitnesses: ['10.67']\n",
      "100 fitness avgs: ['15.79']\n"
     ]
    },
    {
     "name": "stderr",
     "output_type": "stream",
     "text": [
      " 59%|████████████████████▏             | 5949/10000 [8:11:40<5:19:39,  4.73s/it]"
     ]
    },
    {
     "name": "stdout",
     "output_type": "stream",
     "text": [
      "Episode 5950/10000\n",
      "Fitnesses: ['13.67']\n",
      "100 fitness avgs: ['15.82']\n"
     ]
    },
    {
     "name": "stderr",
     "output_type": "stream",
     "text": [
      " 60%|████████████████████▍             | 5999/10000 [8:15:44<6:23:49,  5.76s/it]"
     ]
    },
    {
     "name": "stdout",
     "output_type": "stream",
     "text": [
      "Episode 6000/10000\n",
      "Fitnesses: ['13.00']\n",
      "100 fitness avgs: ['15.83']\n",
      "Save Model at ep  6000\n"
     ]
    },
    {
     "name": "stderr",
     "output_type": "stream",
     "text": [
      " 60%|████████████████████▌             | 6049/10000 [8:20:02<5:58:53,  5.45s/it]"
     ]
    },
    {
     "name": "stdout",
     "output_type": "stream",
     "text": [
      "Episode 6050/10000\n",
      "Fitnesses: ['8.00']\n",
      "100 fitness avgs: ['15.75']\n"
     ]
    },
    {
     "name": "stderr",
     "output_type": "stream",
     "text": [
      " 61%|████████████████████▋             | 6099/10000 [8:24:13<5:48:04,  5.35s/it]"
     ]
    },
    {
     "name": "stdout",
     "output_type": "stream",
     "text": [
      "Episode 6100/10000\n",
      "Fitnesses: ['13.00']\n",
      "100 fitness avgs: ['15.71']\n"
     ]
    },
    {
     "name": "stderr",
     "output_type": "stream",
     "text": [
      " 61%|████████████████████▉             | 6149/10000 [8:28:21<4:49:49,  4.52s/it]"
     ]
    },
    {
     "name": "stdout",
     "output_type": "stream",
     "text": [
      "Episode 6150/10000\n",
      "Fitnesses: ['14.67']\n",
      "100 fitness avgs: ['15.74']\n"
     ]
    },
    {
     "name": "stderr",
     "output_type": "stream",
     "text": [
      " 62%|█████████████████████             | 6199/10000 [8:32:37<6:03:22,  5.74s/it]"
     ]
    },
    {
     "name": "stdout",
     "output_type": "stream",
     "text": [
      "Episode 6200/10000\n",
      "Fitnesses: ['17.00']\n",
      "100 fitness avgs: ['15.69']\n"
     ]
    },
    {
     "name": "stderr",
     "output_type": "stream",
     "text": [
      " 62%|█████████████████████▏            | 6249/10000 [8:36:38<4:34:57,  4.40s/it]"
     ]
    },
    {
     "name": "stdout",
     "output_type": "stream",
     "text": [
      "Episode 6250/10000\n",
      "Fitnesses: ['21.33']\n",
      "100 fitness avgs: ['15.74']\n"
     ]
    },
    {
     "name": "stderr",
     "output_type": "stream",
     "text": [
      " 63%|█████████████████████▍            | 6299/10000 [8:40:53<4:55:33,  4.79s/it]"
     ]
    },
    {
     "name": "stdout",
     "output_type": "stream",
     "text": [
      "Episode 6300/10000\n",
      "Fitnesses: ['14.67']\n",
      "100 fitness avgs: ['15.78']\n"
     ]
    },
    {
     "name": "stderr",
     "output_type": "stream",
     "text": [
      " 63%|█████████████████████▌            | 6349/10000 [8:44:58<5:04:09,  5.00s/it]"
     ]
    },
    {
     "name": "stdout",
     "output_type": "stream",
     "text": [
      "Episode 6350/10000\n",
      "Fitnesses: ['15.67']\n",
      "100 fitness avgs: ['15.76']\n"
     ]
    },
    {
     "name": "stderr",
     "output_type": "stream",
     "text": [
      " 64%|█████████████████████▊            | 6399/10000 [8:49:14<4:53:32,  4.89s/it]"
     ]
    },
    {
     "name": "stdout",
     "output_type": "stream",
     "text": [
      "Episode 6400/10000\n",
      "Fitnesses: ['18.33']\n",
      "100 fitness avgs: ['15.80']\n"
     ]
    },
    {
     "name": "stderr",
     "output_type": "stream",
     "text": [
      " 64%|█████████████████████▉            | 6449/10000 [8:53:29<5:10:36,  5.25s/it]"
     ]
    },
    {
     "name": "stdout",
     "output_type": "stream",
     "text": [
      "Episode 6450/10000\n",
      "Fitnesses: ['14.00']\n",
      "100 fitness avgs: ['15.77']\n"
     ]
    },
    {
     "name": "stderr",
     "output_type": "stream",
     "text": [
      " 65%|██████████████████████            | 6499/10000 [8:57:45<5:07:40,  5.27s/it]"
     ]
    },
    {
     "name": "stdout",
     "output_type": "stream",
     "text": [
      "Episode 6500/10000\n",
      "Fitnesses: ['16.67']\n",
      "100 fitness avgs: ['15.75']\n"
     ]
    },
    {
     "name": "stderr",
     "output_type": "stream",
     "text": [
      " 65%|██████████████████████▎           | 6549/10000 [9:02:06<4:31:44,  4.72s/it]"
     ]
    },
    {
     "name": "stdout",
     "output_type": "stream",
     "text": [
      "Episode 6550/10000\n",
      "Fitnesses: ['21.33']\n",
      "100 fitness avgs: ['15.78']\n"
     ]
    },
    {
     "name": "stderr",
     "output_type": "stream",
     "text": [
      " 66%|██████████████████████▍           | 6599/10000 [9:06:23<4:33:13,  4.82s/it]"
     ]
    },
    {
     "name": "stdout",
     "output_type": "stream",
     "text": [
      "Episode 6600/10000\n",
      "Fitnesses: ['12.00']\n",
      "100 fitness avgs: ['15.75']\n"
     ]
    },
    {
     "name": "stderr",
     "output_type": "stream",
     "text": [
      " 66%|██████████████████████▌           | 6649/10000 [9:10:38<4:11:58,  4.51s/it]"
     ]
    },
    {
     "name": "stdout",
     "output_type": "stream",
     "text": [
      "Episode 6650/10000\n",
      "Fitnesses: ['17.00']\n",
      "100 fitness avgs: ['15.75']\n"
     ]
    },
    {
     "name": "stderr",
     "output_type": "stream",
     "text": [
      " 67%|██████████████████████▊           | 6699/10000 [9:14:44<4:47:11,  5.22s/it]"
     ]
    },
    {
     "name": "stdout",
     "output_type": "stream",
     "text": [
      "Episode 6700/10000\n",
      "Fitnesses: ['17.33']\n",
      "100 fitness avgs: ['15.79']\n"
     ]
    },
    {
     "name": "stderr",
     "output_type": "stream",
     "text": [
      " 67%|██████████████████████▉           | 6749/10000 [9:18:55<4:52:30,  5.40s/it]"
     ]
    },
    {
     "name": "stdout",
     "output_type": "stream",
     "text": [
      "Episode 6750/10000\n",
      "Fitnesses: ['14.00']\n",
      "100 fitness avgs: ['15.80']\n"
     ]
    },
    {
     "name": "stderr",
     "output_type": "stream",
     "text": [
      " 68%|███████████████████████           | 6799/10000 [9:22:46<4:31:33,  5.09s/it]"
     ]
    },
    {
     "name": "stdout",
     "output_type": "stream",
     "text": [
      "Episode 6800/10000\n",
      "Fitnesses: ['18.00']\n",
      "100 fitness avgs: ['15.81']\n"
     ]
    },
    {
     "name": "stderr",
     "output_type": "stream",
     "text": [
      " 68%|███████████████████████▎          | 6849/10000 [9:26:51<4:56:32,  5.65s/it]"
     ]
    },
    {
     "name": "stdout",
     "output_type": "stream",
     "text": [
      "Episode 6850/10000\n",
      "Fitnesses: ['19.33']\n",
      "100 fitness avgs: ['15.79']\n"
     ]
    },
    {
     "name": "stderr",
     "output_type": "stream",
     "text": [
      " 69%|███████████████████████▍          | 6899/10000 [9:30:54<4:01:58,  4.68s/it]"
     ]
    },
    {
     "name": "stdout",
     "output_type": "stream",
     "text": [
      "Episode 6900/10000\n",
      "Fitnesses: ['16.33']\n",
      "100 fitness avgs: ['15.75']\n"
     ]
    },
    {
     "name": "stderr",
     "output_type": "stream",
     "text": [
      " 69%|███████████████████████▋          | 6949/10000 [9:35:07<3:43:28,  4.39s/it]"
     ]
    },
    {
     "name": "stdout",
     "output_type": "stream",
     "text": [
      "Episode 6950/10000\n",
      "Fitnesses: ['13.67']\n",
      "100 fitness avgs: ['15.76']\n"
     ]
    },
    {
     "name": "stderr",
     "output_type": "stream",
     "text": [
      " 70%|███████████████████████▊          | 6999/10000 [9:39:30<3:49:25,  4.59s/it]"
     ]
    },
    {
     "name": "stdout",
     "output_type": "stream",
     "text": [
      "Episode 7000/10000\n",
      "Fitnesses: ['18.00']\n",
      "100 fitness avgs: ['15.75']\n",
      "Save Model at ep  7000\n"
     ]
    },
    {
     "name": "stderr",
     "output_type": "stream",
     "text": [
      " 70%|███████████████████████▉          | 7049/10000 [9:43:48<4:38:43,  5.67s/it]"
     ]
    },
    {
     "name": "stdout",
     "output_type": "stream",
     "text": [
      "Episode 7050/10000\n",
      "Fitnesses: ['13.67']\n",
      "100 fitness avgs: ['15.69']\n"
     ]
    },
    {
     "name": "stderr",
     "output_type": "stream",
     "text": [
      " 71%|████████████████████████▏         | 7099/10000 [9:48:04<3:56:56,  4.90s/it]"
     ]
    },
    {
     "name": "stdout",
     "output_type": "stream",
     "text": [
      "Episode 7100/10000\n",
      "Fitnesses: ['14.00']\n",
      "100 fitness avgs: ['15.66']\n"
     ]
    },
    {
     "name": "stderr",
     "output_type": "stream",
     "text": [
      " 71%|████████████████████████▎         | 7149/10000 [9:52:11<3:37:52,  4.59s/it]"
     ]
    },
    {
     "name": "stdout",
     "output_type": "stream",
     "text": [
      "Episode 7150/10000\n",
      "Fitnesses: ['16.67']\n",
      "100 fitness avgs: ['15.66']\n"
     ]
    },
    {
     "name": "stderr",
     "output_type": "stream",
     "text": [
      " 72%|████████████████████████▍         | 7199/10000 [9:56:17<3:50:10,  4.93s/it]"
     ]
    },
    {
     "name": "stdout",
     "output_type": "stream",
     "text": [
      "Episode 7200/10000\n",
      "Fitnesses: ['14.67']\n",
      "100 fitness avgs: ['15.66']\n"
     ]
    },
    {
     "name": "stderr",
     "output_type": "stream",
     "text": [
      " 72%|███████████████████████▉         | 7249/10000 [10:00:23<3:54:58,  5.12s/it]"
     ]
    },
    {
     "name": "stdout",
     "output_type": "stream",
     "text": [
      "Episode 7250/10000\n",
      "Fitnesses: ['18.67']\n",
      "100 fitness avgs: ['15.67']\n"
     ]
    },
    {
     "name": "stderr",
     "output_type": "stream",
     "text": [
      " 73%|████████████████████████         | 7299/10000 [10:04:48<3:45:54,  5.02s/it]"
     ]
    },
    {
     "name": "stdout",
     "output_type": "stream",
     "text": [
      "Episode 7300/10000\n",
      "Fitnesses: ['13.67']\n",
      "100 fitness avgs: ['15.68']\n"
     ]
    },
    {
     "name": "stderr",
     "output_type": "stream",
     "text": [
      " 73%|████████████████████████▎        | 7349/10000 [10:08:55<3:57:23,  5.37s/it]"
     ]
    },
    {
     "name": "stdout",
     "output_type": "stream",
     "text": [
      "Episode 7350/10000\n",
      "Fitnesses: ['14.33']\n",
      "100 fitness avgs: ['15.69']\n"
     ]
    },
    {
     "name": "stderr",
     "output_type": "stream",
     "text": [
      " 74%|████████████████████████▍        | 7399/10000 [10:13:07<4:12:36,  5.83s/it]"
     ]
    },
    {
     "name": "stdout",
     "output_type": "stream",
     "text": [
      "Episode 7400/10000\n",
      "Fitnesses: ['13.33']\n",
      "100 fitness avgs: ['15.61']\n"
     ]
    },
    {
     "name": "stderr",
     "output_type": "stream",
     "text": [
      " 74%|████████████████████████▌        | 7449/10000 [10:17:21<3:36:46,  5.10s/it]"
     ]
    },
    {
     "name": "stdout",
     "output_type": "stream",
     "text": [
      "Episode 7450/10000\n",
      "Fitnesses: ['18.00']\n",
      "100 fitness avgs: ['15.58']\n"
     ]
    },
    {
     "name": "stderr",
     "output_type": "stream",
     "text": [
      " 75%|████████████████████████▋        | 7499/10000 [10:21:30<3:29:21,  5.02s/it]"
     ]
    },
    {
     "name": "stdout",
     "output_type": "stream",
     "text": [
      "Episode 7500/10000\n",
      "Fitnesses: ['14.00']\n",
      "100 fitness avgs: ['15.57']\n"
     ]
    },
    {
     "name": "stderr",
     "output_type": "stream",
     "text": [
      " 75%|████████████████████████▉        | 7549/10000 [10:25:46<2:58:58,  4.38s/it]"
     ]
    },
    {
     "name": "stdout",
     "output_type": "stream",
     "text": [
      "Episode 7550/10000\n",
      "Fitnesses: ['16.00']\n",
      "100 fitness avgs: ['15.56']\n"
     ]
    },
    {
     "name": "stderr",
     "output_type": "stream",
     "text": [
      " 76%|█████████████████████████        | 7599/10000 [10:29:50<3:31:13,  5.28s/it]"
     ]
    },
    {
     "name": "stdout",
     "output_type": "stream",
     "text": [
      "Episode 7600/10000\n",
      "Fitnesses: ['23.33']\n",
      "100 fitness avgs: ['15.69']\n"
     ]
    },
    {
     "name": "stderr",
     "output_type": "stream",
     "text": [
      " 76%|█████████████████████████▏       | 7649/10000 [10:33:56<3:31:01,  5.39s/it]"
     ]
    },
    {
     "name": "stdout",
     "output_type": "stream",
     "text": [
      "Episode 7650/10000\n",
      "Fitnesses: ['17.67']\n",
      "100 fitness avgs: ['15.69']\n"
     ]
    },
    {
     "name": "stderr",
     "output_type": "stream",
     "text": [
      " 77%|█████████████████████████▍       | 7699/10000 [10:38:04<3:16:50,  5.13s/it]"
     ]
    },
    {
     "name": "stdout",
     "output_type": "stream",
     "text": [
      "Episode 7700/10000\n",
      "Fitnesses: ['19.33']\n",
      "100 fitness avgs: ['15.73']\n"
     ]
    },
    {
     "name": "stderr",
     "output_type": "stream",
     "text": [
      " 77%|█████████████████████████▌       | 7749/10000 [10:42:19<3:33:52,  5.70s/it]"
     ]
    },
    {
     "name": "stdout",
     "output_type": "stream",
     "text": [
      "Episode 7750/10000\n",
      "Fitnesses: ['13.67']\n",
      "100 fitness avgs: ['15.69']\n"
     ]
    },
    {
     "name": "stderr",
     "output_type": "stream",
     "text": [
      " 78%|█████████████████████████▋       | 7799/10000 [10:46:47<3:08:01,  5.13s/it]"
     ]
    },
    {
     "name": "stdout",
     "output_type": "stream",
     "text": [
      "Episode 7800/10000\n",
      "Fitnesses: ['11.67']\n",
      "100 fitness avgs: ['15.65']\n"
     ]
    },
    {
     "name": "stderr",
     "output_type": "stream",
     "text": [
      " 78%|█████████████████████████▉       | 7849/10000 [10:50:47<2:56:10,  4.91s/it]"
     ]
    },
    {
     "name": "stdout",
     "output_type": "stream",
     "text": [
      "Episode 7850/10000\n",
      "Fitnesses: ['17.00']\n",
      "100 fitness avgs: ['15.68']\n"
     ]
    },
    {
     "name": "stderr",
     "output_type": "stream",
     "text": [
      " 79%|██████████████████████████       | 7899/10000 [10:55:00<2:22:35,  4.07s/it]"
     ]
    },
    {
     "name": "stdout",
     "output_type": "stream",
     "text": [
      "Episode 7900/10000\n",
      "Fitnesses: ['16.33']\n",
      "100 fitness avgs: ['15.67']\n"
     ]
    },
    {
     "name": "stderr",
     "output_type": "stream",
     "text": [
      " 79%|██████████████████████████▏      | 7949/10000 [10:59:16<2:30:28,  4.40s/it]"
     ]
    },
    {
     "name": "stdout",
     "output_type": "stream",
     "text": [
      "Episode 7950/10000\n",
      "Fitnesses: ['12.00']\n",
      "100 fitness avgs: ['15.66']\n"
     ]
    },
    {
     "name": "stderr",
     "output_type": "stream",
     "text": [
      " 80%|██████████████████████████▍      | 7999/10000 [11:03:15<2:35:10,  4.65s/it]"
     ]
    },
    {
     "name": "stdout",
     "output_type": "stream",
     "text": [
      "Episode 8000/10000\n",
      "Fitnesses: ['15.00']\n",
      "100 fitness avgs: ['15.66']\n",
      "Save Model at ep  8000\n"
     ]
    },
    {
     "name": "stderr",
     "output_type": "stream",
     "text": [
      " 80%|██████████████████████████▌      | 8049/10000 [11:07:28<2:44:04,  5.05s/it]"
     ]
    },
    {
     "name": "stdout",
     "output_type": "stream",
     "text": [
      "Episode 8050/10000\n",
      "Fitnesses: ['18.00']\n",
      "100 fitness avgs: ['15.67']\n"
     ]
    },
    {
     "name": "stderr",
     "output_type": "stream",
     "text": [
      " 81%|██████████████████████████▋      | 8099/10000 [11:11:49<2:29:30,  4.72s/it]"
     ]
    },
    {
     "name": "stdout",
     "output_type": "stream",
     "text": [
      "Episode 8100/10000\n",
      "Fitnesses: ['17.33']\n",
      "100 fitness avgs: ['15.66']\n"
     ]
    },
    {
     "name": "stderr",
     "output_type": "stream",
     "text": [
      " 81%|██████████████████████████▉      | 8149/10000 [11:15:58<2:29:50,  4.86s/it]"
     ]
    },
    {
     "name": "stdout",
     "output_type": "stream",
     "text": [
      "Episode 8150/10000\n",
      "Fitnesses: ['14.67']\n",
      "100 fitness avgs: ['15.63']\n"
     ]
    },
    {
     "name": "stderr",
     "output_type": "stream",
     "text": [
      " 82%|███████████████████████████      | 8199/10000 [11:20:17<2:50:34,  5.68s/it]"
     ]
    },
    {
     "name": "stdout",
     "output_type": "stream",
     "text": [
      "Episode 8200/10000\n",
      "Fitnesses: ['17.67']\n",
      "100 fitness avgs: ['15.68']\n"
     ]
    },
    {
     "name": "stderr",
     "output_type": "stream",
     "text": [
      " 82%|███████████████████████████▏     | 8249/10000 [11:24:22<2:13:49,  4.59s/it]"
     ]
    },
    {
     "name": "stdout",
     "output_type": "stream",
     "text": [
      "Episode 8250/10000\n",
      "Fitnesses: ['14.00']\n",
      "100 fitness avgs: ['15.68']\n"
     ]
    },
    {
     "name": "stderr",
     "output_type": "stream",
     "text": [
      " 83%|███████████████████████████▍     | 8299/10000 [11:28:35<2:39:15,  5.62s/it]"
     ]
    },
    {
     "name": "stdout",
     "output_type": "stream",
     "text": [
      "Episode 8300/10000\n",
      "Fitnesses: ['14.67']\n",
      "100 fitness avgs: ['15.64']\n"
     ]
    },
    {
     "name": "stderr",
     "output_type": "stream",
     "text": [
      " 83%|███████████████████████████▌     | 8349/10000 [11:32:33<2:33:22,  5.57s/it]"
     ]
    },
    {
     "name": "stdout",
     "output_type": "stream",
     "text": [
      "Episode 8350/10000\n",
      "Fitnesses: ['20.00']\n",
      "100 fitness avgs: ['15.73']\n"
     ]
    },
    {
     "name": "stderr",
     "output_type": "stream",
     "text": [
      " 84%|███████████████████████████▋     | 8399/10000 [11:36:41<2:09:09,  4.84s/it]"
     ]
    },
    {
     "name": "stdout",
     "output_type": "stream",
     "text": [
      "Episode 8400/10000\n",
      "Fitnesses: ['17.33']\n",
      "100 fitness avgs: ['15.76']\n"
     ]
    },
    {
     "name": "stderr",
     "output_type": "stream",
     "text": [
      " 84%|███████████████████████████▉     | 8449/10000 [11:40:53<2:04:11,  4.80s/it]"
     ]
    },
    {
     "name": "stdout",
     "output_type": "stream",
     "text": [
      "Episode 8450/10000\n",
      "Fitnesses: ['12.67']\n",
      "100 fitness avgs: ['15.78']\n"
     ]
    },
    {
     "name": "stderr",
     "output_type": "stream",
     "text": [
      " 85%|████████████████████████████     | 8499/10000 [11:45:05<1:52:05,  4.48s/it]"
     ]
    },
    {
     "name": "stdout",
     "output_type": "stream",
     "text": [
      "Episode 8500/10000\n",
      "Fitnesses: ['14.33']\n",
      "100 fitness avgs: ['15.73']\n"
     ]
    },
    {
     "name": "stderr",
     "output_type": "stream",
     "text": [
      " 85%|████████████████████████████▏    | 8549/10000 [11:48:54<1:32:24,  3.82s/it]"
     ]
    },
    {
     "name": "stdout",
     "output_type": "stream",
     "text": [
      "Episode 8550/10000\n",
      "Fitnesses: ['21.00']\n",
      "100 fitness avgs: ['15.77']\n"
     ]
    },
    {
     "name": "stderr",
     "output_type": "stream",
     "text": [
      " 86%|████████████████████████████▍    | 8599/10000 [11:53:06<1:53:57,  4.88s/it]"
     ]
    },
    {
     "name": "stdout",
     "output_type": "stream",
     "text": [
      "Episode 8600/10000\n",
      "Fitnesses: ['16.67']\n",
      "100 fitness avgs: ['15.77']\n"
     ]
    },
    {
     "name": "stderr",
     "output_type": "stream",
     "text": [
      " 86%|████████████████████████████▌    | 8649/10000 [11:57:29<1:38:27,  4.37s/it]"
     ]
    },
    {
     "name": "stdout",
     "output_type": "stream",
     "text": [
      "Episode 8650/10000\n",
      "Fitnesses: ['21.33']\n",
      "100 fitness avgs: ['15.80']\n"
     ]
    },
    {
     "name": "stderr",
     "output_type": "stream",
     "text": [
      " 87%|████████████████████████████▋    | 8699/10000 [12:01:52<1:55:46,  5.34s/it]"
     ]
    },
    {
     "name": "stdout",
     "output_type": "stream",
     "text": [
      "Episode 8700/10000\n",
      "Fitnesses: ['16.67']\n",
      "100 fitness avgs: ['15.84']\n"
     ]
    },
    {
     "name": "stderr",
     "output_type": "stream",
     "text": [
      " 87%|████████████████████████████▊    | 8749/10000 [12:06:07<1:50:39,  5.31s/it]"
     ]
    },
    {
     "name": "stdout",
     "output_type": "stream",
     "text": [
      "Episode 8750/10000\n",
      "Fitnesses: ['13.67']\n",
      "100 fitness avgs: ['15.85']\n"
     ]
    },
    {
     "name": "stderr",
     "output_type": "stream",
     "text": [
      " 88%|█████████████████████████████    | 8799/10000 [12:10:19<1:39:01,  4.95s/it]"
     ]
    },
    {
     "name": "stdout",
     "output_type": "stream",
     "text": [
      "Episode 8800/10000\n",
      "Fitnesses: ['11.33']\n",
      "100 fitness avgs: ['15.77']\n"
     ]
    },
    {
     "name": "stderr",
     "output_type": "stream",
     "text": [
      " 88%|█████████████████████████████▏   | 8849/10000 [12:14:30<1:48:31,  5.66s/it]"
     ]
    },
    {
     "name": "stdout",
     "output_type": "stream",
     "text": [
      "Episode 8850/10000\n",
      "Fitnesses: ['14.33']\n",
      "100 fitness avgs: ['15.79']\n"
     ]
    },
    {
     "name": "stderr",
     "output_type": "stream",
     "text": [
      " 89%|█████████████████████████████▎   | 8899/10000 [12:18:30<1:30:35,  4.94s/it]"
     ]
    },
    {
     "name": "stdout",
     "output_type": "stream",
     "text": [
      "Episode 8900/10000\n",
      "Fitnesses: ['10.00']\n",
      "100 fitness avgs: ['15.72']\n"
     ]
    },
    {
     "name": "stderr",
     "output_type": "stream",
     "text": [
      " 89%|█████████████████████████████▌   | 8949/10000 [12:22:45<1:11:31,  4.08s/it]"
     ]
    },
    {
     "name": "stdout",
     "output_type": "stream",
     "text": [
      "Episode 8950/10000\n",
      "Fitnesses: ['21.00']\n",
      "100 fitness avgs: ['15.76']\n"
     ]
    },
    {
     "name": "stderr",
     "output_type": "stream",
     "text": [
      " 90%|█████████████████████████████▋   | 8999/10000 [12:26:47<1:22:40,  4.96s/it]"
     ]
    },
    {
     "name": "stdout",
     "output_type": "stream",
     "text": [
      "Episode 9000/10000\n",
      "Fitnesses: ['21.00']\n",
      "100 fitness avgs: ['15.80']\n",
      "Save Model at ep  9000\n"
     ]
    },
    {
     "name": "stderr",
     "output_type": "stream",
     "text": [
      " 90%|█████████████████████████████▊   | 9049/10000 [12:30:54<1:24:23,  5.32s/it]"
     ]
    },
    {
     "name": "stdout",
     "output_type": "stream",
     "text": [
      "Episode 9050/10000\n",
      "Fitnesses: ['15.67']\n",
      "100 fitness avgs: ['15.85']\n"
     ]
    },
    {
     "name": "stderr",
     "output_type": "stream",
     "text": [
      " 91%|██████████████████████████████   | 9099/10000 [12:34:48<1:07:42,  4.51s/it]"
     ]
    },
    {
     "name": "stdout",
     "output_type": "stream",
     "text": [
      "Episode 9100/10000\n",
      "Fitnesses: ['17.33']\n",
      "100 fitness avgs: ['15.88']\n"
     ]
    },
    {
     "name": "stderr",
     "output_type": "stream",
     "text": [
      " 91%|██████████████████████████████▏  | 9149/10000 [12:38:54<1:04:01,  4.51s/it]"
     ]
    },
    {
     "name": "stdout",
     "output_type": "stream",
     "text": [
      "Episode 9150/10000\n",
      "Fitnesses: ['14.00']\n",
      "100 fitness avgs: ['15.88']\n"
     ]
    },
    {
     "name": "stderr",
     "output_type": "stream",
     "text": [
      " 92%|██████████████████████████████▎  | 9199/10000 [12:43:15<1:06:27,  4.98s/it]"
     ]
    },
    {
     "name": "stdout",
     "output_type": "stream",
     "text": [
      "Episode 9200/10000\n",
      "Fitnesses: ['15.67']\n",
      "100 fitness avgs: ['15.91']\n"
     ]
    },
    {
     "name": "stderr",
     "output_type": "stream",
     "text": [
      " 92%|████████████████████████████████▎  | 9249/10000 [12:47:34<57:46,  4.62s/it]"
     ]
    },
    {
     "name": "stdout",
     "output_type": "stream",
     "text": [
      "Episode 9250/10000\n",
      "Fitnesses: ['16.00']\n",
      "100 fitness avgs: ['15.92']\n"
     ]
    },
    {
     "name": "stderr",
     "output_type": "stream",
     "text": [
      " 93%|██████████████████████████████▋  | 9299/10000 [12:51:48<1:00:57,  5.22s/it]"
     ]
    },
    {
     "name": "stdout",
     "output_type": "stream",
     "text": [
      "Episode 9300/10000\n",
      "Fitnesses: ['15.00']\n",
      "100 fitness avgs: ['15.84']\n"
     ]
    },
    {
     "name": "stderr",
     "output_type": "stream",
     "text": [
      " 93%|████████████████████████████████▋  | 9349/10000 [12:55:53<54:48,  5.05s/it]"
     ]
    },
    {
     "name": "stdout",
     "output_type": "stream",
     "text": [
      "Episode 9350/10000\n",
      "Fitnesses: ['22.33']\n",
      "100 fitness avgs: ['15.91']\n"
     ]
    },
    {
     "name": "stderr",
     "output_type": "stream",
     "text": [
      " 94%|████████████████████████████████▉  | 9399/10000 [12:59:54<42:31,  4.24s/it]"
     ]
    },
    {
     "name": "stdout",
     "output_type": "stream",
     "text": [
      "Episode 9400/10000\n",
      "Fitnesses: ['17.00']\n",
      "100 fitness avgs: ['15.87']\n"
     ]
    },
    {
     "name": "stderr",
     "output_type": "stream",
     "text": [
      " 94%|█████████████████████████████████  | 9449/10000 [13:03:59<46:18,  5.04s/it]"
     ]
    },
    {
     "name": "stdout",
     "output_type": "stream",
     "text": [
      "Episode 9450/10000\n",
      "Fitnesses: ['14.00']\n",
      "100 fitness avgs: ['15.89']\n"
     ]
    },
    {
     "name": "stderr",
     "output_type": "stream",
     "text": [
      " 95%|█████████████████████████████████▏ | 9499/10000 [13:08:04<45:40,  5.47s/it]"
     ]
    },
    {
     "name": "stdout",
     "output_type": "stream",
     "text": [
      "Episode 9500/10000\n",
      "Fitnesses: ['20.67']\n",
      "100 fitness avgs: ['15.97']\n"
     ]
    },
    {
     "name": "stderr",
     "output_type": "stream",
     "text": [
      " 95%|█████████████████████████████████▍ | 9549/10000 [13:12:02<34:19,  4.57s/it]"
     ]
    },
    {
     "name": "stdout",
     "output_type": "stream",
     "text": [
      "Episode 9550/10000\n",
      "Fitnesses: ['11.67']\n",
      "100 fitness avgs: ['15.93']\n"
     ]
    },
    {
     "name": "stderr",
     "output_type": "stream",
     "text": [
      " 96%|█████████████████████████████████▌ | 9599/10000 [13:16:05<30:41,  4.59s/it]"
     ]
    },
    {
     "name": "stdout",
     "output_type": "stream",
     "text": [
      "Episode 9600/10000\n",
      "Fitnesses: ['16.33']\n",
      "100 fitness avgs: ['15.97']\n"
     ]
    },
    {
     "name": "stderr",
     "output_type": "stream",
     "text": [
      " 96%|█████████████████████████████████▊ | 9649/10000 [13:20:24<29:44,  5.09s/it]"
     ]
    },
    {
     "name": "stdout",
     "output_type": "stream",
     "text": [
      "Episode 9650/10000\n",
      "Fitnesses: ['14.67']\n",
      "100 fitness avgs: ['15.93']\n"
     ]
    },
    {
     "name": "stderr",
     "output_type": "stream",
     "text": [
      " 97%|█████████████████████████████████▉ | 9699/10000 [13:24:19<23:58,  4.78s/it]"
     ]
    },
    {
     "name": "stdout",
     "output_type": "stream",
     "text": [
      "Episode 9700/10000\n",
      "Fitnesses: ['19.67']\n",
      "100 fitness avgs: ['15.96']\n"
     ]
    },
    {
     "name": "stderr",
     "output_type": "stream",
     "text": [
      " 97%|██████████████████████████████████ | 9749/10000 [13:28:24<22:08,  5.29s/it]"
     ]
    },
    {
     "name": "stdout",
     "output_type": "stream",
     "text": [
      "Episode 9750/10000\n",
      "Fitnesses: ['15.67']\n",
      "100 fitness avgs: ['15.94']\n"
     ]
    },
    {
     "name": "stderr",
     "output_type": "stream",
     "text": [
      " 98%|██████████████████████████████████▎| 9799/10000 [13:32:15<15:32,  4.64s/it]"
     ]
    },
    {
     "name": "stdout",
     "output_type": "stream",
     "text": [
      "Episode 9800/10000\n",
      "Fitnesses: ['15.33']\n",
      "100 fitness avgs: ['15.90']\n"
     ]
    },
    {
     "name": "stderr",
     "output_type": "stream",
     "text": [
      " 98%|██████████████████████████████████▍| 9849/10000 [13:36:21<14:20,  5.70s/it]"
     ]
    },
    {
     "name": "stdout",
     "output_type": "stream",
     "text": [
      "Episode 9850/10000\n",
      "Fitnesses: ['13.33']\n",
      "100 fitness avgs: ['15.88']\n"
     ]
    },
    {
     "name": "stderr",
     "output_type": "stream",
     "text": [
      " 99%|██████████████████████████████████▋| 9899/10000 [13:40:33<09:19,  5.54s/it]"
     ]
    },
    {
     "name": "stdout",
     "output_type": "stream",
     "text": [
      "Episode 9900/10000\n",
      "Fitnesses: ['13.33']\n",
      "100 fitness avgs: ['15.83']\n"
     ]
    },
    {
     "name": "stderr",
     "output_type": "stream",
     "text": [
      " 99%|██████████████████████████████████▊| 9949/10000 [13:44:33<04:27,  5.24s/it]"
     ]
    },
    {
     "name": "stdout",
     "output_type": "stream",
     "text": [
      "Episode 9950/10000\n",
      "Fitnesses: ['14.33']\n",
      "100 fitness avgs: ['15.85']\n"
     ]
    },
    {
     "name": "stderr",
     "output_type": "stream",
     "text": [
      "100%|██████████████████████████████████▉| 9999/10000 [13:48:42<00:04,  4.67s/it]"
     ]
    },
    {
     "name": "stdout",
     "output_type": "stream",
     "text": [
      "Episode 10000/10000\n",
      "Fitnesses: ['13.00']\n",
      "100 fitness avgs: ['15.76']\n",
      "Save Model at ep  10000\n"
     ]
    },
    {
     "name": "stderr",
     "output_type": "stream",
     "text": [
      "100%|██████████████████████████████████| 10000/10000 [13:48:50<00:00,  4.97s/it]\n"
     ]
    },
    {
     "name": "stdout",
     "output_type": "stream",
     "text": [
      "\n",
      "Saving Files...\n",
      "Done.\n",
      "Start  :  20240325-0925\n",
      "End    :  20240325-2314\n",
      "Elapse :  13:48:54.160922\n"
     ]
    }
   ],
   "source": [
    "dt_start = datetime.datetime.now()\n",
    "print(\"Start  : \", dt_start.strftime(\"%Y%m%d-%H%M\"))\n",
    "\n",
    "if False: # 続きから実行\n",
    "    path_p = \"./result/20231231-1732/pickle-population.pkl\"\n",
    "    path_r = \"./result/20231231-1732/pickle-replaybuffer.pkl\"\n",
    "    path_t = \"./result/20231231-1732/pickle-tournament.pkl\"\n",
    "    path_m = \"./result/20231231-1732/pickle-mutations.pkl\"\n",
    "\n",
    "    %run script-1-train.py -dt $str_dt_now -pop $path_p -r $path_r -t $path_t -m $path_m\n",
    "\n",
    "else: # 新規実行\n",
    "\n",
    "    %run script-1-train.py -dt $str_dt_now\n",
    "\n",
    "dt_end = datetime.datetime.now()\n",
    "\n",
    "print(\"Start  : \", dt_start.strftime(\"%Y%m%d-%H%M\"))\n",
    "print(\"End    : \", dt_end.strftime(\"%Y%m%d-%H%M\"))\n",
    "print(\"Elapse : \", dt_end-dt_start)"
   ]
  },
  {
   "cell_type": "code",
   "execution_count": 5,
   "id": "0f1b4bc6-043a-48e4-ae2b-b83912f09b3b",
   "metadata": {
    "scrolled": true
   },
   "outputs": [
    {
     "name": "stderr",
     "output_type": "stream",
     "text": [
      "/home/user/work-DRLSS2024/venv-DRLSS2024/lib/python3.10/site-packages/pettingzoo/utils/conversions.py:232: UserWarning: The base environment `space_invaders_v2` does not have a `render_mode` defined.\n",
      "  warnings.warn(\n"
     ]
    },
    {
     "name": "stdout",
     "output_type": "stream",
     "text": [
      "terminated.\n",
      "474\n",
      "--------------- Episode: 0 ---------------\n",
      "Episodic Reward:  22.0\n",
      "first_0 reward: 10.0\n",
      "second_0 reward: 12.0\n",
      "Done.\n",
      "terminated.\n",
      "317\n",
      "--------------- Episode: 0 ---------------\n",
      "Episodic Reward:  9.0\n",
      "first_0 reward: 4.0\n",
      "second_0 reward: 5.0\n",
      "Done.\n",
      "terminated.\n",
      "944\n",
      "--------------- Episode: 0 ---------------\n",
      "Episodic Reward:  36.0\n",
      "first_0 reward: 18.0\n",
      "second_0 reward: 18.0\n",
      "Done.\n",
      "terminated.\n",
      "768\n",
      "--------------- Episode: 0 ---------------\n",
      "Episodic Reward:  31.0\n",
      "first_0 reward: 13.0\n",
      "second_0 reward: 18.0\n",
      "Done.\n",
      "terminated.\n",
      "532\n",
      "--------------- Episode: 0 ---------------\n",
      "Episodic Reward:  24.0\n",
      "first_0 reward: 15.0\n",
      "second_0 reward: 9.0\n",
      "Done.\n",
      "terminated.\n",
      "341\n",
      "--------------- Episode: 0 ---------------\n",
      "Episodic Reward:  13.0\n",
      "first_0 reward: 7.0\n",
      "second_0 reward: 6.0\n",
      "Done.\n",
      "terminated.\n",
      "252\n",
      "--------------- Episode: 0 ---------------\n",
      "Episodic Reward:  8.0\n",
      "first_0 reward: 4.0\n",
      "second_0 reward: 4.0\n",
      "Done.\n",
      "terminated.\n",
      "504\n",
      "--------------- Episode: 0 ---------------\n",
      "Episodic Reward:  23.0\n",
      "first_0 reward: 12.0\n",
      "second_0 reward: 11.0\n",
      "Done.\n",
      "terminated.\n",
      "577\n",
      "--------------- Episode: 0 ---------------\n",
      "Episodic Reward:  15.0\n",
      "first_0 reward: 9.0\n",
      "second_0 reward: 6.0\n",
      "Done.\n",
      "terminated.\n",
      "320\n",
      "--------------- Episode: 0 ---------------\n",
      "Episodic Reward:  8.0\n",
      "first_0 reward: 6.0\n",
      "second_0 reward: 2.0\n",
      "Done.\n",
      "terminated.\n",
      "255\n",
      "--------------- Episode: 0 ---------------\n",
      "Episodic Reward:  10.0\n",
      "first_0 reward: 5.0\n",
      "second_0 reward: 5.0\n",
      "Done.\n",
      "terminated.\n",
      "257\n",
      "--------------- Episode: 0 ---------------\n",
      "Episodic Reward:  10.0\n",
      "first_0 reward: 3.0\n",
      "second_0 reward: 7.0\n",
      "Done.\n",
      "terminated.\n",
      "287\n",
      "--------------- Episode: 0 ---------------\n",
      "Episodic Reward:  9.0\n",
      "first_0 reward: 5.0\n",
      "second_0 reward: 4.0\n",
      "Done.\n",
      "terminated.\n",
      "412\n",
      "--------------- Episode: 0 ---------------\n",
      "Episodic Reward:  21.0\n",
      "first_0 reward: 11.0\n",
      "second_0 reward: 10.0\n",
      "Done.\n",
      "terminated.\n",
      "283\n",
      "--------------- Episode: 0 ---------------\n",
      "Episodic Reward:  8.0\n",
      "first_0 reward: 3.0\n",
      "second_0 reward: 5.0\n",
      "Done.\n",
      "terminated.\n",
      "753\n",
      "--------------- Episode: 0 ---------------\n",
      "Episodic Reward:  29.0\n",
      "first_0 reward: 17.0\n",
      "second_0 reward: 12.0\n",
      "Done.\n",
      "terminated.\n",
      "601\n",
      "--------------- Episode: 0 ---------------\n",
      "Episodic Reward:  25.0\n",
      "first_0 reward: 10.0\n",
      "second_0 reward: 15.0\n",
      "Done.\n",
      "terminated.\n",
      "347\n",
      "--------------- Episode: 0 ---------------\n",
      "Episodic Reward:  11.0\n",
      "first_0 reward: 7.0\n",
      "second_0 reward: 4.0\n",
      "Done.\n",
      "terminated.\n",
      "278\n",
      "--------------- Episode: 0 ---------------\n",
      "Episodic Reward:  10.0\n",
      "first_0 reward: 3.0\n",
      "second_0 reward: 7.0\n",
      "Done.\n",
      "terminated.\n",
      "272\n",
      "--------------- Episode: 0 ---------------\n",
      "Episodic Reward:  10.0\n",
      "first_0 reward: 4.0\n",
      "second_0 reward: 6.0\n",
      "Done.\n"
     ]
    }
   ],
   "source": [
    "#%run script-2-play.py -dt $str_dt_now\n",
    "for _ in range(20):\n",
    "#while True:\n",
    "    %run script-2-play.py -dt \"20240325-0925\""
   ]
  },
  {
   "cell_type": "code",
   "execution_count": 27,
   "id": "fd62d1b5-7785-4023-8de1-0ff1f36b4239",
   "metadata": {},
   "outputs": [
    {
     "ename": "ModuleNotFoundError",
     "evalue": "No module named 'playsound'",
     "output_type": "error",
     "traceback": [
      "\u001b[0;31m---------------------------------------------------------------------------\u001b[0m",
      "\u001b[0;31mModuleNotFoundError\u001b[0m                       Traceback (most recent call last)",
      "Cell \u001b[0;32mIn[27], line 1\u001b[0m\n\u001b[0;32m----> 1\u001b[0m \u001b[38;5;28;01mimport\u001b[39;00m \u001b[38;5;21;01mplaysound\u001b[39;00m\n\u001b[1;32m      3\u001b[0m \u001b[38;5;28;01mwhile\u001b[39;00m \u001b[38;5;28;01mTrue\u001b[39;00m:\n\u001b[1;32m      4\u001b[0m     playsound\u001b[38;5;241m.\u001b[39mplaysound(\u001b[38;5;124m\"\u001b[39m\u001b[38;5;124mfireworks.mp3\u001b[39m\u001b[38;5;124m\"\u001b[39m)\n",
      "\u001b[0;31mModuleNotFoundError\u001b[0m: No module named 'playsound'"
     ]
    }
   ],
   "source": [
    "import playsound\n",
    "\n",
    "while True:\n",
    "    playsound.playsound(\"fireworks.mp3\")"
   ]
  },
  {
   "cell_type": "code",
   "execution_count": null,
   "id": "5d75d986-de09-4449-ab01-394fcb3ce289",
   "metadata": {},
   "outputs": [],
   "source": []
  },
  {
   "cell_type": "code",
   "execution_count": null,
   "id": "399259e0-3c85-4800-b574-e7f08d86b9b2",
   "metadata": {},
   "outputs": [],
   "source": []
  }
 ],
 "metadata": {
  "kernelspec": {
   "display_name": "Python 3 (ipykernel)",
   "language": "python",
   "name": "python3"
  },
  "language_info": {
   "codemirror_mode": {
    "name": "ipython",
    "version": 3
   },
   "file_extension": ".py",
   "mimetype": "text/x-python",
   "name": "python",
   "nbconvert_exporter": "python",
   "pygments_lexer": "ipython3",
   "version": "3.10.12"
  }
 },
 "nbformat": 4,
 "nbformat_minor": 5
}
