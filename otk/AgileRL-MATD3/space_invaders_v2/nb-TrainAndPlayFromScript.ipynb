{
 "cells": [
  {
   "cell_type": "markdown",
   "id": "ff4488f4",
   "metadata": {},
   "source": [
    "# AgileRL Space Invaders with MATD3\n",
    "https://docs.agilerl.com/en/latest/tutorials/pettingzoo/matd3.html"
   ]
  },
  {
   "cell_type": "code",
   "execution_count": null,
   "id": "dc69b66d-50af-4ab2-9c4b-8370ecd819d0",
   "metadata": {},
   "outputs": [],
   "source": [
    "!python -V"
   ]
  },
  {
   "cell_type": "code",
   "execution_count": 1,
   "id": "a9b039f0",
   "metadata": {},
   "outputs": [
    {
     "name": "stdout",
     "output_type": "stream",
     "text": [
      "Requirement already satisfied: pip in /Users/work/work-worldmodel2023/venv-mpe/lib/python3.8/site-packages (23.3.2)\n",
      "Collecting pip\n",
      "  Downloading pip-24.0-py3-none-any.whl.metadata (3.6 kB)\n",
      "Downloading pip-24.0-py3-none-any.whl (2.1 MB)\n",
      "\u001b[2K   \u001b[90m━━━━━━━━━━━━━━━━━━━━━━━━━━━━━━━━━━━━━━━━\u001b[0m \u001b[32m2.1/2.1 MB\u001b[0m \u001b[31m8.1 MB/s\u001b[0m eta \u001b[36m0:00:00\u001b[0m00:01\u001b[0m00:01\u001b[0mm\n",
      "\u001b[?25hInstalling collected packages: pip\n",
      "  Attempting uninstall: pip\n",
      "    Found existing installation: pip 23.3.2\n",
      "    Uninstalling pip-23.3.2:\n",
      "      Successfully uninstalled pip-23.3.2\n",
      "Successfully installed pip-24.0\n"
     ]
    }
   ],
   "source": [
    "!pip install --upgrade pip"
   ]
  },
  {
   "cell_type": "code",
   "execution_count": null,
   "id": "ba031e05-4822-4ce2-acfb-0cf92b11910e",
   "metadata": {},
   "outputs": [],
   "source": [
    "!pip install numpy==1.24.2"
   ]
  },
  {
   "cell_type": "code",
   "execution_count": null,
   "id": "6670f3ca-a919-4345-b839-ddc3eb2f55c1",
   "metadata": {},
   "outputs": [],
   "source": [
    "!pip install supersuit==3.9.0"
   ]
  },
  {
   "cell_type": "code",
   "execution_count": null,
   "id": "ffde7aa6-7e95-4624-9bbc-fe76009a7953",
   "metadata": {},
   "outputs": [],
   "source": [
    "#!pip install pettingzoo==1.23.1\n",
    "!pip install \"\"\"pettingzoo[classic,atari,mpe]==1.23.1\"\"\""
   ]
  },
  {
   "cell_type": "code",
   "execution_count": null,
   "id": "aebab40c-0002-49bd-ba96-16a3803f71ef",
   "metadata": {},
   "outputs": [],
   "source": [
    "!pip install agilerl==0.1.16"
   ]
  },
  {
   "cell_type": "code",
   "execution_count": null,
   "id": "ef7f6911-80b3-4924-a646-d109b2322441",
   "metadata": {},
   "outputs": [],
   "source": [
    "!pip install autorom==0.6.1"
   ]
  },
  {
   "cell_type": "code",
   "execution_count": null,
   "id": "ad7d0759-58a8-4e81-a8af-bed68b84eabc",
   "metadata": {},
   "outputs": [],
   "source": [
    "!AutoROM -y"
   ]
  },
  {
   "cell_type": "code",
   "execution_count": 2,
   "id": "cfadb438-9362-4b9d-9d05-ae54b857ffcf",
   "metadata": {
    "scrolled": true
   },
   "outputs": [
    {
     "name": "stdout",
     "output_type": "stream",
     "text": [
      "Requirement already satisfied: playsound in /Users/work/work-worldmodel2023/venv-mpe/lib/python3.8/site-packages (1.3.0)\n",
      "Requirement already satisfied: PyObjC in /Users/work/work-worldmodel2023/venv-mpe/lib/python3.8/site-packages (10.1)\n",
      "Requirement already satisfied: pyobjc-core==10.1 in /Users/work/work-worldmodel2023/venv-mpe/lib/python3.8/site-packages (from PyObjC) (10.1)\n",
      "Requirement already satisfied: pyobjc-framework-AddressBook==10.1 in /Users/work/work-worldmodel2023/venv-mpe/lib/python3.8/site-packages (from PyObjC) (10.1)\n",
      "Requirement already satisfied: pyobjc-framework-AppleScriptKit==10.1 in /Users/work/work-worldmodel2023/venv-mpe/lib/python3.8/site-packages (from PyObjC) (10.1)\n",
      "Requirement already satisfied: pyobjc-framework-ApplicationServices==10.1 in /Users/work/work-worldmodel2023/venv-mpe/lib/python3.8/site-packages (from PyObjC) (10.1)\n",
      "Requirement already satisfied: pyobjc-framework-Automator==10.1 in /Users/work/work-worldmodel2023/venv-mpe/lib/python3.8/site-packages (from PyObjC) (10.1)\n",
      "Requirement already satisfied: pyobjc-framework-CFNetwork==10.1 in /Users/work/work-worldmodel2023/venv-mpe/lib/python3.8/site-packages (from PyObjC) (10.1)\n",
      "Requirement already satisfied: pyobjc-framework-Cocoa==10.1 in /Users/work/work-worldmodel2023/venv-mpe/lib/python3.8/site-packages (from PyObjC) (10.1)\n",
      "Requirement already satisfied: pyobjc-framework-CoreAudio==10.1 in /Users/work/work-worldmodel2023/venv-mpe/lib/python3.8/site-packages (from PyObjC) (10.1)\n",
      "Requirement already satisfied: pyobjc-framework-CoreAudioKit==10.1 in /Users/work/work-worldmodel2023/venv-mpe/lib/python3.8/site-packages (from PyObjC) (10.1)\n",
      "Requirement already satisfied: pyobjc-framework-CoreData==10.1 in /Users/work/work-worldmodel2023/venv-mpe/lib/python3.8/site-packages (from PyObjC) (10.1)\n",
      "Requirement already satisfied: pyobjc-framework-CoreMIDI==10.1 in /Users/work/work-worldmodel2023/venv-mpe/lib/python3.8/site-packages (from PyObjC) (10.1)\n",
      "Requirement already satisfied: pyobjc-framework-CoreServices==10.1 in /Users/work/work-worldmodel2023/venv-mpe/lib/python3.8/site-packages (from PyObjC) (10.1)\n",
      "Requirement already satisfied: pyobjc-framework-CoreText==10.1 in /Users/work/work-worldmodel2023/venv-mpe/lib/python3.8/site-packages (from PyObjC) (10.1)\n",
      "Requirement already satisfied: pyobjc-framework-DiscRecording==10.1 in /Users/work/work-worldmodel2023/venv-mpe/lib/python3.8/site-packages (from PyObjC) (10.1)\n",
      "Requirement already satisfied: pyobjc-framework-DiscRecordingUI==10.1 in /Users/work/work-worldmodel2023/venv-mpe/lib/python3.8/site-packages (from PyObjC) (10.1)\n",
      "Requirement already satisfied: pyobjc-framework-DiskArbitration==10.1 in /Users/work/work-worldmodel2023/venv-mpe/lib/python3.8/site-packages (from PyObjC) (10.1)\n",
      "Requirement already satisfied: pyobjc-framework-DVDPlayback==10.1 in /Users/work/work-worldmodel2023/venv-mpe/lib/python3.8/site-packages (from PyObjC) (10.1)\n",
      "Requirement already satisfied: pyobjc-framework-ExceptionHandling==10.1 in /Users/work/work-worldmodel2023/venv-mpe/lib/python3.8/site-packages (from PyObjC) (10.1)\n",
      "Requirement already satisfied: pyobjc-framework-InstallerPlugins==10.1 in /Users/work/work-worldmodel2023/venv-mpe/lib/python3.8/site-packages (from PyObjC) (10.1)\n",
      "Requirement already satisfied: pyobjc-framework-IOBluetooth==10.1 in /Users/work/work-worldmodel2023/venv-mpe/lib/python3.8/site-packages (from PyObjC) (10.1)\n",
      "Requirement already satisfied: pyobjc-framework-IOBluetoothUI==10.1 in /Users/work/work-worldmodel2023/venv-mpe/lib/python3.8/site-packages (from PyObjC) (10.1)\n",
      "Requirement already satisfied: pyobjc-framework-LatentSemanticMapping==10.1 in /Users/work/work-worldmodel2023/venv-mpe/lib/python3.8/site-packages (from PyObjC) (10.1)\n",
      "Requirement already satisfied: pyobjc-framework-LaunchServices==10.1 in /Users/work/work-worldmodel2023/venv-mpe/lib/python3.8/site-packages (from PyObjC) (10.1)\n",
      "Requirement already satisfied: pyobjc-framework-OSAKit==10.1 in /Users/work/work-worldmodel2023/venv-mpe/lib/python3.8/site-packages (from PyObjC) (10.1)\n",
      "Requirement already satisfied: pyobjc-framework-PreferencePanes==10.1 in /Users/work/work-worldmodel2023/venv-mpe/lib/python3.8/site-packages (from PyObjC) (10.1)\n",
      "Requirement already satisfied: pyobjc-framework-Quartz==10.1 in /Users/work/work-worldmodel2023/venv-mpe/lib/python3.8/site-packages (from PyObjC) (10.1)\n",
      "Requirement already satisfied: pyobjc-framework-ScreenSaver==10.1 in /Users/work/work-worldmodel2023/venv-mpe/lib/python3.8/site-packages (from PyObjC) (10.1)\n",
      "Requirement already satisfied: pyobjc-framework-Security==10.1 in /Users/work/work-worldmodel2023/venv-mpe/lib/python3.8/site-packages (from PyObjC) (10.1)\n",
      "Requirement already satisfied: pyobjc-framework-SecurityFoundation==10.1 in /Users/work/work-worldmodel2023/venv-mpe/lib/python3.8/site-packages (from PyObjC) (10.1)\n",
      "Requirement already satisfied: pyobjc-framework-SecurityInterface==10.1 in /Users/work/work-worldmodel2023/venv-mpe/lib/python3.8/site-packages (from PyObjC) (10.1)\n",
      "Requirement already satisfied: pyobjc-framework-SearchKit==10.1 in /Users/work/work-worldmodel2023/venv-mpe/lib/python3.8/site-packages (from PyObjC) (10.1)\n",
      "Requirement already satisfied: pyobjc-framework-SyncServices==10.1 in /Users/work/work-worldmodel2023/venv-mpe/lib/python3.8/site-packages (from PyObjC) (10.1)\n",
      "Requirement already satisfied: pyobjc-framework-SystemConfiguration==10.1 in /Users/work/work-worldmodel2023/venv-mpe/lib/python3.8/site-packages (from PyObjC) (10.1)\n",
      "Requirement already satisfied: pyobjc-framework-WebKit==10.1 in /Users/work/work-worldmodel2023/venv-mpe/lib/python3.8/site-packages (from PyObjC) (10.1)\n",
      "Requirement already satisfied: pyobjc-framework-AppleScriptObjC==10.1 in /Users/work/work-worldmodel2023/venv-mpe/lib/python3.8/site-packages (from PyObjC) (10.1)\n",
      "Requirement already satisfied: pyobjc-framework-CoreLocation==10.1 in /Users/work/work-worldmodel2023/venv-mpe/lib/python3.8/site-packages (from PyObjC) (10.1)\n",
      "Requirement already satisfied: pyobjc-framework-CoreWLAN==10.1 in /Users/work/work-worldmodel2023/venv-mpe/lib/python3.8/site-packages (from PyObjC) (10.1)\n",
      "Requirement already satisfied: pyobjc-framework-ImageCaptureCore==10.1 in /Users/work/work-worldmodel2023/venv-mpe/lib/python3.8/site-packages (from PyObjC) (10.1)\n",
      "Requirement already satisfied: pyobjc-framework-IOSurface==10.1 in /Users/work/work-worldmodel2023/venv-mpe/lib/python3.8/site-packages (from PyObjC) (10.1)\n",
      "Requirement already satisfied: pyobjc-framework-NetFS==10.1 in /Users/work/work-worldmodel2023/venv-mpe/lib/python3.8/site-packages (from PyObjC) (10.1)\n",
      "Requirement already satisfied: pyobjc-framework-OpenDirectory==10.1 in /Users/work/work-worldmodel2023/venv-mpe/lib/python3.8/site-packages (from PyObjC) (10.1)\n",
      "Requirement already satisfied: pyobjc-framework-ServiceManagement==10.1 in /Users/work/work-worldmodel2023/venv-mpe/lib/python3.8/site-packages (from PyObjC) (10.1)\n",
      "Requirement already satisfied: pyobjc-framework-iTunesLibrary==10.1 in /Users/work/work-worldmodel2023/venv-mpe/lib/python3.8/site-packages (from PyObjC) (10.1)\n",
      "Requirement already satisfied: pyobjc-framework-AVFoundation==10.1 in /Users/work/work-worldmodel2023/venv-mpe/lib/python3.8/site-packages (from PyObjC) (10.1)\n",
      "Requirement already satisfied: pyobjc-framework-CoreMedia==10.1 in /Users/work/work-worldmodel2023/venv-mpe/lib/python3.8/site-packages (from PyObjC) (10.1)\n",
      "Requirement already satisfied: pyobjc-framework-CoreMediaIO==10.1 in /Users/work/work-worldmodel2023/venv-mpe/lib/python3.8/site-packages (from PyObjC) (10.1)\n",
      "Requirement already satisfied: pyobjc-framework-StoreKit==10.1 in /Users/work/work-worldmodel2023/venv-mpe/lib/python3.8/site-packages (from PyObjC) (10.1)\n",
      "Requirement already satisfied: pyobjc-framework-SceneKit==10.1 in /Users/work/work-worldmodel2023/venv-mpe/lib/python3.8/site-packages (from PyObjC) (10.1)\n",
      "Requirement already satisfied: pyobjc-framework-libdispatch==10.1 in /Users/work/work-worldmodel2023/venv-mpe/lib/python3.8/site-packages (from PyObjC) (10.1)\n",
      "Requirement already satisfied: pyobjc-framework-libxpc==10.1 in /Users/work/work-worldmodel2023/venv-mpe/lib/python3.8/site-packages (from PyObjC) (10.1)\n",
      "Requirement already satisfied: pyobjc-framework-AudioVideoBridging==10.1 in /Users/work/work-worldmodel2023/venv-mpe/lib/python3.8/site-packages (from PyObjC) (10.1)\n",
      "Requirement already satisfied: pyobjc-framework-Accounts==10.1 in /Users/work/work-worldmodel2023/venv-mpe/lib/python3.8/site-packages (from PyObjC) (10.1)\n",
      "Requirement already satisfied: pyobjc-framework-EventKit==10.1 in /Users/work/work-worldmodel2023/venv-mpe/lib/python3.8/site-packages (from PyObjC) (10.1)\n",
      "Requirement already satisfied: pyobjc-framework-GameCenter==10.1 in /Users/work/work-worldmodel2023/venv-mpe/lib/python3.8/site-packages (from PyObjC) (10.1)\n",
      "Requirement already satisfied: pyobjc-framework-Social==10.1 in /Users/work/work-worldmodel2023/venv-mpe/lib/python3.8/site-packages (from PyObjC) (10.1)\n",
      "Requirement already satisfied: pyobjc-framework-GameKit==10.1 in /Users/work/work-worldmodel2023/venv-mpe/lib/python3.8/site-packages (from PyObjC) (10.1)\n",
      "Requirement already satisfied: pyobjc-framework-VideoToolbox==10.1 in /Users/work/work-worldmodel2023/venv-mpe/lib/python3.8/site-packages (from PyObjC) (10.1)\n",
      "Requirement already satisfied: pyobjc-framework-AVKit==10.1 in /Users/work/work-worldmodel2023/venv-mpe/lib/python3.8/site-packages (from PyObjC) (10.1)\n",
      "Requirement already satisfied: pyobjc-framework-GameController==10.1 in /Users/work/work-worldmodel2023/venv-mpe/lib/python3.8/site-packages (from PyObjC) (10.1)\n",
      "Requirement already satisfied: pyobjc-framework-MapKit==10.1 in /Users/work/work-worldmodel2023/venv-mpe/lib/python3.8/site-packages (from PyObjC) (10.1)\n",
      "Requirement already satisfied: pyobjc-framework-MediaAccessibility==10.1 in /Users/work/work-worldmodel2023/venv-mpe/lib/python3.8/site-packages (from PyObjC) (10.1)\n",
      "Requirement already satisfied: pyobjc-framework-MediaLibrary==10.1 in /Users/work/work-worldmodel2023/venv-mpe/lib/python3.8/site-packages (from PyObjC) (10.1)\n",
      "Requirement already satisfied: pyobjc-framework-MediaToolbox==10.1 in /Users/work/work-worldmodel2023/venv-mpe/lib/python3.8/site-packages (from PyObjC) (10.1)\n",
      "Requirement already satisfied: pyobjc-framework-SpriteKit==10.1 in /Users/work/work-worldmodel2023/venv-mpe/lib/python3.8/site-packages (from PyObjC) (10.1)\n",
      "Requirement already satisfied: pyobjc-framework-CloudKit==10.1 in /Users/work/work-worldmodel2023/venv-mpe/lib/python3.8/site-packages (from PyObjC) (10.1)\n",
      "Requirement already satisfied: pyobjc-framework-CoreBluetooth==10.1 in /Users/work/work-worldmodel2023/venv-mpe/lib/python3.8/site-packages (from PyObjC) (10.1)\n",
      "Requirement already satisfied: pyobjc-framework-CryptoTokenKit==10.1 in /Users/work/work-worldmodel2023/venv-mpe/lib/python3.8/site-packages (from PyObjC) (10.1)\n",
      "Requirement already satisfied: pyobjc-framework-FinderSync==10.1 in /Users/work/work-worldmodel2023/venv-mpe/lib/python3.8/site-packages (from PyObjC) (10.1)\n",
      "Requirement already satisfied: pyobjc-framework-LocalAuthentication==10.1 in /Users/work/work-worldmodel2023/venv-mpe/lib/python3.8/site-packages (from PyObjC) (10.1)\n",
      "Requirement already satisfied: pyobjc-framework-MultipeerConnectivity==10.1 in /Users/work/work-worldmodel2023/venv-mpe/lib/python3.8/site-packages (from PyObjC) (10.1)\n",
      "Requirement already satisfied: pyobjc-framework-NotificationCenter==10.1 in /Users/work/work-worldmodel2023/venv-mpe/lib/python3.8/site-packages (from PyObjC) (10.1)\n",
      "Requirement already satisfied: pyobjc-framework-Contacts==10.1 in /Users/work/work-worldmodel2023/venv-mpe/lib/python3.8/site-packages (from PyObjC) (10.1)\n",
      "Requirement already satisfied: pyobjc-framework-ContactsUI==10.1 in /Users/work/work-worldmodel2023/venv-mpe/lib/python3.8/site-packages (from PyObjC) (10.1)\n",
      "Requirement already satisfied: pyobjc-framework-Metal==10.1 in /Users/work/work-worldmodel2023/venv-mpe/lib/python3.8/site-packages (from PyObjC) (10.1)\n",
      "Requirement already satisfied: pyobjc-framework-MetalKit==10.1 in /Users/work/work-worldmodel2023/venv-mpe/lib/python3.8/site-packages (from PyObjC) (10.1)\n",
      "Requirement already satisfied: pyobjc-framework-ModelIO==10.1 in /Users/work/work-worldmodel2023/venv-mpe/lib/python3.8/site-packages (from PyObjC) (10.1)\n",
      "Requirement already satisfied: pyobjc-framework-NetworkExtension==10.1 in /Users/work/work-worldmodel2023/venv-mpe/lib/python3.8/site-packages (from PyObjC) (10.1)\n",
      "Requirement already satisfied: pyobjc-framework-Photos==10.1 in /Users/work/work-worldmodel2023/venv-mpe/lib/python3.8/site-packages (from PyObjC) (10.1)\n",
      "Requirement already satisfied: pyobjc-framework-PhotosUI==10.1 in /Users/work/work-worldmodel2023/venv-mpe/lib/python3.8/site-packages (from PyObjC) (10.1)\n",
      "Requirement already satisfied: pyobjc-framework-GameplayKit==10.1 in /Users/work/work-worldmodel2023/venv-mpe/lib/python3.8/site-packages (from PyObjC) (10.1)\n",
      "Requirement already satisfied: pyobjc-framework-Intents==10.1 in /Users/work/work-worldmodel2023/venv-mpe/lib/python3.8/site-packages (from PyObjC) (10.1)\n",
      "Requirement already satisfied: pyobjc-framework-MediaPlayer==10.1 in /Users/work/work-worldmodel2023/venv-mpe/lib/python3.8/site-packages (from PyObjC) (10.1)\n",
      "Requirement already satisfied: pyobjc-framework-SafariServices==10.1 in /Users/work/work-worldmodel2023/venv-mpe/lib/python3.8/site-packages (from PyObjC) (10.1)\n",
      "Requirement already satisfied: pyobjc-framework-ColorSync==10.1 in /Users/work/work-worldmodel2023/venv-mpe/lib/python3.8/site-packages (from PyObjC) (10.1)\n",
      "Requirement already satisfied: pyobjc-framework-CoreML==10.1 in /Users/work/work-worldmodel2023/venv-mpe/lib/python3.8/site-packages (from PyObjC) (10.1)\n",
      "Requirement already satisfied: pyobjc-framework-CoreSpotlight==10.1 in /Users/work/work-worldmodel2023/venv-mpe/lib/python3.8/site-packages (from PyObjC) (10.1)\n",
      "Requirement already satisfied: pyobjc-framework-ExternalAccessory==10.1 in /Users/work/work-worldmodel2023/venv-mpe/lib/python3.8/site-packages (from PyObjC) (10.1)\n",
      "Requirement already satisfied: pyobjc-framework-MetalPerformanceShaders==10.1 in /Users/work/work-worldmodel2023/venv-mpe/lib/python3.8/site-packages (from PyObjC) (10.1)\n",
      "Requirement already satisfied: pyobjc-framework-Vision==10.1 in /Users/work/work-worldmodel2023/venv-mpe/lib/python3.8/site-packages (from PyObjC) (10.1)\n",
      "Requirement already satisfied: pyobjc-framework-AdSupport==10.1 in /Users/work/work-worldmodel2023/venv-mpe/lib/python3.8/site-packages (from PyObjC) (10.1)\n",
      "Requirement already satisfied: pyobjc-framework-BusinessChat==10.1 in /Users/work/work-worldmodel2023/venv-mpe/lib/python3.8/site-packages (from PyObjC) (10.1)\n",
      "Requirement already satisfied: pyobjc-framework-NaturalLanguage==10.1 in /Users/work/work-worldmodel2023/venv-mpe/lib/python3.8/site-packages (from PyObjC) (10.1)\n",
      "Requirement already satisfied: pyobjc-framework-Network==10.1 in /Users/work/work-worldmodel2023/venv-mpe/lib/python3.8/site-packages (from PyObjC) (10.1)\n",
      "Requirement already satisfied: pyobjc-framework-UserNotifications==10.1 in /Users/work/work-worldmodel2023/venv-mpe/lib/python3.8/site-packages (from PyObjC) (10.1)\n",
      "Requirement already satisfied: pyobjc-framework-VideoSubscriberAccount==10.1 in /Users/work/work-worldmodel2023/venv-mpe/lib/python3.8/site-packages (from PyObjC) (10.1)\n",
      "Requirement already satisfied: pyobjc-framework-AuthenticationServices==10.1 in /Users/work/work-worldmodel2023/venv-mpe/lib/python3.8/site-packages (from PyObjC) (10.1)\n",
      "Requirement already satisfied: pyobjc-framework-AutomaticAssessmentConfiguration==10.1 in /Users/work/work-worldmodel2023/venv-mpe/lib/python3.8/site-packages (from PyObjC) (10.1)\n",
      "Requirement already satisfied: pyobjc-framework-CoreHaptics==10.1 in /Users/work/work-worldmodel2023/venv-mpe/lib/python3.8/site-packages (from PyObjC) (10.1)\n",
      "Requirement already satisfied: pyobjc-framework-CoreMotion==10.1 in /Users/work/work-worldmodel2023/venv-mpe/lib/python3.8/site-packages (from PyObjC) (10.1)\n",
      "Requirement already satisfied: pyobjc-framework-DeviceCheck==10.1 in /Users/work/work-worldmodel2023/venv-mpe/lib/python3.8/site-packages (from PyObjC) (10.1)\n",
      "Requirement already satisfied: pyobjc-framework-ExecutionPolicy==10.1 in /Users/work/work-worldmodel2023/venv-mpe/lib/python3.8/site-packages (from PyObjC) (10.1)\n",
      "Requirement already satisfied: pyobjc-framework-FileProvider==10.1 in /Users/work/work-worldmodel2023/venv-mpe/lib/python3.8/site-packages (from PyObjC) (10.1)\n",
      "Requirement already satisfied: pyobjc-framework-FileProviderUI==10.1 in /Users/work/work-worldmodel2023/venv-mpe/lib/python3.8/site-packages (from PyObjC) (10.1)\n",
      "Requirement already satisfied: pyobjc-framework-LinkPresentation==10.1 in /Users/work/work-worldmodel2023/venv-mpe/lib/python3.8/site-packages (from PyObjC) (10.1)\n",
      "Requirement already satisfied: pyobjc-framework-OSLog==10.1 in /Users/work/work-worldmodel2023/venv-mpe/lib/python3.8/site-packages (from PyObjC) (10.1)\n",
      "Requirement already satisfied: pyobjc-framework-PencilKit==10.1 in /Users/work/work-worldmodel2023/venv-mpe/lib/python3.8/site-packages (from PyObjC) (10.1)\n",
      "Requirement already satisfied: pyobjc-framework-PushKit==10.1 in /Users/work/work-worldmodel2023/venv-mpe/lib/python3.8/site-packages (from PyObjC) (10.1)\n",
      "Requirement already satisfied: pyobjc-framework-QuickLookThumbnailing==10.1 in /Users/work/work-worldmodel2023/venv-mpe/lib/python3.8/site-packages (from PyObjC) (10.1)\n",
      "Requirement already satisfied: pyobjc-framework-Speech==10.1 in /Users/work/work-worldmodel2023/venv-mpe/lib/python3.8/site-packages (from PyObjC) (10.1)\n",
      "Requirement already satisfied: pyobjc-framework-SoundAnalysis==10.1 in /Users/work/work-worldmodel2023/venv-mpe/lib/python3.8/site-packages (from PyObjC) (10.1)\n",
      "Requirement already satisfied: pyobjc-framework-SystemExtensions==10.1 in /Users/work/work-worldmodel2023/venv-mpe/lib/python3.8/site-packages (from PyObjC) (10.1)\n",
      "Requirement already satisfied: pyobjc-framework-Accessibility==10.1 in /Users/work/work-worldmodel2023/venv-mpe/lib/python3.8/site-packages (from PyObjC) (10.1)\n",
      "Requirement already satisfied: pyobjc-framework-AdServices==10.1 in /Users/work/work-worldmodel2023/venv-mpe/lib/python3.8/site-packages (from PyObjC) (10.1)\n",
      "Requirement already satisfied: pyobjc-framework-AppTrackingTransparency==10.1 in /Users/work/work-worldmodel2023/venv-mpe/lib/python3.8/site-packages (from PyObjC) (10.1)\n",
      "Requirement already satisfied: pyobjc-framework-CallKit==10.1 in /Users/work/work-worldmodel2023/venv-mpe/lib/python3.8/site-packages (from PyObjC) (10.1)\n",
      "Requirement already satisfied: pyobjc-framework-ClassKit==10.1 in /Users/work/work-worldmodel2023/venv-mpe/lib/python3.8/site-packages (from PyObjC) (10.1)\n",
      "Requirement already satisfied: pyobjc-framework-KernelManagement==10.1 in /Users/work/work-worldmodel2023/venv-mpe/lib/python3.8/site-packages (from PyObjC) (10.1)\n",
      "Requirement already satisfied: pyobjc-framework-MetalPerformanceShadersGraph==10.1 in /Users/work/work-worldmodel2023/venv-mpe/lib/python3.8/site-packages (from PyObjC) (10.1)\n",
      "Requirement already satisfied: pyobjc-framework-MLCompute==10.1 in /Users/work/work-worldmodel2023/venv-mpe/lib/python3.8/site-packages (from PyObjC) (10.1)\n",
      "Requirement already satisfied: pyobjc-framework-PassKit==10.1 in /Users/work/work-worldmodel2023/venv-mpe/lib/python3.8/site-packages (from PyObjC) (10.1)\n",
      "Requirement already satisfied: pyobjc-framework-ReplayKit==10.1 in /Users/work/work-worldmodel2023/venv-mpe/lib/python3.8/site-packages (from PyObjC) (10.1)\n",
      "Requirement already satisfied: pyobjc-framework-ScreenTime==10.1 in /Users/work/work-worldmodel2023/venv-mpe/lib/python3.8/site-packages (from PyObjC) (10.1)\n",
      "Requirement already satisfied: pyobjc-framework-UniformTypeIdentifiers==10.1 in /Users/work/work-worldmodel2023/venv-mpe/lib/python3.8/site-packages (from PyObjC) (10.1)\n",
      "Requirement already satisfied: pyobjc-framework-UserNotificationsUI==10.1 in /Users/work/work-worldmodel2023/venv-mpe/lib/python3.8/site-packages (from PyObjC) (10.1)\n",
      "Requirement already satisfied: pyobjc-framework-Virtualization==10.1 in /Users/work/work-worldmodel2023/venv-mpe/lib/python3.8/site-packages (from PyObjC) (10.1)\n",
      "Requirement already satisfied: pyobjc-framework-DataDetection==10.1 in /Users/work/work-worldmodel2023/venv-mpe/lib/python3.8/site-packages (from PyObjC) (10.1)\n",
      "Requirement already satisfied: pyobjc-framework-IntentsUI==10.1 in /Users/work/work-worldmodel2023/venv-mpe/lib/python3.8/site-packages (from PyObjC) (10.1)\n",
      "Requirement already satisfied: pyobjc-framework-LocalAuthenticationEmbeddedUI==10.1 in /Users/work/work-worldmodel2023/venv-mpe/lib/python3.8/site-packages (from PyObjC) (10.1)\n",
      "Requirement already satisfied: pyobjc-framework-MailKit==10.1 in /Users/work/work-worldmodel2023/venv-mpe/lib/python3.8/site-packages (from PyObjC) (10.1)\n",
      "Requirement already satisfied: pyobjc-framework-MetricKit==10.1 in /Users/work/work-worldmodel2023/venv-mpe/lib/python3.8/site-packages (from PyObjC) (10.1)\n",
      "Requirement already satisfied: pyobjc-framework-PHASE==10.1 in /Users/work/work-worldmodel2023/venv-mpe/lib/python3.8/site-packages (from PyObjC) (10.1)\n",
      "Requirement already satisfied: pyobjc-framework-ShazamKit==10.1 in /Users/work/work-worldmodel2023/venv-mpe/lib/python3.8/site-packages (from PyObjC) (10.1)\n",
      "Requirement already satisfied: pyobjc-framework-ScreenCaptureKit==10.1 in /Users/work/work-worldmodel2023/venv-mpe/lib/python3.8/site-packages (from PyObjC) (10.1)\n",
      "Requirement already satisfied: pyobjc-framework-AVRouting==10.1 in /Users/work/work-worldmodel2023/venv-mpe/lib/python3.8/site-packages (from PyObjC) (10.1)\n",
      "Requirement already satisfied: pyobjc-framework-BackgroundAssets==10.1 in /Users/work/work-worldmodel2023/venv-mpe/lib/python3.8/site-packages (from PyObjC) (10.1)\n",
      "Requirement already satisfied: pyobjc-framework-ExtensionKit==10.1 in /Users/work/work-worldmodel2023/venv-mpe/lib/python3.8/site-packages (from PyObjC) (10.1)\n",
      "Requirement already satisfied: pyobjc-framework-HealthKit==10.1 in /Users/work/work-worldmodel2023/venv-mpe/lib/python3.8/site-packages (from PyObjC) (10.1)\n",
      "Requirement already satisfied: pyobjc-framework-MetalFX==10.1 in /Users/work/work-worldmodel2023/venv-mpe/lib/python3.8/site-packages (from PyObjC) (10.1)\n",
      "Requirement already satisfied: pyobjc-framework-SafetyKit==10.1 in /Users/work/work-worldmodel2023/venv-mpe/lib/python3.8/site-packages (from PyObjC) (10.1)\n",
      "Requirement already satisfied: pyobjc-framework-SharedWithYouCore==10.1 in /Users/work/work-worldmodel2023/venv-mpe/lib/python3.8/site-packages (from PyObjC) (10.1)\n",
      "Requirement already satisfied: pyobjc-framework-SharedWithYou==10.1 in /Users/work/work-worldmodel2023/venv-mpe/lib/python3.8/site-packages (from PyObjC) (10.1)\n",
      "Requirement already satisfied: pyobjc-framework-ThreadNetwork==10.1 in /Users/work/work-worldmodel2023/venv-mpe/lib/python3.8/site-packages (from PyObjC) (10.1)\n",
      "Collecting pyobjc-framework-Cinematic==10.1 (from PyObjC)\n",
      "  Downloading pyobjc_framework_Cinematic-10.1-py2.py3-none-any.whl.metadata (2.4 kB)\n",
      "Collecting pyobjc-framework-SensitiveContentAnalysis==10.1 (from PyObjC)\n",
      "  Downloading pyobjc_framework_SensitiveContentAnalysis-10.1-py2.py3-none-any.whl.metadata (2.3 kB)\n",
      "Collecting pyobjc-framework-Symbols==10.1 (from PyObjC)\n",
      "  Downloading pyobjc_framework_Symbols-10.1-py2.py3-none-any.whl.metadata (2.2 kB)\n",
      "Requirement already satisfied: pyobjc-framework-CalendarStore==10.1 in /Users/work/work-worldmodel2023/venv-mpe/lib/python3.8/site-packages (from PyObjC) (10.1)\n",
      "Requirement already satisfied: pyobjc-framework-Collaboration==10.1 in /Users/work/work-worldmodel2023/venv-mpe/lib/python3.8/site-packages (from PyObjC) (10.1)\n",
      "Requirement already satisfied: pyobjc-framework-DictionaryServices==10.1 in /Users/work/work-worldmodel2023/venv-mpe/lib/python3.8/site-packages (from PyObjC) (10.1)\n",
      "Requirement already satisfied: pyobjc-framework-FSEvents==10.1 in /Users/work/work-worldmodel2023/venv-mpe/lib/python3.8/site-packages (from PyObjC) (10.1)\n",
      "Requirement already satisfied: pyobjc-framework-InputMethodKit==10.1 in /Users/work/work-worldmodel2023/venv-mpe/lib/python3.8/site-packages (from PyObjC) (10.1)\n",
      "Requirement already satisfied: pyobjc-framework-InstantMessage==10.1 in /Users/work/work-worldmodel2023/venv-mpe/lib/python3.8/site-packages (from PyObjC) (10.1)\n",
      "Requirement already satisfied: pyobjc-framework-ScriptingBridge==10.1 in /Users/work/work-worldmodel2023/venv-mpe/lib/python3.8/site-packages (from PyObjC) (10.1)\n",
      "Downloading pyobjc_framework_Cinematic-10.1-py2.py3-none-any.whl (3.8 kB)\n",
      "Downloading pyobjc_framework_SensitiveContentAnalysis-10.1-py2.py3-none-any.whl (3.4 kB)\n",
      "Downloading pyobjc_framework_Symbols-10.1-py2.py3-none-any.whl (2.8 kB)\n",
      "Installing collected packages: pyobjc-framework-Symbols, pyobjc-framework-SensitiveContentAnalysis, pyobjc-framework-Cinematic\n",
      "Successfully installed pyobjc-framework-Cinematic-10.1 pyobjc-framework-SensitiveContentAnalysis-10.1 pyobjc-framework-Symbols-10.1\n"
     ]
    }
   ],
   "source": [
    "!python3 -m pip install playsound\n",
    "!python3 -m pip install PyObjC"
   ]
  },
  {
   "cell_type": "code",
   "execution_count": 5,
   "id": "e121a0f9-1465-4554-b1ea-3037edee934b",
   "metadata": {},
   "outputs": [
    {
     "name": "stdout",
     "output_type": "stream",
     "text": [
      "Collecting imageio\n",
      "  Downloading imageio-2.34.0-py3-none-any.whl.metadata (4.9 kB)\n",
      "Requirement already satisfied: numpy in /Users/work/work-worldmodel2023/venv-atari/lib/python3.10/site-packages (from imageio) (1.24.2)\n",
      "Requirement already satisfied: pillow>=8.3.2 in /Users/work/work-worldmodel2023/venv-atari/lib/python3.10/site-packages (from imageio) (10.2.0)\n",
      "Downloading imageio-2.34.0-py3-none-any.whl (313 kB)\n",
      "\u001b[2K   \u001b[90m━━━━━━━━━━━━━━━━━━━━━━━━━━━━━━━━━━━━━━━━\u001b[0m \u001b[32m313.4/313.4 kB\u001b[0m \u001b[31m4.5 MB/s\u001b[0m eta \u001b[36m0:00:00\u001b[0m00:01\u001b[0m\n",
      "\u001b[?25hInstalling collected packages: imageio\n",
      "Successfully installed imageio-2.34.0\n"
     ]
    }
   ],
   "source": [
    "!pip install imageio"
   ]
  },
  {
   "cell_type": "code",
   "execution_count": 8,
   "id": "650780a5-3d68-4be5-86f0-c82da80a1cbc",
   "metadata": {},
   "outputs": [
    {
     "name": "stdout",
     "output_type": "stream",
     "text": [
      "20240320-2145\n"
     ]
    }
   ],
   "source": [
    "#現在日時を取得\n",
    "import datetime\n",
    "\n",
    "if True: #新規採番\n",
    "    dt_now = datetime.datetime.now()\n",
    "    str_dt_now = dt_now.strftime(\"%Y%m%d-%H%M\")\n",
    "    print(str_dt_now)\n",
    "\n",
    "else: # 固定値\n",
    "    str_dt_now = \"20231231-1733\""
   ]
  },
  {
   "cell_type": "code",
   "execution_count": 9,
   "id": "947fe8d6-7155-469c-8ee5-462ded068335",
   "metadata": {},
   "outputs": [
    {
     "name": "stdout",
     "output_type": "stream",
     "text": [
      "/Users/work/work-worldmodel2023/WorldModel2023/otk/AgileRL-MATD3/space_invaders_v2\n"
     ]
    }
   ],
   "source": [
    "!pwd"
   ]
  },
  {
   "cell_type": "code",
   "execution_count": 10,
   "id": "b763bc86-f7c4-4ab5-adf3-98068042f627",
   "metadata": {},
   "outputs": [
    {
     "name": "stdout",
     "output_type": "stream",
     "text": [
      "===== AgileRL Online Multi-Agent Demo =====\n",
      "state_dim [(4, 84, 84), (4, 84, 84)]\n",
      "action_dim [6, 6]\n",
      "one_hot False\n",
      "NET_CONFIG\n",
      "{'arch': 'cnn',\n",
      " 'c_size': [3, 32],\n",
      " 'h_size': [32, 32],\n",
      " 'k_size': [[1, 3, 3], [1, 3, 3]],\n",
      " 'normalize': 'True',\n",
      " 's_size': [2, 2]}\n",
      "INIT_HP\n",
      "{'AGENT_IDS': ['first_0', 'second_0'],\n",
      " 'ALGO': 'MATD3',\n",
      " 'BATCH_SIZE': 64,\n",
      " 'CHANNELS_LAST': 'True',\n",
      " 'DISCRETE_ACTIONS': True,\n",
      " 'GAMMA': 0.95,\n",
      " 'LEARN_STEP': 5,\n",
      " 'LR': 0.01,\n",
      " 'MAX_ACTION': None,\n",
      " 'MEMORY_SIZE': 200000,\n",
      " 'MIN_ACTION': None,\n",
      " 'N_AGENTS': 2,\n",
      " 'POLICY_FREQ': 2,\n",
      " 'POPULATION_SIZE': 1,\n",
      " 'TAU': 0.01}\n",
      "device cpu\n"
     ]
    },
    {
     "name": "stderr",
     "output_type": "stream",
     "text": [
      "  0%|▌                                                                                                                                                                 | 35/10000 [04:02<19:10:41,  6.93s/it]\n"
     ]
    },
    {
     "ename": "KeyboardInterrupt",
     "evalue": "",
     "output_type": "error",
     "traceback": [
      "\u001b[0;31m---------------------------------------------------------------------------\u001b[0m",
      "\u001b[0;31mKeyboardInterrupt\u001b[0m                         Traceback (most recent call last)",
      "File \u001b[0;32m~/work-worldmodel2023/WorldModel2023/otk/AgileRL-MATD3/space_invaders_v2/script-1-train.py:296\u001b[0m\n\u001b[1;32m    291\u001b[0m \u001b[38;5;66;03m# Learn according to learning frequency\u001b[39;00m\n\u001b[1;32m    292\u001b[0m \u001b[38;5;66;03m# 学習周期に合わせて学習する\u001b[39;00m\n\u001b[1;32m    293\u001b[0m \u001b[38;5;28;01mif\u001b[39;00m (memory\u001b[38;5;241m.\u001b[39mcounter \u001b[38;5;241m%\u001b[39m agent\u001b[38;5;241m.\u001b[39mlearn_step \u001b[38;5;241m==\u001b[39m \u001b[38;5;241m0\u001b[39m) \u001b[38;5;129;01mand\u001b[39;00m (\n\u001b[1;32m    294\u001b[0m     \u001b[38;5;28mlen\u001b[39m(memory) \u001b[38;5;241m>\u001b[39m\u001b[38;5;241m=\u001b[39m agent\u001b[38;5;241m.\u001b[39mbatch_size\n\u001b[1;32m    295\u001b[0m ):\n\u001b[0;32m--> 296\u001b[0m     experiences \u001b[38;5;241m=\u001b[39m \u001b[43mmemory\u001b[49m\u001b[38;5;241;43m.\u001b[39;49m\u001b[43msample\u001b[49m\u001b[43m(\u001b[49m\n\u001b[1;32m    297\u001b[0m \u001b[43m        \u001b[49m\u001b[43magent\u001b[49m\u001b[38;5;241;43m.\u001b[39;49m\u001b[43mbatch_size\u001b[49m\n\u001b[1;32m    298\u001b[0m \u001b[43m    \u001b[49m\u001b[43m)\u001b[49m  \u001b[38;5;66;03m# Sample replay buffer\u001b[39;00m\n\u001b[1;32m    299\u001b[0m     agent\u001b[38;5;241m.\u001b[39mlearn(experiences)  \u001b[38;5;66;03m# Learn according to agent's RL algorithm\u001b[39;00m\n\u001b[1;32m    301\u001b[0m \u001b[38;5;66;03m# Update the state\u001b[39;00m\n\u001b[1;32m    302\u001b[0m \u001b[38;5;66;03m# 状態を更新する\u001b[39;00m\n",
      "File \u001b[0;32m~/work-worldmodel2023/venv-atari/lib/python3.10/site-packages/agilerl/components/multi_agent_replay_buffer.py:81\u001b[0m, in \u001b[0;36mMultiAgentReplayBuffer.sample\u001b[0;34m(self, batch_size)\u001b[0m\n\u001b[1;32m     75\u001b[0m \u001b[38;5;250m\u001b[39m\u001b[38;5;124;03m\"\"\"Returns sample of experiences from memory.\u001b[39;00m\n\u001b[1;32m     76\u001b[0m \n\u001b[1;32m     77\u001b[0m \u001b[38;5;124;03m:param batch_size: Number of samples to return\u001b[39;00m\n\u001b[1;32m     78\u001b[0m \u001b[38;5;124;03m:type batch_size: int\u001b[39;00m\n\u001b[1;32m     79\u001b[0m \u001b[38;5;124;03m\"\"\"\u001b[39;00m\n\u001b[1;32m     80\u001b[0m experiences \u001b[38;5;241m=\u001b[39m random\u001b[38;5;241m.\u001b[39msample(\u001b[38;5;28mself\u001b[39m\u001b[38;5;241m.\u001b[39mmemory, k\u001b[38;5;241m=\u001b[39mbatch_size)\n\u001b[0;32m---> 81\u001b[0m transition \u001b[38;5;241m=\u001b[39m \u001b[38;5;28;43mself\u001b[39;49m\u001b[38;5;241;43m.\u001b[39;49m\u001b[43m_process_transition\u001b[49m\u001b[43m(\u001b[49m\u001b[43mexperiences\u001b[49m\u001b[43m)\u001b[49m\n\u001b[1;32m     82\u001b[0m \u001b[38;5;28;01mreturn\u001b[39;00m \u001b[38;5;28mtuple\u001b[39m(transition\u001b[38;5;241m.\u001b[39mvalues())\n",
      "File \u001b[0;32m~/work-worldmodel2023/venv-atari/lib/python3.10/site-packages/agilerl/components/multi_agent_replay_buffer.py:64\u001b[0m, in \u001b[0;36mMultiAgentReplayBuffer._process_transition\u001b[0;34m(self, experiences, np_array)\u001b[0m\n\u001b[1;32m     60\u001b[0m     ts \u001b[38;5;241m=\u001b[39m ts\u001b[38;5;241m.\u001b[39mastype(np\u001b[38;5;241m.\u001b[39muint8)\n\u001b[1;32m     62\u001b[0m \u001b[38;5;28;01mif\u001b[39;00m \u001b[38;5;129;01mnot\u001b[39;00m np_array:\n\u001b[1;32m     63\u001b[0m     \u001b[38;5;66;03m# Handle torch tensor creation\u001b[39;00m\n\u001b[0;32m---> 64\u001b[0m     ts \u001b[38;5;241m=\u001b[39m \u001b[43mtorch\u001b[49m\u001b[38;5;241;43m.\u001b[39;49m\u001b[43mfrom_numpy\u001b[49m\u001b[43m(\u001b[49m\u001b[43mts\u001b[49m\u001b[43m)\u001b[49m\u001b[38;5;241;43m.\u001b[39;49m\u001b[43mfloat\u001b[49m\u001b[43m(\u001b[49m\u001b[43m)\u001b[49m\n\u001b[1;32m     66\u001b[0m     \u001b[38;5;66;03m# Place on device\u001b[39;00m\n\u001b[1;32m     67\u001b[0m     \u001b[38;5;28;01mif\u001b[39;00m \u001b[38;5;28mself\u001b[39m\u001b[38;5;241m.\u001b[39mdevice \u001b[38;5;129;01mis\u001b[39;00m \u001b[38;5;129;01mnot\u001b[39;00m \u001b[38;5;28;01mNone\u001b[39;00m:\n",
      "\u001b[0;31mKeyboardInterrupt\u001b[0m: "
     ]
    }
   ],
   "source": [
    "if False: # 続きから実行\n",
    "    path_p = \"./result/20231231-1732/pickle-population.pkl\"\n",
    "    path_r = \"./result/20231231-1732/pickle-replaybuffer.pkl\"\n",
    "    path_t = \"./result/20231231-1732/pickle-tournament.pkl\"\n",
    "    path_m = \"./result/20231231-1732/pickle-mutations.pkl\"\n",
    "\n",
    "    %run script-1-train.py -dt $str_dt_now -pop $path_p -r $path_r -t $path_t -m $path_m\n",
    "\n",
    "else: # 新規実行\n",
    "\n",
    "    %run script-1-train.py -dt $str_dt_now"
   ]
  },
  {
   "cell_type": "code",
   "execution_count": 11,
   "id": "0f1b4bc6-043a-48e4-ae2b-b83912f09b3b",
   "metadata": {},
   "outputs": [
    {
     "ename": "FileNotFoundError",
     "evalue": "[Errno 2] No such file or directory: './result/20240320-2145/MATD3_trained_agent.pt'",
     "output_type": "error",
     "traceback": [
      "\u001b[0;31m---------------------------------------------------------------------------\u001b[0m",
      "\u001b[0;31mFileNotFoundError\u001b[0m                         Traceback (most recent call last)",
      "File \u001b[0;32m~/work-worldmodel2023/WorldModel2023/otk/AgileRL-MATD3/space_invaders_v2/script-2-play.py:104\u001b[0m\n\u001b[1;32m    101\u001b[0m \u001b[38;5;66;03m# Load the saved algorithm into the MADDPG object\u001b[39;00m\n\u001b[1;32m    102\u001b[0m \u001b[38;5;66;03m#path = \"./models/MATD3/MATD3_trained_agent.pt\"\u001b[39;00m\n\u001b[1;32m    103\u001b[0m path \u001b[38;5;241m=\u001b[39m \u001b[38;5;124m\"\u001b[39m\u001b[38;5;124m./result/\u001b[39m\u001b[38;5;124m\"\u001b[39m\u001b[38;5;241m+\u001b[39margs\u001b[38;5;241m.\u001b[39mdatetime\u001b[38;5;241m+\u001b[39m\u001b[38;5;124m\"\u001b[39m\u001b[38;5;124m/MATD3_trained_agent.pt\u001b[39m\u001b[38;5;124m\"\u001b[39m\n\u001b[0;32m--> 104\u001b[0m \u001b[43mmatd3\u001b[49m\u001b[38;5;241;43m.\u001b[39;49m\u001b[43mloadCheckpoint\u001b[49m\u001b[43m(\u001b[49m\u001b[43mpath\u001b[49m\u001b[43m)\u001b[49m\n\u001b[1;32m    106\u001b[0m \u001b[38;5;66;03m# Define test loop parameters\u001b[39;00m\n\u001b[1;32m    107\u001b[0m episodes \u001b[38;5;241m=\u001b[39m \u001b[38;5;241m10\u001b[39m  \u001b[38;5;66;03m# Number of episodes to test agent on\u001b[39;00m\n",
      "File \u001b[0;32m~/work-worldmodel2023/venv-atari/lib/python3.10/site-packages/agilerl/algorithms/matd3.py:1026\u001b[0m, in \u001b[0;36mMATD3.loadCheckpoint\u001b[0;34m(self, path)\u001b[0m\n\u001b[1;32m   1020\u001b[0m \u001b[38;5;28;01mdef\u001b[39;00m \u001b[38;5;21mloadCheckpoint\u001b[39m(\u001b[38;5;28mself\u001b[39m, path):\n\u001b[1;32m   1021\u001b[0m \u001b[38;5;250m    \u001b[39m\u001b[38;5;124;03m\"\"\"Loads saved agent properties and network weights from checkpoint.\u001b[39;00m\n\u001b[1;32m   1022\u001b[0m \n\u001b[1;32m   1023\u001b[0m \u001b[38;5;124;03m    :param path: Location to load checkpoint from\u001b[39;00m\n\u001b[1;32m   1024\u001b[0m \u001b[38;5;124;03m    :type path: string\u001b[39;00m\n\u001b[1;32m   1025\u001b[0m \u001b[38;5;124;03m    \"\"\"\u001b[39;00m\n\u001b[0;32m-> 1026\u001b[0m     checkpoint \u001b[38;5;241m=\u001b[39m \u001b[43mtorch\u001b[49m\u001b[38;5;241;43m.\u001b[39;49m\u001b[43mload\u001b[49m\u001b[43m(\u001b[49m\u001b[43mpath\u001b[49m\u001b[43m,\u001b[49m\u001b[43m \u001b[49m\u001b[43mpickle_module\u001b[49m\u001b[38;5;241;43m=\u001b[39;49m\u001b[43mdill\u001b[49m\u001b[43m)\u001b[49m\n\u001b[1;32m   1027\u001b[0m     \u001b[38;5;28mself\u001b[39m\u001b[38;5;241m.\u001b[39mnet_config \u001b[38;5;241m=\u001b[39m checkpoint[\u001b[38;5;124m\"\u001b[39m\u001b[38;5;124mnet_config\u001b[39m\u001b[38;5;124m\"\u001b[39m]\n\u001b[1;32m   1028\u001b[0m     \u001b[38;5;28;01mif\u001b[39;00m \u001b[38;5;28mself\u001b[39m\u001b[38;5;241m.\u001b[39mnet_config \u001b[38;5;129;01mis\u001b[39;00m \u001b[38;5;129;01mnot\u001b[39;00m \u001b[38;5;28;01mNone\u001b[39;00m:\n",
      "File \u001b[0;32m~/work-worldmodel2023/venv-atari/lib/python3.10/site-packages/torch/serialization.py:998\u001b[0m, in \u001b[0;36mload\u001b[0;34m(f, map_location, pickle_module, weights_only, mmap, **pickle_load_args)\u001b[0m\n\u001b[1;32m    995\u001b[0m \u001b[38;5;28;01mif\u001b[39;00m \u001b[38;5;124m'\u001b[39m\u001b[38;5;124mencoding\u001b[39m\u001b[38;5;124m'\u001b[39m \u001b[38;5;129;01mnot\u001b[39;00m \u001b[38;5;129;01min\u001b[39;00m pickle_load_args\u001b[38;5;241m.\u001b[39mkeys():\n\u001b[1;32m    996\u001b[0m     pickle_load_args[\u001b[38;5;124m'\u001b[39m\u001b[38;5;124mencoding\u001b[39m\u001b[38;5;124m'\u001b[39m] \u001b[38;5;241m=\u001b[39m \u001b[38;5;124m'\u001b[39m\u001b[38;5;124mutf-8\u001b[39m\u001b[38;5;124m'\u001b[39m\n\u001b[0;32m--> 998\u001b[0m \u001b[38;5;28;01mwith\u001b[39;00m \u001b[43m_open_file_like\u001b[49m\u001b[43m(\u001b[49m\u001b[43mf\u001b[49m\u001b[43m,\u001b[49m\u001b[43m \u001b[49m\u001b[38;5;124;43m'\u001b[39;49m\u001b[38;5;124;43mrb\u001b[39;49m\u001b[38;5;124;43m'\u001b[39;49m\u001b[43m)\u001b[49m \u001b[38;5;28;01mas\u001b[39;00m opened_file:\n\u001b[1;32m    999\u001b[0m     \u001b[38;5;28;01mif\u001b[39;00m _is_zipfile(opened_file):\n\u001b[1;32m   1000\u001b[0m         \u001b[38;5;66;03m# The zipfile reader is going to advance the current file position.\u001b[39;00m\n\u001b[1;32m   1001\u001b[0m         \u001b[38;5;66;03m# If we want to actually tail call to torch.jit.load, we need to\u001b[39;00m\n\u001b[1;32m   1002\u001b[0m         \u001b[38;5;66;03m# reset back to the original position.\u001b[39;00m\n\u001b[1;32m   1003\u001b[0m         orig_position \u001b[38;5;241m=\u001b[39m opened_file\u001b[38;5;241m.\u001b[39mtell()\n",
      "File \u001b[0;32m~/work-worldmodel2023/venv-atari/lib/python3.10/site-packages/torch/serialization.py:445\u001b[0m, in \u001b[0;36m_open_file_like\u001b[0;34m(name_or_buffer, mode)\u001b[0m\n\u001b[1;32m    443\u001b[0m \u001b[38;5;28;01mdef\u001b[39;00m \u001b[38;5;21m_open_file_like\u001b[39m(name_or_buffer, mode):\n\u001b[1;32m    444\u001b[0m     \u001b[38;5;28;01mif\u001b[39;00m _is_path(name_or_buffer):\n\u001b[0;32m--> 445\u001b[0m         \u001b[38;5;28;01mreturn\u001b[39;00m \u001b[43m_open_file\u001b[49m\u001b[43m(\u001b[49m\u001b[43mname_or_buffer\u001b[49m\u001b[43m,\u001b[49m\u001b[43m \u001b[49m\u001b[43mmode\u001b[49m\u001b[43m)\u001b[49m\n\u001b[1;32m    446\u001b[0m     \u001b[38;5;28;01melse\u001b[39;00m:\n\u001b[1;32m    447\u001b[0m         \u001b[38;5;28;01mif\u001b[39;00m \u001b[38;5;124m'\u001b[39m\u001b[38;5;124mw\u001b[39m\u001b[38;5;124m'\u001b[39m \u001b[38;5;129;01min\u001b[39;00m mode:\n",
      "File \u001b[0;32m~/work-worldmodel2023/venv-atari/lib/python3.10/site-packages/torch/serialization.py:426\u001b[0m, in \u001b[0;36m_open_file.__init__\u001b[0;34m(self, name, mode)\u001b[0m\n\u001b[1;32m    425\u001b[0m \u001b[38;5;28;01mdef\u001b[39;00m \u001b[38;5;21m__init__\u001b[39m(\u001b[38;5;28mself\u001b[39m, name, mode):\n\u001b[0;32m--> 426\u001b[0m     \u001b[38;5;28msuper\u001b[39m()\u001b[38;5;241m.\u001b[39m\u001b[38;5;21m__init__\u001b[39m(\u001b[38;5;28;43mopen\u001b[39;49m\u001b[43m(\u001b[49m\u001b[43mname\u001b[49m\u001b[43m,\u001b[49m\u001b[43m \u001b[49m\u001b[43mmode\u001b[49m\u001b[43m)\u001b[49m)\n",
      "\u001b[0;31mFileNotFoundError\u001b[0m: [Errno 2] No such file or directory: './result/20240320-2145/MATD3_trained_agent.pt'"
     ]
    }
   ],
   "source": [
    "#%run script-2-play.py -dt $str_dt_now\n",
    "%run script-2-play.py -dt \"20240320-2145\""
   ]
  },
  {
   "cell_type": "code",
   "execution_count": 5,
   "id": "fd62d1b5-7785-4023-8de1-0ff1f36b4239",
   "metadata": {},
   "outputs": [
    {
     "ename": "KeyboardInterrupt",
     "evalue": "",
     "output_type": "error",
     "traceback": [
      "\u001b[0;31m---------------------------------------------------------------------------\u001b[0m",
      "\u001b[0;31mKeyboardInterrupt\u001b[0m                         Traceback (most recent call last)",
      "Cell \u001b[0;32mIn[5], line 4\u001b[0m\n\u001b[1;32m      1\u001b[0m \u001b[38;5;28;01mimport\u001b[39;00m \u001b[38;5;21;01mplaysound\u001b[39;00m\n\u001b[1;32m      3\u001b[0m \u001b[38;5;28;01mwhile\u001b[39;00m \u001b[38;5;28;01mTrue\u001b[39;00m:\n\u001b[0;32m----> 4\u001b[0m     \u001b[43mplaysound\u001b[49m\u001b[38;5;241;43m.\u001b[39;49m\u001b[43mplaysound\u001b[49m\u001b[43m(\u001b[49m\u001b[38;5;124;43m\"\u001b[39;49m\u001b[38;5;124;43mfireworks.mp3\u001b[39;49m\u001b[38;5;124;43m\"\u001b[39;49m\u001b[43m)\u001b[49m\n",
      "File \u001b[0;32m~/work-worldmodel2023/venv-mpe/lib/python3.8/site-packages/playsound.py:144\u001b[0m, in \u001b[0;36m_playsoundOSX\u001b[0;34m(sound, block)\u001b[0m\n\u001b[1;32m    141\u001b[0m nssound\u001b[38;5;241m.\u001b[39mplay()\n\u001b[1;32m    143\u001b[0m \u001b[38;5;28;01mif\u001b[39;00m block:\n\u001b[0;32m--> 144\u001b[0m     \u001b[43msleep\u001b[49m\u001b[43m(\u001b[49m\u001b[43mnssound\u001b[49m\u001b[38;5;241;43m.\u001b[39;49m\u001b[43mduration\u001b[49m\u001b[43m(\u001b[49m\u001b[43m)\u001b[49m\u001b[43m)\u001b[49m\n",
      "\u001b[0;31mKeyboardInterrupt\u001b[0m: "
     ]
    }
   ],
   "source": [
    "import playsound\n",
    "\n",
    "while True:\n",
    "    playsound.playsound(\"fireworks.mp3\")"
   ]
  },
  {
   "cell_type": "code",
   "execution_count": null,
   "id": "5d75d986-de09-4449-ab01-394fcb3ce289",
   "metadata": {},
   "outputs": [],
   "source": []
  },
  {
   "cell_type": "code",
   "execution_count": null,
   "id": "399259e0-3c85-4800-b574-e7f08d86b9b2",
   "metadata": {},
   "outputs": [],
   "source": []
  }
 ],
 "metadata": {
  "kernelspec": {
   "display_name": "Python 3 (ipykernel)",
   "language": "python",
   "name": "python3"
  },
  "language_info": {
   "codemirror_mode": {
    "name": "ipython",
    "version": 3
   },
   "file_extension": ".py",
   "mimetype": "text/x-python",
   "name": "python",
   "nbconvert_exporter": "python",
   "pygments_lexer": "ipython3",
   "version": "3.10.14"
  }
 },
 "nbformat": 4,
 "nbformat_minor": 5
}
