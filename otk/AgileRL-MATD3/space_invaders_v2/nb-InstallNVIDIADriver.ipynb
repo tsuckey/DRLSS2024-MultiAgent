{
 "cells": [
  {
   "cell_type": "code",
   "execution_count": 1,
   "id": "7e75dae7-90da-406a-8f7d-e564c80481f4",
   "metadata": {},
   "outputs": [
    {
     "name": "stdout",
     "output_type": "stream",
     "text": [
      "== /sys/devices/pci0000:00/0000:00:01.0/0000:01:00.0 ==\n",
      "modalias : pci:v000010DEd00001F08sv0000103Csd00008557bc03sc00i00\n",
      "vendor   : NVIDIA Corporation\n",
      "model    : TU106 [GeForce RTX 2060 Rev. A]\n",
      "driver   : nvidia-driver-470 - distro non-free\n",
      "driver   : nvidia-driver-535-server-open - distro non-free\n",
      "driver   : nvidia-driver-535-server - distro non-free\n",
      "driver   : nvidia-driver-545 - distro non-free\n",
      "driver   : nvidia-driver-525-open - distro non-free\n",
      "driver   : nvidia-driver-545-open - distro non-free\n",
      "driver   : nvidia-driver-535-open - distro non-free\n",
      "driver   : nvidia-driver-535 - distro non-free recommended\n",
      "driver   : nvidia-driver-418-server - distro non-free\n",
      "driver   : nvidia-driver-525 - distro non-free\n",
      "driver   : nvidia-driver-450-server - distro non-free\n",
      "driver   : nvidia-driver-470-server - distro non-free\n",
      "driver   : nvidia-driver-525-server - distro non-free\n",
      "driver   : xserver-xorg-video-nouveau - distro free builtin\n",
      "\n",
      "== /sys/devices/pci0000:00/0000:00:14.0/usb3/3-11/3-11:1.0 ==\n",
      "modalias : usb:v0BDAp0821d0200dcE0dsc01dp01icE0isc01ip01in00\n",
      "vendor   : Realtek Semiconductor Corp.\n",
      "model    : RTL8821A Bluetooth\n",
      "driver   : rtl8812au-dkms - distro free\n",
      "\n"
     ]
    }
   ],
   "source": [
    "!ubuntu-drivers devices"
   ]
  },
  {
   "cell_type": "code",
   "execution_count": 1,
   "id": "120f605a-e560-4815-9147-7596425326e1",
   "metadata": {},
   "outputs": [],
   "source": [
    "#!sudo apt install nvidia-driver-535"
   ]
  },
  {
   "cell_type": "code",
   "execution_count": 3,
   "id": "88123de8-3359-4b22-8d54-7806cd976dd4",
   "metadata": {},
   "outputs": [
    {
     "name": "stdout",
     "output_type": "stream",
     "text": [
      "Sun Mar 24 15:16:28 2024       \n",
      "+---------------------------------------------------------------------------------------+\n",
      "| NVIDIA-SMI 535.161.07             Driver Version: 535.161.07   CUDA Version: 12.2     |\n",
      "|-----------------------------------------+----------------------+----------------------+\n",
      "| GPU  Name                 Persistence-M | Bus-Id        Disp.A | Volatile Uncorr. ECC |\n",
      "| Fan  Temp   Perf          Pwr:Usage/Cap |         Memory-Usage | GPU-Util  Compute M. |\n",
      "|                                         |                      |               MIG M. |\n",
      "|=========================================+======================+======================|\n",
      "|   0  NVIDIA GeForce RTX 2060        Off | 00000000:01:00.0  On |                  N/A |\n",
      "| 43%   33C    P8              11W / 170W |    351MiB /  6144MiB |      7%      Default |\n",
      "|                                         |                      |                  N/A |\n",
      "+-----------------------------------------+----------------------+----------------------+\n",
      "                                                                                         \n",
      "+---------------------------------------------------------------------------------------+\n",
      "| Processes:                                                                            |\n",
      "|  GPU   GI   CI        PID   Type   Process name                            GPU Memory |\n",
      "|        ID   ID                                                             Usage      |\n",
      "|=======================================================================================|\n",
      "|    0   N/A  N/A       940      G   /usr/lib/xorg/Xorg                           78MiB |\n",
      "|    0   N/A  N/A      1222      G   /usr/bin/gnome-shell                        116MiB |\n",
      "|    0   N/A  N/A      1922      G   ...irefox/3836/usr/lib/firefox/firefox      153MiB |\n",
      "+---------------------------------------------------------------------------------------+\n"
     ]
    }
   ],
   "source": [
    "!nvidia-smi"
   ]
  },
  {
   "cell_type": "markdown",
   "id": "d6b9290f-fc69-4067-baa5-0ac2c9180091",
   "metadata": {},
   "source": [
    "***"
   ]
  },
  {
   "cell_type": "markdown",
   "id": "c2e57bdb-c53a-4854-a1b5-2ff97e3dd90e",
   "metadata": {},
   "source": [
    "https://developer.nvidia.com/cuda-12-2-2-download-archive?target_os=Linux&target_arch=x86_64&Distribution=Ubuntu&target_version=22.04&target_type=deb_local"
   ]
  },
  {
   "cell_type": "code",
   "execution_count": 10,
   "id": "41bf0b0c-b528-46e1-ae55-e10a64411249",
   "metadata": {},
   "outputs": [],
   "source": [
    "#sudo apt install nvidia-cuda-toolkit"
   ]
  },
  {
   "cell_type": "code",
   "execution_count": 13,
   "id": "d4bc5f0a-e9f7-483e-b0fb-d033d8a2a9b7",
   "metadata": {},
   "outputs": [],
   "source": [
    "!export PATH=/usr/local/cuda-12.2/bin:$PATH"
   ]
  },
  {
   "cell_type": "code",
   "execution_count": 14,
   "id": "50522e6a-6fb3-4b6a-a7e3-a73a894382d5",
   "metadata": {},
   "outputs": [],
   "source": [
    "!export LD_LIBRARY_PATH=/usr/local/cuda-12.2/lib64:$LD_LIBRARY_PATH"
   ]
  },
  {
   "cell_type": "code",
   "execution_count": 15,
   "id": "750bcdcf-83e1-44d5-9db4-9bc6981805af",
   "metadata": {},
   "outputs": [
    {
     "name": "stdout",
     "output_type": "stream",
     "text": [
      "/bin/bash: line 1: nvcc: command not found\n"
     ]
    }
   ],
   "source": [
    "!nvcc -V"
   ]
  },
  {
   "cell_type": "code",
   "execution_count": null,
   "id": "3c28bec7-0ece-42fc-a991-926ae0764b78",
   "metadata": {},
   "outputs": [],
   "source": []
  },
  {
   "cell_type": "code",
   "execution_count": 17,
   "id": "4041b55f-83a5-446f-8d7a-9df42ac07dbd",
   "metadata": {},
   "outputs": [
    {
     "name": "stdout",
     "output_type": "stream",
     "text": [
      "2.2.1+cu121\n"
     ]
    }
   ],
   "source": [
    "import torch\n",
    "\n",
    "print(torch.__version__)"
   ]
  },
  {
   "cell_type": "code",
   "execution_count": 18,
   "id": "97e7d8d7-2b35-4250-8437-b8ffc1f6593a",
   "metadata": {},
   "outputs": [
    {
     "name": "stdout",
     "output_type": "stream",
     "text": [
      "True\n"
     ]
    }
   ],
   "source": [
    "print(torch.cuda.is_available())"
   ]
  },
  {
   "cell_type": "code",
   "execution_count": 19,
   "id": "e31f6e81-23f1-4a03-b550-75bbf2a166c2",
   "metadata": {},
   "outputs": [
    {
     "name": "stdout",
     "output_type": "stream",
     "text": [
      "1\n"
     ]
    }
   ],
   "source": [
    "print(torch.cuda.device_count())"
   ]
  },
  {
   "cell_type": "code",
   "execution_count": 20,
   "id": "73598b1b-22aa-4226-b30e-7dcbd233853c",
   "metadata": {},
   "outputs": [
    {
     "name": "stdout",
     "output_type": "stream",
     "text": [
      "NVIDIA GeForce RTX 2060\n",
      "(7, 5)\n"
     ]
    }
   ],
   "source": [
    "print(torch.cuda.get_device_name())\n",
    "# GeForce GTX 1080 Ti\n",
    "\n",
    "print(torch.cuda.get_device_capability())"
   ]
  },
  {
   "cell_type": "code",
   "execution_count": null,
   "id": "021f62db-add7-47ef-9ed8-07beb3fd389b",
   "metadata": {},
   "outputs": [],
   "source": []
  }
 ],
 "metadata": {
  "kernelspec": {
   "display_name": "Python 3 (ipykernel)",
   "language": "python",
   "name": "python3"
  },
  "language_info": {
   "codemirror_mode": {
    "name": "ipython",
    "version": 3
   },
   "file_extension": ".py",
   "mimetype": "text/x-python",
   "name": "python",
   "nbconvert_exporter": "python",
   "pygments_lexer": "ipython3",
   "version": "3.10.12"
  }
 },
 "nbformat": 4,
 "nbformat_minor": 5
}
